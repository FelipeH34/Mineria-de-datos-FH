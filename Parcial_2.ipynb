{
  "nbformat": 4,
  "nbformat_minor": 0,
  "metadata": {
    "colab": {
      "provenance": [],
      "collapsed_sections": [
        "L8cwv31n9Hra",
        "CYajKY7aA0We",
        "Rhq1vcI2wBOz",
        "Ww5Cwu7MBr_e",
        "Osw8tuIuzPqI",
        "9XUy2BSsefxQ",
        "suPQbETee7fo",
        "uNaEjILCEmax",
        "D_MEqwlBGTRn",
        "McOmraLgQW2R"
      ]
    },
    "kernelspec": {
      "name": "python3",
      "display_name": "Python 3"
    },
    "language_info": {
      "name": "python"
    }
  },
  "cells": [
    {
      "cell_type": "markdown",
      "source": [
        "**Juan Felipe Herrera Rodriguez-parcial 2**"
      ],
      "metadata": {
        "id": "vJMAVveyBZmh"
      }
    },
    {
      "cell_type": "markdown",
      "source": [
        "**Librerias**"
      ],
      "metadata": {
        "id": "Vf8gWFIABUmU"
      }
    },
    {
      "cell_type": "code",
      "source": [
        "from google.colab import drive\n",
        "import pandas as pd\n",
        "import numpy as np\n",
        "drive.mount('/content/drive')"
      ],
      "metadata": {
        "colab": {
          "base_uri": "https://localhost:8080/"
        },
        "id": "ws2_k8N8BQEy",
        "outputId": "26ef0e6d-7443-451f-ec94-0da319a175b3"
      },
      "execution_count": null,
      "outputs": [
        {
          "output_type": "stream",
          "name": "stdout",
          "text": [
            "Mounted at /content/drive\n"
          ]
        }
      ]
    },
    {
      "cell_type": "markdown",
      "source": [
        "##Datos"
      ],
      "metadata": {
        "id": "L8cwv31n9Hra"
      }
    },
    {
      "cell_type": "code",
      "execution_count": 523,
      "metadata": {
        "colab": {
          "base_uri": "https://localhost:8080/",
          "height": 308
        },
        "id": "GTX0b6K72fpy",
        "outputId": "577e2769-019e-4181-fc8c-20a81be80fd8"
      },
      "outputs": [
        {
          "output_type": "stream",
          "name": "stderr",
          "text": [
            "/usr/local/lib/python3.7/dist-packages/IPython/core/interactiveshell.py:3326: FutureWarning: The error_bad_lines argument has been deprecated and will be removed in a future version.\n",
            "\n",
            "\n",
            "  exec(code_obj, self.user_global_ns, self.user_ns)\n"
          ]
        },
        {
          "output_type": "execute_result",
          "data": {
            "text/plain": [
              "  school sex  age address famsize Pstatus  Medu  Fedu     Mjob      Fjob  ...  \\\n",
              "0     GP   F   18       U     GT3       A     4     4  at_home   teacher  ...   \n",
              "1     GP   F   17       U     GT3       T     1     1  at_home     other  ...   \n",
              "2     GP   F   15       U     LE3       T     1     1  at_home     other  ...   \n",
              "3     GP   F   15       U     GT3       T     4     2   health  services  ...   \n",
              "4     GP   F   16       U     GT3       T     3     3    other     other  ...   \n",
              "\n",
              "  famrel freetime  goout  Dalc  Walc health absences  G1  G2  G3  \n",
              "0      4        3      4     1     1      3        4   0  11  11  \n",
              "1      5        3      3     1     1      3        2   9  11  11  \n",
              "2      4        3      2     2     3      3        6  12  13  12  \n",
              "3      3        2      2     1     1      5        0  14  14  14  \n",
              "4      4        3      2     1     2      5        0  11  13  13  \n",
              "\n",
              "[5 rows x 33 columns]"
            ],
            "text/html": [
              "\n",
              "  <div id=\"df-ed2a76d5-d24f-4260-8725-84226e42c9c6\">\n",
              "    <div class=\"colab-df-container\">\n",
              "      <div>\n",
              "<style scoped>\n",
              "    .dataframe tbody tr th:only-of-type {\n",
              "        vertical-align: middle;\n",
              "    }\n",
              "\n",
              "    .dataframe tbody tr th {\n",
              "        vertical-align: top;\n",
              "    }\n",
              "\n",
              "    .dataframe thead th {\n",
              "        text-align: right;\n",
              "    }\n",
              "</style>\n",
              "<table border=\"1\" class=\"dataframe\">\n",
              "  <thead>\n",
              "    <tr style=\"text-align: right;\">\n",
              "      <th></th>\n",
              "      <th>school</th>\n",
              "      <th>sex</th>\n",
              "      <th>age</th>\n",
              "      <th>address</th>\n",
              "      <th>famsize</th>\n",
              "      <th>Pstatus</th>\n",
              "      <th>Medu</th>\n",
              "      <th>Fedu</th>\n",
              "      <th>Mjob</th>\n",
              "      <th>Fjob</th>\n",
              "      <th>...</th>\n",
              "      <th>famrel</th>\n",
              "      <th>freetime</th>\n",
              "      <th>goout</th>\n",
              "      <th>Dalc</th>\n",
              "      <th>Walc</th>\n",
              "      <th>health</th>\n",
              "      <th>absences</th>\n",
              "      <th>G1</th>\n",
              "      <th>G2</th>\n",
              "      <th>G3</th>\n",
              "    </tr>\n",
              "  </thead>\n",
              "  <tbody>\n",
              "    <tr>\n",
              "      <th>0</th>\n",
              "      <td>GP</td>\n",
              "      <td>F</td>\n",
              "      <td>18</td>\n",
              "      <td>U</td>\n",
              "      <td>GT3</td>\n",
              "      <td>A</td>\n",
              "      <td>4</td>\n",
              "      <td>4</td>\n",
              "      <td>at_home</td>\n",
              "      <td>teacher</td>\n",
              "      <td>...</td>\n",
              "      <td>4</td>\n",
              "      <td>3</td>\n",
              "      <td>4</td>\n",
              "      <td>1</td>\n",
              "      <td>1</td>\n",
              "      <td>3</td>\n",
              "      <td>4</td>\n",
              "      <td>0</td>\n",
              "      <td>11</td>\n",
              "      <td>11</td>\n",
              "    </tr>\n",
              "    <tr>\n",
              "      <th>1</th>\n",
              "      <td>GP</td>\n",
              "      <td>F</td>\n",
              "      <td>17</td>\n",
              "      <td>U</td>\n",
              "      <td>GT3</td>\n",
              "      <td>T</td>\n",
              "      <td>1</td>\n",
              "      <td>1</td>\n",
              "      <td>at_home</td>\n",
              "      <td>other</td>\n",
              "      <td>...</td>\n",
              "      <td>5</td>\n",
              "      <td>3</td>\n",
              "      <td>3</td>\n",
              "      <td>1</td>\n",
              "      <td>1</td>\n",
              "      <td>3</td>\n",
              "      <td>2</td>\n",
              "      <td>9</td>\n",
              "      <td>11</td>\n",
              "      <td>11</td>\n",
              "    </tr>\n",
              "    <tr>\n",
              "      <th>2</th>\n",
              "      <td>GP</td>\n",
              "      <td>F</td>\n",
              "      <td>15</td>\n",
              "      <td>U</td>\n",
              "      <td>LE3</td>\n",
              "      <td>T</td>\n",
              "      <td>1</td>\n",
              "      <td>1</td>\n",
              "      <td>at_home</td>\n",
              "      <td>other</td>\n",
              "      <td>...</td>\n",
              "      <td>4</td>\n",
              "      <td>3</td>\n",
              "      <td>2</td>\n",
              "      <td>2</td>\n",
              "      <td>3</td>\n",
              "      <td>3</td>\n",
              "      <td>6</td>\n",
              "      <td>12</td>\n",
              "      <td>13</td>\n",
              "      <td>12</td>\n",
              "    </tr>\n",
              "    <tr>\n",
              "      <th>3</th>\n",
              "      <td>GP</td>\n",
              "      <td>F</td>\n",
              "      <td>15</td>\n",
              "      <td>U</td>\n",
              "      <td>GT3</td>\n",
              "      <td>T</td>\n",
              "      <td>4</td>\n",
              "      <td>2</td>\n",
              "      <td>health</td>\n",
              "      <td>services</td>\n",
              "      <td>...</td>\n",
              "      <td>3</td>\n",
              "      <td>2</td>\n",
              "      <td>2</td>\n",
              "      <td>1</td>\n",
              "      <td>1</td>\n",
              "      <td>5</td>\n",
              "      <td>0</td>\n",
              "      <td>14</td>\n",
              "      <td>14</td>\n",
              "      <td>14</td>\n",
              "    </tr>\n",
              "    <tr>\n",
              "      <th>4</th>\n",
              "      <td>GP</td>\n",
              "      <td>F</td>\n",
              "      <td>16</td>\n",
              "      <td>U</td>\n",
              "      <td>GT3</td>\n",
              "      <td>T</td>\n",
              "      <td>3</td>\n",
              "      <td>3</td>\n",
              "      <td>other</td>\n",
              "      <td>other</td>\n",
              "      <td>...</td>\n",
              "      <td>4</td>\n",
              "      <td>3</td>\n",
              "      <td>2</td>\n",
              "      <td>1</td>\n",
              "      <td>2</td>\n",
              "      <td>5</td>\n",
              "      <td>0</td>\n",
              "      <td>11</td>\n",
              "      <td>13</td>\n",
              "      <td>13</td>\n",
              "    </tr>\n",
              "  </tbody>\n",
              "</table>\n",
              "<p>5 rows × 33 columns</p>\n",
              "</div>\n",
              "      <button class=\"colab-df-convert\" onclick=\"convertToInteractive('df-ed2a76d5-d24f-4260-8725-84226e42c9c6')\"\n",
              "              title=\"Convert this dataframe to an interactive table.\"\n",
              "              style=\"display:none;\">\n",
              "        \n",
              "  <svg xmlns=\"http://www.w3.org/2000/svg\" height=\"24px\"viewBox=\"0 0 24 24\"\n",
              "       width=\"24px\">\n",
              "    <path d=\"M0 0h24v24H0V0z\" fill=\"none\"/>\n",
              "    <path d=\"M18.56 5.44l.94 2.06.94-2.06 2.06-.94-2.06-.94-.94-2.06-.94 2.06-2.06.94zm-11 1L8.5 8.5l.94-2.06 2.06-.94-2.06-.94L8.5 2.5l-.94 2.06-2.06.94zm10 10l.94 2.06.94-2.06 2.06-.94-2.06-.94-.94-2.06-.94 2.06-2.06.94z\"/><path d=\"M17.41 7.96l-1.37-1.37c-.4-.4-.92-.59-1.43-.59-.52 0-1.04.2-1.43.59L10.3 9.45l-7.72 7.72c-.78.78-.78 2.05 0 2.83L4 21.41c.39.39.9.59 1.41.59.51 0 1.02-.2 1.41-.59l7.78-7.78 2.81-2.81c.8-.78.8-2.07 0-2.86zM5.41 20L4 18.59l7.72-7.72 1.47 1.35L5.41 20z\"/>\n",
              "  </svg>\n",
              "      </button>\n",
              "      \n",
              "  <style>\n",
              "    .colab-df-container {\n",
              "      display:flex;\n",
              "      flex-wrap:wrap;\n",
              "      gap: 12px;\n",
              "    }\n",
              "\n",
              "    .colab-df-convert {\n",
              "      background-color: #E8F0FE;\n",
              "      border: none;\n",
              "      border-radius: 50%;\n",
              "      cursor: pointer;\n",
              "      display: none;\n",
              "      fill: #1967D2;\n",
              "      height: 32px;\n",
              "      padding: 0 0 0 0;\n",
              "      width: 32px;\n",
              "    }\n",
              "\n",
              "    .colab-df-convert:hover {\n",
              "      background-color: #E2EBFA;\n",
              "      box-shadow: 0px 1px 2px rgba(60, 64, 67, 0.3), 0px 1px 3px 1px rgba(60, 64, 67, 0.15);\n",
              "      fill: #174EA6;\n",
              "    }\n",
              "\n",
              "    [theme=dark] .colab-df-convert {\n",
              "      background-color: #3B4455;\n",
              "      fill: #D2E3FC;\n",
              "    }\n",
              "\n",
              "    [theme=dark] .colab-df-convert:hover {\n",
              "      background-color: #434B5C;\n",
              "      box-shadow: 0px 1px 3px 1px rgba(0, 0, 0, 0.15);\n",
              "      filter: drop-shadow(0px 1px 2px rgba(0, 0, 0, 0.3));\n",
              "      fill: #FFFFFF;\n",
              "    }\n",
              "  </style>\n",
              "\n",
              "      <script>\n",
              "        const buttonEl =\n",
              "          document.querySelector('#df-ed2a76d5-d24f-4260-8725-84226e42c9c6 button.colab-df-convert');\n",
              "        buttonEl.style.display =\n",
              "          google.colab.kernel.accessAllowed ? 'block' : 'none';\n",
              "\n",
              "        async function convertToInteractive(key) {\n",
              "          const element = document.querySelector('#df-ed2a76d5-d24f-4260-8725-84226e42c9c6');\n",
              "          const dataTable =\n",
              "            await google.colab.kernel.invokeFunction('convertToInteractive',\n",
              "                                                     [key], {});\n",
              "          if (!dataTable) return;\n",
              "\n",
              "          const docLinkHtml = 'Like what you see? Visit the ' +\n",
              "            '<a target=\"_blank\" href=https://colab.research.google.com/notebooks/data_table.ipynb>data table notebook</a>'\n",
              "            + ' to learn more about interactive tables.';\n",
              "          element.innerHTML = '';\n",
              "          dataTable['output_type'] = 'display_data';\n",
              "          await google.colab.output.renderOutput(dataTable, element);\n",
              "          const docLink = document.createElement('div');\n",
              "          docLink.innerHTML = docLinkHtml;\n",
              "          element.appendChild(docLink);\n",
              "        }\n",
              "      </script>\n",
              "    </div>\n",
              "  </div>\n",
              "  "
            ]
          },
          "metadata": {},
          "execution_count": 523
        }
      ],
      "source": [
        "df_por= pd.read_csv('/content/drive/MyDrive/Colab Notebooks/student-por.csv', \n",
        "                 sep = ';',\n",
        "                 error_bad_lines=False\n",
        "                 )\n",
        "df_por.head()"
      ]
    },
    {
      "cell_type": "markdown",
      "source": [
        "#Punto 1\n",
        "\n",
        "Verificación de calidad de datos y limpieza "
      ],
      "metadata": {
        "id": "CYajKY7aA0We"
      }
    },
    {
      "cell_type": "markdown",
      "source": [
        "1.1 Dimensión del conjunto de datos"
      ],
      "metadata": {
        "id": "9hCvolhdA_0N"
      }
    },
    {
      "cell_type": "code",
      "source": [
        "print('Portugal')\n",
        "print('Filas: ', df_por.shape[0])\n",
        "print('Columnas: ', df_por.shape[1])"
      ],
      "metadata": {
        "colab": {
          "base_uri": "https://localhost:8080/"
        },
        "id": "d8a234xTAM0N",
        "outputId": "9e07670e-811f-417c-9ef7-8997ba2304b1"
      },
      "execution_count": 524,
      "outputs": [
        {
          "output_type": "stream",
          "name": "stdout",
          "text": [
            "Portugal\n",
            "Filas:  649\n",
            "Columnas:  33\n"
          ]
        }
      ]
    },
    {
      "cell_type": "markdown",
      "source": [
        "1.2 Tipos de datos"
      ],
      "metadata": {
        "id": "ULqM_C4HBHIh"
      }
    },
    {
      "cell_type": "code",
      "source": [
        "df_por.dtypes"
      ],
      "metadata": {
        "colab": {
          "base_uri": "https://localhost:8080/"
        },
        "id": "BwkilL9uBL2y",
        "outputId": "08de63c2-c79d-41ab-b324-463b9751fbf7"
      },
      "execution_count": 525,
      "outputs": [
        {
          "output_type": "execute_result",
          "data": {
            "text/plain": [
              "school        object\n",
              "sex           object\n",
              "age            int64\n",
              "address       object\n",
              "famsize       object\n",
              "Pstatus       object\n",
              "Medu           int64\n",
              "Fedu           int64\n",
              "Mjob          object\n",
              "Fjob          object\n",
              "reason        object\n",
              "guardian      object\n",
              "traveltime     int64\n",
              "studytime      int64\n",
              "failures       int64\n",
              "schoolsup     object\n",
              "famsup        object\n",
              "paid          object\n",
              "activities    object\n",
              "nursery       object\n",
              "higher        object\n",
              "internet      object\n",
              "romantic      object\n",
              "famrel         int64\n",
              "freetime       int64\n",
              "goout          int64\n",
              "Dalc           int64\n",
              "Walc           int64\n",
              "health         int64\n",
              "absences       int64\n",
              "G1             int64\n",
              "G2             int64\n",
              "G3             int64\n",
              "dtype: object"
            ]
          },
          "metadata": {},
          "execution_count": 525
        }
      ]
    },
    {
      "cell_type": "markdown",
      "source": [
        "1.3 Datos faltantes"
      ],
      "metadata": {
        "id": "8M0zHlIBCBh8"
      }
    },
    {
      "cell_type": "code",
      "source": [
        "df_por.isnull()"
      ],
      "metadata": {
        "colab": {
          "base_uri": "https://localhost:8080/",
          "height": 424
        },
        "id": "tJPVUlTACGIK",
        "outputId": "312598f0-29e3-493e-a3e9-edb7594b4763"
      },
      "execution_count": 526,
      "outputs": [
        {
          "output_type": "execute_result",
          "data": {
            "text/plain": [
              "     school    sex    age  address  famsize  Pstatus   Medu   Fedu   Mjob  \\\n",
              "0     False  False  False    False    False    False  False  False  False   \n",
              "1     False  False  False    False    False    False  False  False  False   \n",
              "2     False  False  False    False    False    False  False  False  False   \n",
              "3     False  False  False    False    False    False  False  False  False   \n",
              "4     False  False  False    False    False    False  False  False  False   \n",
              "..      ...    ...    ...      ...      ...      ...    ...    ...    ...   \n",
              "644   False  False  False    False    False    False  False  False  False   \n",
              "645   False  False  False    False    False    False  False  False  False   \n",
              "646   False  False  False    False    False    False  False  False  False   \n",
              "647   False  False  False    False    False    False  False  False  False   \n",
              "648   False  False  False    False    False    False  False  False  False   \n",
              "\n",
              "      Fjob  ...  famrel  freetime  goout   Dalc   Walc  health  absences  \\\n",
              "0    False  ...   False     False  False  False  False   False     False   \n",
              "1    False  ...   False     False  False  False  False   False     False   \n",
              "2    False  ...   False     False  False  False  False   False     False   \n",
              "3    False  ...   False     False  False  False  False   False     False   \n",
              "4    False  ...   False     False  False  False  False   False     False   \n",
              "..     ...  ...     ...       ...    ...    ...    ...     ...       ...   \n",
              "644  False  ...   False     False  False  False  False   False     False   \n",
              "645  False  ...   False     False  False  False  False   False     False   \n",
              "646  False  ...   False     False  False  False  False   False     False   \n",
              "647  False  ...   False     False  False  False  False   False     False   \n",
              "648  False  ...   False     False  False  False  False   False     False   \n",
              "\n",
              "        G1     G2     G3  \n",
              "0    False  False  False  \n",
              "1    False  False  False  \n",
              "2    False  False  False  \n",
              "3    False  False  False  \n",
              "4    False  False  False  \n",
              "..     ...    ...    ...  \n",
              "644  False  False  False  \n",
              "645  False  False  False  \n",
              "646  False  False  False  \n",
              "647  False  False  False  \n",
              "648  False  False  False  \n",
              "\n",
              "[649 rows x 33 columns]"
            ],
            "text/html": [
              "\n",
              "  <div id=\"df-109ef2a5-9974-41d7-a6a7-c748c7f17db3\">\n",
              "    <div class=\"colab-df-container\">\n",
              "      <div>\n",
              "<style scoped>\n",
              "    .dataframe tbody tr th:only-of-type {\n",
              "        vertical-align: middle;\n",
              "    }\n",
              "\n",
              "    .dataframe tbody tr th {\n",
              "        vertical-align: top;\n",
              "    }\n",
              "\n",
              "    .dataframe thead th {\n",
              "        text-align: right;\n",
              "    }\n",
              "</style>\n",
              "<table border=\"1\" class=\"dataframe\">\n",
              "  <thead>\n",
              "    <tr style=\"text-align: right;\">\n",
              "      <th></th>\n",
              "      <th>school</th>\n",
              "      <th>sex</th>\n",
              "      <th>age</th>\n",
              "      <th>address</th>\n",
              "      <th>famsize</th>\n",
              "      <th>Pstatus</th>\n",
              "      <th>Medu</th>\n",
              "      <th>Fedu</th>\n",
              "      <th>Mjob</th>\n",
              "      <th>Fjob</th>\n",
              "      <th>...</th>\n",
              "      <th>famrel</th>\n",
              "      <th>freetime</th>\n",
              "      <th>goout</th>\n",
              "      <th>Dalc</th>\n",
              "      <th>Walc</th>\n",
              "      <th>health</th>\n",
              "      <th>absences</th>\n",
              "      <th>G1</th>\n",
              "      <th>G2</th>\n",
              "      <th>G3</th>\n",
              "    </tr>\n",
              "  </thead>\n",
              "  <tbody>\n",
              "    <tr>\n",
              "      <th>0</th>\n",
              "      <td>False</td>\n",
              "      <td>False</td>\n",
              "      <td>False</td>\n",
              "      <td>False</td>\n",
              "      <td>False</td>\n",
              "      <td>False</td>\n",
              "      <td>False</td>\n",
              "      <td>False</td>\n",
              "      <td>False</td>\n",
              "      <td>False</td>\n",
              "      <td>...</td>\n",
              "      <td>False</td>\n",
              "      <td>False</td>\n",
              "      <td>False</td>\n",
              "      <td>False</td>\n",
              "      <td>False</td>\n",
              "      <td>False</td>\n",
              "      <td>False</td>\n",
              "      <td>False</td>\n",
              "      <td>False</td>\n",
              "      <td>False</td>\n",
              "    </tr>\n",
              "    <tr>\n",
              "      <th>1</th>\n",
              "      <td>False</td>\n",
              "      <td>False</td>\n",
              "      <td>False</td>\n",
              "      <td>False</td>\n",
              "      <td>False</td>\n",
              "      <td>False</td>\n",
              "      <td>False</td>\n",
              "      <td>False</td>\n",
              "      <td>False</td>\n",
              "      <td>False</td>\n",
              "      <td>...</td>\n",
              "      <td>False</td>\n",
              "      <td>False</td>\n",
              "      <td>False</td>\n",
              "      <td>False</td>\n",
              "      <td>False</td>\n",
              "      <td>False</td>\n",
              "      <td>False</td>\n",
              "      <td>False</td>\n",
              "      <td>False</td>\n",
              "      <td>False</td>\n",
              "    </tr>\n",
              "    <tr>\n",
              "      <th>2</th>\n",
              "      <td>False</td>\n",
              "      <td>False</td>\n",
              "      <td>False</td>\n",
              "      <td>False</td>\n",
              "      <td>False</td>\n",
              "      <td>False</td>\n",
              "      <td>False</td>\n",
              "      <td>False</td>\n",
              "      <td>False</td>\n",
              "      <td>False</td>\n",
              "      <td>...</td>\n",
              "      <td>False</td>\n",
              "      <td>False</td>\n",
              "      <td>False</td>\n",
              "      <td>False</td>\n",
              "      <td>False</td>\n",
              "      <td>False</td>\n",
              "      <td>False</td>\n",
              "      <td>False</td>\n",
              "      <td>False</td>\n",
              "      <td>False</td>\n",
              "    </tr>\n",
              "    <tr>\n",
              "      <th>3</th>\n",
              "      <td>False</td>\n",
              "      <td>False</td>\n",
              "      <td>False</td>\n",
              "      <td>False</td>\n",
              "      <td>False</td>\n",
              "      <td>False</td>\n",
              "      <td>False</td>\n",
              "      <td>False</td>\n",
              "      <td>False</td>\n",
              "      <td>False</td>\n",
              "      <td>...</td>\n",
              "      <td>False</td>\n",
              "      <td>False</td>\n",
              "      <td>False</td>\n",
              "      <td>False</td>\n",
              "      <td>False</td>\n",
              "      <td>False</td>\n",
              "      <td>False</td>\n",
              "      <td>False</td>\n",
              "      <td>False</td>\n",
              "      <td>False</td>\n",
              "    </tr>\n",
              "    <tr>\n",
              "      <th>4</th>\n",
              "      <td>False</td>\n",
              "      <td>False</td>\n",
              "      <td>False</td>\n",
              "      <td>False</td>\n",
              "      <td>False</td>\n",
              "      <td>False</td>\n",
              "      <td>False</td>\n",
              "      <td>False</td>\n",
              "      <td>False</td>\n",
              "      <td>False</td>\n",
              "      <td>...</td>\n",
              "      <td>False</td>\n",
              "      <td>False</td>\n",
              "      <td>False</td>\n",
              "      <td>False</td>\n",
              "      <td>False</td>\n",
              "      <td>False</td>\n",
              "      <td>False</td>\n",
              "      <td>False</td>\n",
              "      <td>False</td>\n",
              "      <td>False</td>\n",
              "    </tr>\n",
              "    <tr>\n",
              "      <th>...</th>\n",
              "      <td>...</td>\n",
              "      <td>...</td>\n",
              "      <td>...</td>\n",
              "      <td>...</td>\n",
              "      <td>...</td>\n",
              "      <td>...</td>\n",
              "      <td>...</td>\n",
              "      <td>...</td>\n",
              "      <td>...</td>\n",
              "      <td>...</td>\n",
              "      <td>...</td>\n",
              "      <td>...</td>\n",
              "      <td>...</td>\n",
              "      <td>...</td>\n",
              "      <td>...</td>\n",
              "      <td>...</td>\n",
              "      <td>...</td>\n",
              "      <td>...</td>\n",
              "      <td>...</td>\n",
              "      <td>...</td>\n",
              "      <td>...</td>\n",
              "    </tr>\n",
              "    <tr>\n",
              "      <th>644</th>\n",
              "      <td>False</td>\n",
              "      <td>False</td>\n",
              "      <td>False</td>\n",
              "      <td>False</td>\n",
              "      <td>False</td>\n",
              "      <td>False</td>\n",
              "      <td>False</td>\n",
              "      <td>False</td>\n",
              "      <td>False</td>\n",
              "      <td>False</td>\n",
              "      <td>...</td>\n",
              "      <td>False</td>\n",
              "      <td>False</td>\n",
              "      <td>False</td>\n",
              "      <td>False</td>\n",
              "      <td>False</td>\n",
              "      <td>False</td>\n",
              "      <td>False</td>\n",
              "      <td>False</td>\n",
              "      <td>False</td>\n",
              "      <td>False</td>\n",
              "    </tr>\n",
              "    <tr>\n",
              "      <th>645</th>\n",
              "      <td>False</td>\n",
              "      <td>False</td>\n",
              "      <td>False</td>\n",
              "      <td>False</td>\n",
              "      <td>False</td>\n",
              "      <td>False</td>\n",
              "      <td>False</td>\n",
              "      <td>False</td>\n",
              "      <td>False</td>\n",
              "      <td>False</td>\n",
              "      <td>...</td>\n",
              "      <td>False</td>\n",
              "      <td>False</td>\n",
              "      <td>False</td>\n",
              "      <td>False</td>\n",
              "      <td>False</td>\n",
              "      <td>False</td>\n",
              "      <td>False</td>\n",
              "      <td>False</td>\n",
              "      <td>False</td>\n",
              "      <td>False</td>\n",
              "    </tr>\n",
              "    <tr>\n",
              "      <th>646</th>\n",
              "      <td>False</td>\n",
              "      <td>False</td>\n",
              "      <td>False</td>\n",
              "      <td>False</td>\n",
              "      <td>False</td>\n",
              "      <td>False</td>\n",
              "      <td>False</td>\n",
              "      <td>False</td>\n",
              "      <td>False</td>\n",
              "      <td>False</td>\n",
              "      <td>...</td>\n",
              "      <td>False</td>\n",
              "      <td>False</td>\n",
              "      <td>False</td>\n",
              "      <td>False</td>\n",
              "      <td>False</td>\n",
              "      <td>False</td>\n",
              "      <td>False</td>\n",
              "      <td>False</td>\n",
              "      <td>False</td>\n",
              "      <td>False</td>\n",
              "    </tr>\n",
              "    <tr>\n",
              "      <th>647</th>\n",
              "      <td>False</td>\n",
              "      <td>False</td>\n",
              "      <td>False</td>\n",
              "      <td>False</td>\n",
              "      <td>False</td>\n",
              "      <td>False</td>\n",
              "      <td>False</td>\n",
              "      <td>False</td>\n",
              "      <td>False</td>\n",
              "      <td>False</td>\n",
              "      <td>...</td>\n",
              "      <td>False</td>\n",
              "      <td>False</td>\n",
              "      <td>False</td>\n",
              "      <td>False</td>\n",
              "      <td>False</td>\n",
              "      <td>False</td>\n",
              "      <td>False</td>\n",
              "      <td>False</td>\n",
              "      <td>False</td>\n",
              "      <td>False</td>\n",
              "    </tr>\n",
              "    <tr>\n",
              "      <th>648</th>\n",
              "      <td>False</td>\n",
              "      <td>False</td>\n",
              "      <td>False</td>\n",
              "      <td>False</td>\n",
              "      <td>False</td>\n",
              "      <td>False</td>\n",
              "      <td>False</td>\n",
              "      <td>False</td>\n",
              "      <td>False</td>\n",
              "      <td>False</td>\n",
              "      <td>...</td>\n",
              "      <td>False</td>\n",
              "      <td>False</td>\n",
              "      <td>False</td>\n",
              "      <td>False</td>\n",
              "      <td>False</td>\n",
              "      <td>False</td>\n",
              "      <td>False</td>\n",
              "      <td>False</td>\n",
              "      <td>False</td>\n",
              "      <td>False</td>\n",
              "    </tr>\n",
              "  </tbody>\n",
              "</table>\n",
              "<p>649 rows × 33 columns</p>\n",
              "</div>\n",
              "      <button class=\"colab-df-convert\" onclick=\"convertToInteractive('df-109ef2a5-9974-41d7-a6a7-c748c7f17db3')\"\n",
              "              title=\"Convert this dataframe to an interactive table.\"\n",
              "              style=\"display:none;\">\n",
              "        \n",
              "  <svg xmlns=\"http://www.w3.org/2000/svg\" height=\"24px\"viewBox=\"0 0 24 24\"\n",
              "       width=\"24px\">\n",
              "    <path d=\"M0 0h24v24H0V0z\" fill=\"none\"/>\n",
              "    <path d=\"M18.56 5.44l.94 2.06.94-2.06 2.06-.94-2.06-.94-.94-2.06-.94 2.06-2.06.94zm-11 1L8.5 8.5l.94-2.06 2.06-.94-2.06-.94L8.5 2.5l-.94 2.06-2.06.94zm10 10l.94 2.06.94-2.06 2.06-.94-2.06-.94-.94-2.06-.94 2.06-2.06.94z\"/><path d=\"M17.41 7.96l-1.37-1.37c-.4-.4-.92-.59-1.43-.59-.52 0-1.04.2-1.43.59L10.3 9.45l-7.72 7.72c-.78.78-.78 2.05 0 2.83L4 21.41c.39.39.9.59 1.41.59.51 0 1.02-.2 1.41-.59l7.78-7.78 2.81-2.81c.8-.78.8-2.07 0-2.86zM5.41 20L4 18.59l7.72-7.72 1.47 1.35L5.41 20z\"/>\n",
              "  </svg>\n",
              "      </button>\n",
              "      \n",
              "  <style>\n",
              "    .colab-df-container {\n",
              "      display:flex;\n",
              "      flex-wrap:wrap;\n",
              "      gap: 12px;\n",
              "    }\n",
              "\n",
              "    .colab-df-convert {\n",
              "      background-color: #E8F0FE;\n",
              "      border: none;\n",
              "      border-radius: 50%;\n",
              "      cursor: pointer;\n",
              "      display: none;\n",
              "      fill: #1967D2;\n",
              "      height: 32px;\n",
              "      padding: 0 0 0 0;\n",
              "      width: 32px;\n",
              "    }\n",
              "\n",
              "    .colab-df-convert:hover {\n",
              "      background-color: #E2EBFA;\n",
              "      box-shadow: 0px 1px 2px rgba(60, 64, 67, 0.3), 0px 1px 3px 1px rgba(60, 64, 67, 0.15);\n",
              "      fill: #174EA6;\n",
              "    }\n",
              "\n",
              "    [theme=dark] .colab-df-convert {\n",
              "      background-color: #3B4455;\n",
              "      fill: #D2E3FC;\n",
              "    }\n",
              "\n",
              "    [theme=dark] .colab-df-convert:hover {\n",
              "      background-color: #434B5C;\n",
              "      box-shadow: 0px 1px 3px 1px rgba(0, 0, 0, 0.15);\n",
              "      filter: drop-shadow(0px 1px 2px rgba(0, 0, 0, 0.3));\n",
              "      fill: #FFFFFF;\n",
              "    }\n",
              "  </style>\n",
              "\n",
              "      <script>\n",
              "        const buttonEl =\n",
              "          document.querySelector('#df-109ef2a5-9974-41d7-a6a7-c748c7f17db3 button.colab-df-convert');\n",
              "        buttonEl.style.display =\n",
              "          google.colab.kernel.accessAllowed ? 'block' : 'none';\n",
              "\n",
              "        async function convertToInteractive(key) {\n",
              "          const element = document.querySelector('#df-109ef2a5-9974-41d7-a6a7-c748c7f17db3');\n",
              "          const dataTable =\n",
              "            await google.colab.kernel.invokeFunction('convertToInteractive',\n",
              "                                                     [key], {});\n",
              "          if (!dataTable) return;\n",
              "\n",
              "          const docLinkHtml = 'Like what you see? Visit the ' +\n",
              "            '<a target=\"_blank\" href=https://colab.research.google.com/notebooks/data_table.ipynb>data table notebook</a>'\n",
              "            + ' to learn more about interactive tables.';\n",
              "          element.innerHTML = '';\n",
              "          dataTable['output_type'] = 'display_data';\n",
              "          await google.colab.output.renderOutput(dataTable, element);\n",
              "          const docLink = document.createElement('div');\n",
              "          docLink.innerHTML = docLinkHtml;\n",
              "          element.appendChild(docLink);\n",
              "        }\n",
              "      </script>\n",
              "    </div>\n",
              "  </div>\n",
              "  "
            ]
          },
          "metadata": {},
          "execution_count": 526
        }
      ]
    },
    {
      "cell_type": "markdown",
      "source": [
        "* Número de valores faltantes por cada variable"
      ],
      "metadata": {
        "id": "f9-DP4pQFxgx"
      }
    },
    {
      "cell_type": "code",
      "source": [
        "df_por.isnull().sum()"
      ],
      "metadata": {
        "colab": {
          "base_uri": "https://localhost:8080/"
        },
        "id": "TJaA2VZRCRY4",
        "outputId": "9ebb08c8-94bf-45f7-9bdc-2e53f94002ca"
      },
      "execution_count": 527,
      "outputs": [
        {
          "output_type": "execute_result",
          "data": {
            "text/plain": [
              "school        0\n",
              "sex           2\n",
              "age           0\n",
              "address       0\n",
              "famsize       2\n",
              "Pstatus       2\n",
              "Medu          0\n",
              "Fedu          0\n",
              "Mjob          0\n",
              "Fjob          1\n",
              "reason        0\n",
              "guardian      2\n",
              "traveltime    0\n",
              "studytime     0\n",
              "failures      0\n",
              "schoolsup     0\n",
              "famsup        2\n",
              "paid          0\n",
              "activities    0\n",
              "nursery       1\n",
              "higher        1\n",
              "internet      0\n",
              "romantic      0\n",
              "famrel        0\n",
              "freetime      0\n",
              "goout         0\n",
              "Dalc          0\n",
              "Walc          0\n",
              "health        0\n",
              "absences      0\n",
              "G1            0\n",
              "G2            0\n",
              "G3            0\n",
              "dtype: int64"
            ]
          },
          "metadata": {},
          "execution_count": 527
        }
      ]
    },
    {
      "cell_type": "markdown",
      "source": [
        "\n",
        "\n",
        "*   Porcentaje de valores faltantes por cada variable \n",
        "\n"
      ],
      "metadata": {
        "id": "ncH_YWMCFM9W"
      }
    },
    {
      "cell_type": "code",
      "source": [
        "for col in df_por.columns:\n",
        "    num_missing = df_por[col].isnull().sum()\n",
        "    pct_missing = np.mean(df_por[col].isnull())\n",
        "    #print(col,\" - \",round(pct_missing*100, 2),\"% - \",num_missing)\n",
        "    print('{} - {}% - {}'.format(col,round(pct_missing*100, 2),num_missing))"
      ],
      "metadata": {
        "colab": {
          "base_uri": "https://localhost:8080/"
        },
        "id": "DWnFqB1vFO4x",
        "outputId": "4bc33cca-d1fe-45a5-858b-2518a001bc67"
      },
      "execution_count": 528,
      "outputs": [
        {
          "output_type": "stream",
          "name": "stdout",
          "text": [
            "school - 0.0% - 0\n",
            "sex - 0.31% - 2\n",
            "age - 0.0% - 0\n",
            "address - 0.0% - 0\n",
            "famsize - 0.31% - 2\n",
            "Pstatus - 0.31% - 2\n",
            "Medu - 0.0% - 0\n",
            "Fedu - 0.0% - 0\n",
            "Mjob - 0.0% - 0\n",
            "Fjob - 0.15% - 1\n",
            "reason - 0.0% - 0\n",
            "guardian - 0.31% - 2\n",
            "traveltime - 0.0% - 0\n",
            "studytime - 0.0% - 0\n",
            "failures - 0.0% - 0\n",
            "schoolsup - 0.0% - 0\n",
            "famsup - 0.31% - 2\n",
            "paid - 0.0% - 0\n",
            "activities - 0.0% - 0\n",
            "nursery - 0.15% - 1\n",
            "higher - 0.15% - 1\n",
            "internet - 0.0% - 0\n",
            "romantic - 0.0% - 0\n",
            "famrel - 0.0% - 0\n",
            "freetime - 0.0% - 0\n",
            "goout - 0.0% - 0\n",
            "Dalc - 0.0% - 0\n",
            "Walc - 0.0% - 0\n",
            "health - 0.0% - 0\n",
            "absences - 0.0% - 0\n",
            "G1 - 0.0% - 0\n",
            "G2 - 0.0% - 0\n",
            "G3 - 0.0% - 0\n"
          ]
        }
      ]
    },
    {
      "cell_type": "markdown",
      "source": [
        "* Imputación de datos faltantes\n",
        "\n",
        "  Variables cualitativas que presentan valores faltantes"
      ],
      "metadata": {
        "id": "9c8-FDzxJekm"
      }
    },
    {
      "cell_type": "code",
      "source": [
        "for col in df_por.columns:\n",
        "    missing = df_por[col].isnull()\n",
        "    num_missing = np.sum(missing)\n",
        "    \n",
        "    if num_missing > 0:  \n",
        "        print('Variable: {}'.format(col))"
      ],
      "metadata": {
        "colab": {
          "base_uri": "https://localhost:8080/"
        },
        "id": "ZOQzAacBJp1z",
        "outputId": "e705cad2-9e83-42d6-9d50-473c237b6ac9"
      },
      "execution_count": 529,
      "outputs": [
        {
          "output_type": "stream",
          "name": "stdout",
          "text": [
            "Variable: sex\n",
            "Variable: famsize\n",
            "Variable: Pstatus\n",
            "Variable: Fjob\n",
            "Variable: guardian\n",
            "Variable: famsup\n",
            "Variable: nursery\n",
            "Variable: higher\n"
          ]
        }
      ]
    },
    {
      "cell_type": "markdown",
      "source": [
        "Para las variables famsize, Fjob, Pstatus, guardian, higher y nursery, se optó por no realizar alguna imputación para los valores faltantes dado que no son de interés para estimar el modelo.\n",
        "\n",
        "Por otro lado, como la variable sex es de interés, se decidió borrar los dos registros perdidos, ya que estos representan el 0.31% de valores faltantes para la base y este no es un valor significativo o alto, por lo que no afectaria la estimación del modelo como variable independiente."
      ],
      "metadata": {
        "id": "436xQgjgUEQf"
      }
    },
    {
      "cell_type": "code",
      "source": [
        "df_por1 = df_por.dropna(subset=[\"sex\"])"
      ],
      "metadata": {
        "id": "pBpnQYKLkOMx"
      },
      "execution_count": 530,
      "outputs": []
    },
    {
      "cell_type": "markdown",
      "source": [
        "* Dimensión del conjunto de datos despúes de borrar registos"
      ],
      "metadata": {
        "id": "D5DGmDnxnGgC"
      }
    },
    {
      "cell_type": "code",
      "source": [
        "print('Portugal')\n",
        "print('Filas: ', df_por1.shape[0])\n",
        "print('Columnas: ', df_por1.shape[1])"
      ],
      "metadata": {
        "colab": {
          "base_uri": "https://localhost:8080/"
        },
        "id": "ylLzV728lYmy",
        "outputId": "fffe1351-c3a4-4937-d459-26db4f424b43"
      },
      "execution_count": 531,
      "outputs": [
        {
          "output_type": "stream",
          "name": "stdout",
          "text": [
            "Portugal\n",
            "Filas:  647\n",
            "Columnas:  33\n"
          ]
        }
      ]
    },
    {
      "cell_type": "markdown",
      "source": [
        " 1.4 Datos duplicados"
      ],
      "metadata": {
        "id": "82iQc982n9V-"
      }
    },
    {
      "cell_type": "code",
      "source": [
        "df_por2 = df_por1\n",
        "df_por2[df_por2.duplicated()]"
      ],
      "metadata": {
        "colab": {
          "base_uri": "https://localhost:8080/",
          "height": 79
        },
        "id": "b6B7q6scn8su",
        "outputId": "0c8f1786-c051-4bb2-c871-3ff0a5d5b682"
      },
      "execution_count": 532,
      "outputs": [
        {
          "output_type": "execute_result",
          "data": {
            "text/plain": [
              "Empty DataFrame\n",
              "Columns: [school, sex, age, address, famsize, Pstatus, Medu, Fedu, Mjob, Fjob, reason, guardian, traveltime, studytime, failures, schoolsup, famsup, paid, activities, nursery, higher, internet, romantic, famrel, freetime, goout, Dalc, Walc, health, absences, G1, G2, G3]\n",
              "Index: []\n",
              "\n",
              "[0 rows x 33 columns]"
            ],
            "text/html": [
              "\n",
              "  <div id=\"df-2351e0db-7099-44ba-a7fe-a334e7754dba\">\n",
              "    <div class=\"colab-df-container\">\n",
              "      <div>\n",
              "<style scoped>\n",
              "    .dataframe tbody tr th:only-of-type {\n",
              "        vertical-align: middle;\n",
              "    }\n",
              "\n",
              "    .dataframe tbody tr th {\n",
              "        vertical-align: top;\n",
              "    }\n",
              "\n",
              "    .dataframe thead th {\n",
              "        text-align: right;\n",
              "    }\n",
              "</style>\n",
              "<table border=\"1\" class=\"dataframe\">\n",
              "  <thead>\n",
              "    <tr style=\"text-align: right;\">\n",
              "      <th></th>\n",
              "      <th>school</th>\n",
              "      <th>sex</th>\n",
              "      <th>age</th>\n",
              "      <th>address</th>\n",
              "      <th>famsize</th>\n",
              "      <th>Pstatus</th>\n",
              "      <th>Medu</th>\n",
              "      <th>Fedu</th>\n",
              "      <th>Mjob</th>\n",
              "      <th>Fjob</th>\n",
              "      <th>...</th>\n",
              "      <th>famrel</th>\n",
              "      <th>freetime</th>\n",
              "      <th>goout</th>\n",
              "      <th>Dalc</th>\n",
              "      <th>Walc</th>\n",
              "      <th>health</th>\n",
              "      <th>absences</th>\n",
              "      <th>G1</th>\n",
              "      <th>G2</th>\n",
              "      <th>G3</th>\n",
              "    </tr>\n",
              "  </thead>\n",
              "  <tbody>\n",
              "  </tbody>\n",
              "</table>\n",
              "<p>0 rows × 33 columns</p>\n",
              "</div>\n",
              "      <button class=\"colab-df-convert\" onclick=\"convertToInteractive('df-2351e0db-7099-44ba-a7fe-a334e7754dba')\"\n",
              "              title=\"Convert this dataframe to an interactive table.\"\n",
              "              style=\"display:none;\">\n",
              "        \n",
              "  <svg xmlns=\"http://www.w3.org/2000/svg\" height=\"24px\"viewBox=\"0 0 24 24\"\n",
              "       width=\"24px\">\n",
              "    <path d=\"M0 0h24v24H0V0z\" fill=\"none\"/>\n",
              "    <path d=\"M18.56 5.44l.94 2.06.94-2.06 2.06-.94-2.06-.94-.94-2.06-.94 2.06-2.06.94zm-11 1L8.5 8.5l.94-2.06 2.06-.94-2.06-.94L8.5 2.5l-.94 2.06-2.06.94zm10 10l.94 2.06.94-2.06 2.06-.94-2.06-.94-.94-2.06-.94 2.06-2.06.94z\"/><path d=\"M17.41 7.96l-1.37-1.37c-.4-.4-.92-.59-1.43-.59-.52 0-1.04.2-1.43.59L10.3 9.45l-7.72 7.72c-.78.78-.78 2.05 0 2.83L4 21.41c.39.39.9.59 1.41.59.51 0 1.02-.2 1.41-.59l7.78-7.78 2.81-2.81c.8-.78.8-2.07 0-2.86zM5.41 20L4 18.59l7.72-7.72 1.47 1.35L5.41 20z\"/>\n",
              "  </svg>\n",
              "      </button>\n",
              "      \n",
              "  <style>\n",
              "    .colab-df-container {\n",
              "      display:flex;\n",
              "      flex-wrap:wrap;\n",
              "      gap: 12px;\n",
              "    }\n",
              "\n",
              "    .colab-df-convert {\n",
              "      background-color: #E8F0FE;\n",
              "      border: none;\n",
              "      border-radius: 50%;\n",
              "      cursor: pointer;\n",
              "      display: none;\n",
              "      fill: #1967D2;\n",
              "      height: 32px;\n",
              "      padding: 0 0 0 0;\n",
              "      width: 32px;\n",
              "    }\n",
              "\n",
              "    .colab-df-convert:hover {\n",
              "      background-color: #E2EBFA;\n",
              "      box-shadow: 0px 1px 2px rgba(60, 64, 67, 0.3), 0px 1px 3px 1px rgba(60, 64, 67, 0.15);\n",
              "      fill: #174EA6;\n",
              "    }\n",
              "\n",
              "    [theme=dark] .colab-df-convert {\n",
              "      background-color: #3B4455;\n",
              "      fill: #D2E3FC;\n",
              "    }\n",
              "\n",
              "    [theme=dark] .colab-df-convert:hover {\n",
              "      background-color: #434B5C;\n",
              "      box-shadow: 0px 1px 3px 1px rgba(0, 0, 0, 0.15);\n",
              "      filter: drop-shadow(0px 1px 2px rgba(0, 0, 0, 0.3));\n",
              "      fill: #FFFFFF;\n",
              "    }\n",
              "  </style>\n",
              "\n",
              "      <script>\n",
              "        const buttonEl =\n",
              "          document.querySelector('#df-2351e0db-7099-44ba-a7fe-a334e7754dba button.colab-df-convert');\n",
              "        buttonEl.style.display =\n",
              "          google.colab.kernel.accessAllowed ? 'block' : 'none';\n",
              "\n",
              "        async function convertToInteractive(key) {\n",
              "          const element = document.querySelector('#df-2351e0db-7099-44ba-a7fe-a334e7754dba');\n",
              "          const dataTable =\n",
              "            await google.colab.kernel.invokeFunction('convertToInteractive',\n",
              "                                                     [key], {});\n",
              "          if (!dataTable) return;\n",
              "\n",
              "          const docLinkHtml = 'Like what you see? Visit the ' +\n",
              "            '<a target=\"_blank\" href=https://colab.research.google.com/notebooks/data_table.ipynb>data table notebook</a>'\n",
              "            + ' to learn more about interactive tables.';\n",
              "          element.innerHTML = '';\n",
              "          dataTable['output_type'] = 'display_data';\n",
              "          await google.colab.output.renderOutput(dataTable, element);\n",
              "          const docLink = document.createElement('div');\n",
              "          docLink.innerHTML = docLinkHtml;\n",
              "          element.appendChild(docLink);\n",
              "        }\n",
              "      </script>\n",
              "    </div>\n",
              "  </div>\n",
              "  "
            ]
          },
          "metadata": {},
          "execution_count": 532
        }
      ]
    },
    {
      "cell_type": "markdown",
      "source": [
        "No existen datos duplicados en el conjunto de datos."
      ],
      "metadata": {
        "id": "NT8JXCYRoYE1"
      }
    },
    {
      "cell_type": "markdown",
      "source": [
        "1.5 Consistencia en el conjunto de datos"
      ],
      "metadata": {
        "id": "iSTpewadqfPO"
      }
    },
    {
      "cell_type": "code",
      "source": [
        "df_por1.dtypes"
      ],
      "metadata": {
        "colab": {
          "base_uri": "https://localhost:8080/"
        },
        "id": "5UM225vIq65N",
        "outputId": "100c4d26-f388-47b7-b540-a7d95a64438e"
      },
      "execution_count": 533,
      "outputs": [
        {
          "output_type": "execute_result",
          "data": {
            "text/plain": [
              "school        object\n",
              "sex           object\n",
              "age            int64\n",
              "address       object\n",
              "famsize       object\n",
              "Pstatus       object\n",
              "Medu           int64\n",
              "Fedu           int64\n",
              "Mjob          object\n",
              "Fjob          object\n",
              "reason        object\n",
              "guardian      object\n",
              "traveltime     int64\n",
              "studytime      int64\n",
              "failures       int64\n",
              "schoolsup     object\n",
              "famsup        object\n",
              "paid          object\n",
              "activities    object\n",
              "nursery       object\n",
              "higher        object\n",
              "internet      object\n",
              "romantic      object\n",
              "famrel         int64\n",
              "freetime       int64\n",
              "goout          int64\n",
              "Dalc           int64\n",
              "Walc           int64\n",
              "health         int64\n",
              "absences       int64\n",
              "G1             int64\n",
              "G2             int64\n",
              "G3             int64\n",
              "dtype: object"
            ]
          },
          "metadata": {},
          "execution_count": 533
        }
      ]
    },
    {
      "cell_type": "markdown",
      "source": [
        "##Consistencia en datos categóricos/cualitativos"
      ],
      "metadata": {
        "id": "wvFHTy-cqpCY"
      }
    },
    {
      "cell_type": "code",
      "source": [
        "df_por1['school'].value_counts()"
      ],
      "metadata": {
        "colab": {
          "base_uri": "https://localhost:8080/"
        },
        "id": "8lIQ4Btksmsy",
        "outputId": "466fee48-fec5-441b-cb7e-dc9c070cf687"
      },
      "execution_count": 587,
      "outputs": [
        {
          "output_type": "execute_result",
          "data": {
            "text/plain": [
              "GP    419\n",
              "MS    225\n",
              "Name: school, dtype: int64"
            ]
          },
          "metadata": {},
          "execution_count": 587
        }
      ]
    },
    {
      "cell_type": "code",
      "source": [
        "print(df_por1['sex'].value_counts())"
      ],
      "metadata": {
        "colab": {
          "base_uri": "https://localhost:8080/"
        },
        "id": "fKkoNGErt6Dt",
        "outputId": "308bb3a1-54f6-4191-c5ec-5e0b4a2a67f8"
      },
      "execution_count": 588,
      "outputs": [
        {
          "output_type": "stream",
          "name": "stdout",
          "text": [
            "F    381\n",
            "M    263\n",
            "Name: sex, dtype: int64\n"
          ]
        }
      ]
    },
    {
      "cell_type": "code",
      "source": [
        "print(df_por1['address'].value_counts())"
      ],
      "metadata": {
        "colab": {
          "base_uri": "https://localhost:8080/"
        },
        "id": "MLZudPGyuTpz",
        "outputId": "13022a44-72fd-4ade-b191-65155eb034ac"
      },
      "execution_count": 589,
      "outputs": [
        {
          "output_type": "stream",
          "name": "stdout",
          "text": [
            "U    447\n",
            "R    197\n",
            "Name: address, dtype: int64\n"
          ]
        }
      ]
    },
    {
      "cell_type": "code",
      "source": [
        "print(df_por1['famsize'].value_counts())"
      ],
      "metadata": {
        "colab": {
          "base_uri": "https://localhost:8080/"
        },
        "id": "VJmJ9B6zuYYN",
        "outputId": "d15a4d5a-94d1-42e5-86b4-e9e26a08e368"
      },
      "execution_count": 590,
      "outputs": [
        {
          "output_type": "stream",
          "name": "stdout",
          "text": [
            "GT3    451\n",
            "LE3    191\n",
            "Name: famsize, dtype: int64\n"
          ]
        }
      ]
    },
    {
      "cell_type": "code",
      "source": [
        "print(df_por1['Pstatus'].value_counts())"
      ],
      "metadata": {
        "colab": {
          "base_uri": "https://localhost:8080/"
        },
        "id": "bFGq62imuc4r",
        "outputId": "c3f5d9b8-b5d6-48b4-80bd-523751fe3270"
      },
      "execution_count": 591,
      "outputs": [
        {
          "output_type": "stream",
          "name": "stdout",
          "text": [
            "T    564\n",
            "A     78\n",
            "Name: Pstatus, dtype: int64\n"
          ]
        }
      ]
    },
    {
      "cell_type": "markdown",
      "source": [
        "Correción"
      ],
      "metadata": {
        "id": "KYdvMQzn35gR"
      }
    },
    {
      "cell_type": "code",
      "source": [
        "df_por1 = df_por1[df_por1[\"Pstatus\"]!=\"B\"]\n",
        "print(df_por1['Pstatus'].value_counts())"
      ],
      "metadata": {
        "id": "dUTtKH1k34tR",
        "colab": {
          "base_uri": "https://localhost:8080/"
        },
        "outputId": "0a48091c-1079-48a5-c08f-c358bbe18cb7"
      },
      "execution_count": 592,
      "outputs": [
        {
          "output_type": "stream",
          "name": "stdout",
          "text": [
            "T    564\n",
            "A     78\n",
            "Name: Pstatus, dtype: int64\n"
          ]
        }
      ]
    },
    {
      "cell_type": "code",
      "source": [
        "print(df_por1['Mjob'].value_counts())"
      ],
      "metadata": {
        "colab": {
          "base_uri": "https://localhost:8080/"
        },
        "id": "KFvNTz2cunCO",
        "outputId": "bde2f856-84df-43b3-8619-b2279e6043c5"
      },
      "execution_count": 593,
      "outputs": [
        {
          "output_type": "stream",
          "name": "stdout",
          "text": [
            "other       256\n",
            "at_home     135\n",
            "services    134\n",
            "teacher      71\n",
            "health       48\n",
            "Name: Mjob, dtype: int64\n"
          ]
        }
      ]
    },
    {
      "cell_type": "code",
      "source": [
        "print(df_por1['Fjob'].value_counts())"
      ],
      "metadata": {
        "colab": {
          "base_uri": "https://localhost:8080/"
        },
        "id": "GgO18FBLut6N",
        "outputId": "c345cda0-4fe6-46d5-a6cc-375286b0a46b"
      },
      "execution_count": 594,
      "outputs": [
        {
          "output_type": "stream",
          "name": "stdout",
          "text": [
            "other       364\n",
            "services    178\n",
            "at_home      42\n",
            "teacher      36\n",
            "health       23\n",
            "Name: Fjob, dtype: int64\n"
          ]
        }
      ]
    },
    {
      "cell_type": "code",
      "source": [
        "print(df_por1['reason'].value_counts())"
      ],
      "metadata": {
        "colab": {
          "base_uri": "https://localhost:8080/"
        },
        "id": "8rmJpzRCux9W",
        "outputId": "2386f7d8-77aa-4ee4-a26b-8871530c3466"
      },
      "execution_count": 595,
      "outputs": [
        {
          "output_type": "stream",
          "name": "stdout",
          "text": [
            "course        283\n",
            "home          147\n",
            "reputation    143\n",
            "other          71\n",
            "Name: reason, dtype: int64\n"
          ]
        }
      ]
    },
    {
      "cell_type": "code",
      "source": [
        "print(df_por1['guardian'].value_counts())"
      ],
      "metadata": {
        "colab": {
          "base_uri": "https://localhost:8080/"
        },
        "id": "UEDmh6XguyUk",
        "outputId": "7cbef481-589f-4f6e-a644-2ec1a42a592d"
      },
      "execution_count": 596,
      "outputs": [
        {
          "output_type": "stream",
          "name": "stdout",
          "text": [
            "mother    449\n",
            "father    153\n",
            "other      40\n",
            "Name: guardian, dtype: int64\n"
          ]
        }
      ]
    },
    {
      "cell_type": "code",
      "source": [
        "df_por1['schoolsup'].value_counts()"
      ],
      "metadata": {
        "colab": {
          "base_uri": "https://localhost:8080/"
        },
        "id": "WZsXLa2iu2mA",
        "outputId": "feb99116-280c-4b43-e80e-3f19c7716e6b"
      },
      "execution_count": 597,
      "outputs": [
        {
          "output_type": "execute_result",
          "data": {
            "text/plain": [
              "no     577\n",
              "yes     67\n",
              "Name: schoolsup, dtype: int64"
            ]
          },
          "metadata": {},
          "execution_count": 597
        }
      ]
    },
    {
      "cell_type": "markdown",
      "source": [
        "Correción"
      ],
      "metadata": {
        "id": "KhMG_lrh4TW0"
      }
    },
    {
      "cell_type": "code",
      "source": [
        "df_por1['schoolsup']= df_por1['schoolsup'].map({'Yes':'yes','No':'no','yes':'yes','no':'no'})\n",
        "print(df_por1['schoolsup'].value_counts())"
      ],
      "metadata": {
        "id": "o_hJX7Nq-RKr",
        "colab": {
          "base_uri": "https://localhost:8080/"
        },
        "outputId": "25fa1cf5-6ce1-49f5-a8de-266f1fcf0b94"
      },
      "execution_count": 598,
      "outputs": [
        {
          "output_type": "stream",
          "name": "stdout",
          "text": [
            "no     577\n",
            "yes     67\n",
            "Name: schoolsup, dtype: int64\n"
          ]
        }
      ]
    },
    {
      "cell_type": "code",
      "source": [
        "print(df_por1['famsup'].value_counts())"
      ],
      "metadata": {
        "colab": {
          "base_uri": "https://localhost:8080/"
        },
        "id": "Yzo_9wAivC5o",
        "outputId": "e0906fce-7d34-4831-973b-daf8aec21719"
      },
      "execution_count": 599,
      "outputs": [
        {
          "output_type": "stream",
          "name": "stdout",
          "text": [
            "yes    394\n",
            "no     248\n",
            "Name: famsup, dtype: int64\n"
          ]
        }
      ]
    },
    {
      "cell_type": "code",
      "source": [
        "print(df_por1['paid'].value_counts())"
      ],
      "metadata": {
        "colab": {
          "base_uri": "https://localhost:8080/"
        },
        "id": "ljJ_u6vAvIDY",
        "outputId": "9af281bd-06a3-412e-cf9f-487ec63dc6d6"
      },
      "execution_count": 600,
      "outputs": [
        {
          "output_type": "stream",
          "name": "stdout",
          "text": [
            "no     605\n",
            "yes     39\n",
            "Name: paid, dtype: int64\n"
          ]
        }
      ]
    },
    {
      "cell_type": "markdown",
      "source": [
        "Correción "
      ],
      "metadata": {
        "id": "k99bneFF5bGd"
      }
    },
    {
      "cell_type": "code",
      "source": [
        "df_por1['paid']= df_por1['paid'].map({'Yes':'yes','No':'no','yes':'yes','no':'no'})\n",
        "print(df_por1['paid'].value_counts())"
      ],
      "metadata": {
        "id": "iY0DOP2R5du9",
        "colab": {
          "base_uri": "https://localhost:8080/"
        },
        "outputId": "4fda27e9-7b11-43e3-c67a-1f7014f6930a"
      },
      "execution_count": 601,
      "outputs": [
        {
          "output_type": "stream",
          "name": "stdout",
          "text": [
            "no     605\n",
            "yes     39\n",
            "Name: paid, dtype: int64\n"
          ]
        }
      ]
    },
    {
      "cell_type": "code",
      "source": [
        "print(df_por1['activities'].value_counts())"
      ],
      "metadata": {
        "colab": {
          "base_uri": "https://localhost:8080/"
        },
        "id": "qPvKYAFKvOSd",
        "outputId": "f4071ab0-53df-43c2-fc49-56a3ab4e5c9e"
      },
      "execution_count": 602,
      "outputs": [
        {
          "output_type": "stream",
          "name": "stdout",
          "text": [
            "no     330\n",
            "yes    314\n",
            "Name: activities, dtype: int64\n"
          ]
        }
      ]
    },
    {
      "cell_type": "markdown",
      "source": [
        "Correción"
      ],
      "metadata": {
        "id": "bpiEouy65zaB"
      }
    },
    {
      "cell_type": "code",
      "source": [
        "df_por1['activities']= df_por1['activities'].map({'Yes':'yes','No':'no','yes':'yes','no':'no'})\n",
        "print(df_por1['activities'].value_counts())"
      ],
      "metadata": {
        "id": "HMhbYG0z51ki",
        "colab": {
          "base_uri": "https://localhost:8080/"
        },
        "outputId": "9c58bf58-341e-45b7-a5cc-c9d8d2d3071a"
      },
      "execution_count": 603,
      "outputs": [
        {
          "output_type": "stream",
          "name": "stdout",
          "text": [
            "no     330\n",
            "yes    314\n",
            "Name: activities, dtype: int64\n"
          ]
        }
      ]
    },
    {
      "cell_type": "code",
      "source": [
        "print(df_por1['nursery'].value_counts())"
      ],
      "metadata": {
        "colab": {
          "base_uri": "https://localhost:8080/"
        },
        "id": "LcvCQw3rvhvO",
        "outputId": "6f747714-4feb-4ce6-9597-409fdfbf87b0"
      },
      "execution_count": 604,
      "outputs": [
        {
          "output_type": "stream",
          "name": "stdout",
          "text": [
            "yes    516\n",
            "no     127\n",
            "Name: nursery, dtype: int64\n"
          ]
        }
      ]
    },
    {
      "cell_type": "markdown",
      "source": [
        "Correción"
      ],
      "metadata": {
        "id": "_jN6keVn6kfo"
      }
    },
    {
      "cell_type": "code",
      "source": [
        "df_por1['nursery']= df_por1['nursery'].map({'Yes':'yes','No':'no','yes':'yes','no':'no'})\n",
        "print(df_por1['nursery'].value_counts())"
      ],
      "metadata": {
        "id": "bMTYmgkT6m8Q",
        "colab": {
          "base_uri": "https://localhost:8080/"
        },
        "outputId": "2c3c318f-b0ef-41c1-ecce-2fb8b8b5793a"
      },
      "execution_count": 605,
      "outputs": [
        {
          "output_type": "stream",
          "name": "stdout",
          "text": [
            "yes    516\n",
            "no     127\n",
            "Name: nursery, dtype: int64\n"
          ]
        }
      ]
    },
    {
      "cell_type": "code",
      "source": [
        "print(df_por1['higher'].value_counts())"
      ],
      "metadata": {
        "colab": {
          "base_uri": "https://localhost:8080/"
        },
        "id": "fEvLvit8vyjM",
        "outputId": "1588b130-8ad3-47e4-937b-4dd821ac9e81"
      },
      "execution_count": 606,
      "outputs": [
        {
          "output_type": "stream",
          "name": "stdout",
          "text": [
            "yes    574\n",
            "no      69\n",
            "Name: higher, dtype: int64\n"
          ]
        }
      ]
    },
    {
      "cell_type": "code",
      "source": [
        "print(df_por1['internet'].value_counts())"
      ],
      "metadata": {
        "colab": {
          "base_uri": "https://localhost:8080/"
        },
        "id": "ZONYD9CIv2U7",
        "outputId": "aae185d7-9550-4950-9a3a-a0e4b5a211e6"
      },
      "execution_count": 607,
      "outputs": [
        {
          "output_type": "stream",
          "name": "stdout",
          "text": [
            "yes    493\n",
            "no     151\n",
            "Name: internet, dtype: int64\n"
          ]
        }
      ]
    },
    {
      "cell_type": "markdown",
      "source": [
        "Correción"
      ],
      "metadata": {
        "id": "utFV7UlX62WG"
      }
    },
    {
      "cell_type": "code",
      "source": [
        "df_por1['internet']= df_por1['internet'].map({'Yes':'yes','No':'no','yes':'yes','no':'no'})\n",
        "print(df_por1['internet'].value_counts())"
      ],
      "metadata": {
        "id": "I33w-LOm61gq",
        "colab": {
          "base_uri": "https://localhost:8080/"
        },
        "outputId": "3bfdf96a-3fe2-455b-8227-6013197eeb77"
      },
      "execution_count": 608,
      "outputs": [
        {
          "output_type": "stream",
          "name": "stdout",
          "text": [
            "yes    493\n",
            "no     151\n",
            "Name: internet, dtype: int64\n"
          ]
        }
      ]
    },
    {
      "cell_type": "code",
      "source": [
        "print(df_por1['romantic'].value_counts())"
      ],
      "metadata": {
        "colab": {
          "base_uri": "https://localhost:8080/"
        },
        "id": "3HxrlHi4v5le",
        "outputId": "d9890e2c-cb7b-4b31-a4c2-34ea7fd19846"
      },
      "execution_count": 609,
      "outputs": [
        {
          "output_type": "stream",
          "name": "stdout",
          "text": [
            "no     407\n",
            "yes    237\n",
            "Name: romantic, dtype: int64\n"
          ]
        }
      ]
    },
    {
      "cell_type": "markdown",
      "source": [
        "Correción"
      ],
      "metadata": {
        "id": "Y-nc6Wg_aAXJ"
      }
    },
    {
      "cell_type": "code",
      "source": [
        "df_por1['romantic']= df_por1['romantic'].map({'Yes':'yes','No':'no','yes':'yes','no':'no'})\n",
        "print(df_por1['romantic'].value_counts())"
      ],
      "metadata": {
        "id": "0ZhJ3aeX7G0u",
        "colab": {
          "base_uri": "https://localhost:8080/"
        },
        "outputId": "9854d893-7301-42cc-8323-9aafe0ed3534"
      },
      "execution_count": 610,
      "outputs": [
        {
          "output_type": "stream",
          "name": "stdout",
          "text": [
            "no     407\n",
            "yes    237\n",
            "Name: romantic, dtype: int64\n"
          ]
        }
      ]
    },
    {
      "cell_type": "code",
      "source": [
        "df_por1.dtypes"
      ],
      "metadata": {
        "colab": {
          "base_uri": "https://localhost:8080/"
        },
        "id": "ESi5lKwlaJjo",
        "outputId": "6507043a-318b-47b7-8a7a-35b546bac03a"
      },
      "execution_count": 611,
      "outputs": [
        {
          "output_type": "execute_result",
          "data": {
            "text/plain": [
              "school        object\n",
              "sex           object\n",
              "age            int64\n",
              "address       object\n",
              "famsize       object\n",
              "Pstatus       object\n",
              "Medu           int64\n",
              "Fedu           int64\n",
              "Mjob          object\n",
              "Fjob          object\n",
              "reason        object\n",
              "guardian      object\n",
              "traveltime     int64\n",
              "studytime      int64\n",
              "failures       int64\n",
              "schoolsup     object\n",
              "famsup        object\n",
              "paid          object\n",
              "activities    object\n",
              "nursery       object\n",
              "higher        object\n",
              "internet      object\n",
              "romantic      object\n",
              "famrel         int64\n",
              "freetime       int64\n",
              "goout          int64\n",
              "Dalc           int64\n",
              "Walc           int64\n",
              "health         int64\n",
              "absences       int64\n",
              "G1             int64\n",
              "G2             int64\n",
              "G3             int64\n",
              "dtype: object"
            ]
          },
          "metadata": {},
          "execution_count": 611
        }
      ]
    },
    {
      "cell_type": "markdown",
      "source": [
        "##Consistencia en datos cuantitativos"
      ],
      "metadata": {
        "id": "Rhq1vcI2wBOz"
      }
    },
    {
      "cell_type": "code",
      "source": [
        "print(df_por1['age'].value_counts())"
      ],
      "metadata": {
        "colab": {
          "base_uri": "https://localhost:8080/"
        },
        "id": "KuMIZMNEwK2i",
        "outputId": "592657af-241f-4b3c-ee4d-8857cdaf6eec"
      },
      "execution_count": 612,
      "outputs": [
        {
          "output_type": "stream",
          "name": "stdout",
          "text": [
            "17    177\n",
            "16    176\n",
            "18    138\n",
            "15    112\n",
            "19     32\n",
            "20      6\n",
            "21      2\n",
            "22      1\n",
            "Name: age, dtype: int64\n"
          ]
        }
      ]
    },
    {
      "cell_type": "code",
      "source": [
        "print(df_por1['Medu'].value_counts())"
      ],
      "metadata": {
        "colab": {
          "base_uri": "https://localhost:8080/"
        },
        "id": "R7VKYo3MwPQv",
        "outputId": "74cd7f61-9cb0-461e-9daa-e60624351da9"
      },
      "execution_count": 613,
      "outputs": [
        {
          "output_type": "stream",
          "name": "stdout",
          "text": [
            "2    184\n",
            "4    173\n",
            "1    143\n",
            "3    138\n",
            "0      6\n",
            "Name: Medu, dtype: int64\n"
          ]
        }
      ]
    },
    {
      "cell_type": "code",
      "source": [
        "print(df_por1['Fedu'].value_counts())"
      ],
      "metadata": {
        "colab": {
          "base_uri": "https://localhost:8080/"
        },
        "id": "mBZW-6eQwnJw",
        "outputId": "f971264d-db43-49c3-ee78-2e0d0a6974bf"
      },
      "execution_count": 614,
      "outputs": [
        {
          "output_type": "stream",
          "name": "stdout",
          "text": [
            "2    209\n",
            "1    171\n",
            "3    130\n",
            "4    127\n",
            "0      7\n",
            "Name: Fedu, dtype: int64\n"
          ]
        }
      ]
    },
    {
      "cell_type": "code",
      "source": [
        "print(df_por1['traveltime'].value_counts())"
      ],
      "metadata": {
        "colab": {
          "base_uri": "https://localhost:8080/"
        },
        "id": "awxjGNN-wpUA",
        "outputId": "5af988cf-8c04-4faf-99ba-32e1bbf86af8"
      },
      "execution_count": 615,
      "outputs": [
        {
          "output_type": "stream",
          "name": "stdout",
          "text": [
            "1    362\n",
            "2    212\n",
            "3     54\n",
            "4     16\n",
            "Name: traveltime, dtype: int64\n"
          ]
        }
      ]
    },
    {
      "cell_type": "code",
      "source": [
        "print(df_por1['studytime'].value_counts())"
      ],
      "metadata": {
        "colab": {
          "base_uri": "https://localhost:8080/"
        },
        "id": "tLYiH9mcwwi0",
        "outputId": "cc47d51e-c3a2-4f29-f840-935cf6394700"
      },
      "execution_count": 616,
      "outputs": [
        {
          "output_type": "stream",
          "name": "stdout",
          "text": [
            "2    303\n",
            "1    211\n",
            "3     96\n",
            "4     34\n",
            "Name: studytime, dtype: int64\n"
          ]
        }
      ]
    },
    {
      "cell_type": "code",
      "source": [
        "print(df_por1['failures'].value_counts())"
      ],
      "metadata": {
        "colab": {
          "base_uri": "https://localhost:8080/"
        },
        "id": "z6tX9xaLwzi6",
        "outputId": "8f4833d6-a91e-4612-fca0-e56f70cf8a0f"
      },
      "execution_count": 617,
      "outputs": [
        {
          "output_type": "stream",
          "name": "stdout",
          "text": [
            "0    544\n",
            "1     70\n",
            "2     16\n",
            "3     14\n",
            "Name: failures, dtype: int64\n"
          ]
        }
      ]
    },
    {
      "cell_type": "code",
      "source": [
        "print(df_por1['famrel'].value_counts())"
      ],
      "metadata": {
        "colab": {
          "base_uri": "https://localhost:8080/"
        },
        "id": "-RqPRTvdw_v9",
        "outputId": "aa670d05-7467-41b0-9cea-dbd10a65cfab"
      },
      "execution_count": 618,
      "outputs": [
        {
          "output_type": "stream",
          "name": "stdout",
          "text": [
            "4    315\n",
            "5    177\n",
            "3    101\n",
            "2     29\n",
            "1     22\n",
            "Name: famrel, dtype: int64\n"
          ]
        }
      ]
    },
    {
      "cell_type": "code",
      "source": [
        "print(df_por1['freetime'].value_counts())"
      ],
      "metadata": {
        "colab": {
          "base_uri": "https://localhost:8080/"
        },
        "id": "BGpk9vfBxFCp",
        "outputId": "4f8d0ab7-9c1e-4f6d-d7a4-25702144dde0"
      },
      "execution_count": 619,
      "outputs": [
        {
          "output_type": "stream",
          "name": "stdout",
          "text": [
            "3    250\n",
            "4    177\n",
            "2    104\n",
            "5     68\n",
            "1     45\n",
            "Name: freetime, dtype: int64\n"
          ]
        }
      ]
    },
    {
      "cell_type": "code",
      "source": [
        "print(df_por1['goout'].value_counts())"
      ],
      "metadata": {
        "colab": {
          "base_uri": "https://localhost:8080/"
        },
        "id": "4r1LBnsoxM2S",
        "outputId": "30a65031-ece1-4049-c594-e6d36d0e6ca2"
      },
      "execution_count": 620,
      "outputs": [
        {
          "output_type": "stream",
          "name": "stdout",
          "text": [
            "3    204\n",
            "2    143\n",
            "4    140\n",
            "5    109\n",
            "1     48\n",
            "Name: goout, dtype: int64\n"
          ]
        }
      ]
    },
    {
      "cell_type": "code",
      "source": [
        "print(df_por1[\"Dalc\"].value_counts())"
      ],
      "metadata": {
        "colab": {
          "base_uri": "https://localhost:8080/"
        },
        "id": "jKzKKjkLxS6o",
        "outputId": "1d9f7a9b-e1d9-4a64-dfbf-174e44361358"
      },
      "execution_count": 621,
      "outputs": [
        {
          "output_type": "stream",
          "name": "stdout",
          "text": [
            "1    447\n",
            "2    120\n",
            "3     43\n",
            "5     17\n",
            "4     17\n",
            "Name: Dalc, dtype: int64\n"
          ]
        }
      ]
    },
    {
      "cell_type": "code",
      "source": [
        "print(df_por1['Walc'].value_counts())"
      ],
      "metadata": {
        "colab": {
          "base_uri": "https://localhost:8080/"
        },
        "id": "kGBx_v8sx6kY",
        "outputId": "cd7aedeb-57ad-46e9-aa8b-dca9b43ac639"
      },
      "execution_count": 622,
      "outputs": [
        {
          "output_type": "stream",
          "name": "stdout",
          "text": [
            "1    247\n",
            "2    145\n",
            "3    120\n",
            "4     87\n",
            "5     45\n",
            "Name: Walc, dtype: int64\n"
          ]
        }
      ]
    },
    {
      "cell_type": "code",
      "source": [
        "print(df_por1['health'].value_counts())"
      ],
      "metadata": {
        "colab": {
          "base_uri": "https://localhost:8080/"
        },
        "id": "f6sahqO8x9SL",
        "outputId": "5c9a13a9-db05-4b24-e28e-8388d7cd7f83"
      },
      "execution_count": 623,
      "outputs": [
        {
          "output_type": "stream",
          "name": "stdout",
          "text": [
            "5    245\n",
            "3    124\n",
            "4    107\n",
            "1     90\n",
            "2     78\n",
            "Name: health, dtype: int64\n"
          ]
        }
      ]
    },
    {
      "cell_type": "code",
      "source": [
        "print(df_por1['absences'].value_counts())"
      ],
      "metadata": {
        "colab": {
          "base_uri": "https://localhost:8080/"
        },
        "id": "NCzTd9UdyHiq",
        "outputId": "447d87ca-8f2c-4f87-dd88-2d420a4f0c69"
      },
      "execution_count": 624,
      "outputs": [
        {
          "output_type": "stream",
          "name": "stdout",
          "text": [
            "0     242\n",
            "2     109\n",
            "4      93\n",
            "6      49\n",
            "8      42\n",
            "10     21\n",
            "5      12\n",
            "1      12\n",
            "12     12\n",
            "16     10\n",
            "9       7\n",
            "3       7\n",
            "14      7\n",
            "11      5\n",
            "18      3\n",
            "7       3\n",
            "21      2\n",
            "15      2\n",
            "32      1\n",
            "24      1\n",
            "26      1\n",
            "22      1\n",
            "13      1\n",
            "30      1\n",
            "Name: absences, dtype: int64\n"
          ]
        }
      ]
    },
    {
      "cell_type": "code",
      "source": [
        "print(df_por1['G1'].value_counts())"
      ],
      "metadata": {
        "colab": {
          "base_uri": "https://localhost:8080/"
        },
        "id": "o3mAx58IyLz2",
        "outputId": "8f5d8ff5-7566-47f3-fd97-3c8e7ad4b4bf"
      },
      "execution_count": 625,
      "outputs": [
        {
          "output_type": "stream",
          "name": "stdout",
          "text": [
            "10    94\n",
            "11    91\n",
            "12    82\n",
            "13    72\n",
            "14    71\n",
            "9     64\n",
            "8     42\n",
            "15    33\n",
            "7     33\n",
            "16    21\n",
            "17    16\n",
            "6      9\n",
            "18     7\n",
            "5      5\n",
            "4      2\n",
            "0      1\n",
            "19     1\n",
            "Name: G1, dtype: int64\n"
          ]
        }
      ]
    },
    {
      "cell_type": "markdown",
      "source": [
        "Correción"
      ],
      "metadata": {
        "id": "P6HSZ7kA8l3e"
      }
    },
    {
      "cell_type": "code",
      "source": [
        "df_por1= df_por1[df_por1['G1'] <= 20]"
      ],
      "metadata": {
        "id": "bv0WMwq28nry"
      },
      "execution_count": 626,
      "outputs": []
    },
    {
      "cell_type": "code",
      "source": [
        "print(df_por1['G2'].value_counts())"
      ],
      "metadata": {
        "id": "utv0oBDoyOXG",
        "colab": {
          "base_uri": "https://localhost:8080/"
        },
        "outputId": "5e586508-7eb8-4bca-8101-a320bb7dcdb4"
      },
      "execution_count": 627,
      "outputs": [
        {
          "output_type": "stream",
          "name": "stdout",
          "text": [
            "11    103\n",
            "12     86\n",
            "10     83\n",
            "13     80\n",
            "9      71\n",
            "14     53\n",
            "8      40\n",
            "15     38\n",
            "16     23\n",
            "17     20\n",
            "7      15\n",
            "18     14\n",
            "6       7\n",
            "0       7\n",
            "5       3\n",
            "19      1\n",
            "Name: G2, dtype: int64\n"
          ]
        }
      ]
    },
    {
      "cell_type": "code",
      "source": [
        "print(df_por1['G3'].value_counts())"
      ],
      "metadata": {
        "id": "b8UAimHryQ-c",
        "colab": {
          "base_uri": "https://localhost:8080/"
        },
        "outputId": "ba3ddaf5-905b-45e4-ae24-b5f643dcd0ed"
      },
      "execution_count": 628,
      "outputs": [
        {
          "output_type": "stream",
          "name": "stdout",
          "text": [
            "11    104\n",
            "10     96\n",
            "13     82\n",
            "12     72\n",
            "14     63\n",
            "15     49\n",
            "8      35\n",
            "9      35\n",
            "16     34\n",
            "17     28\n",
            "18     15\n",
            "0      15\n",
            "7      10\n",
            "6       2\n",
            "19      2\n",
            "1       1\n",
            "5       1\n",
            "Name: G3, dtype: int64\n"
          ]
        }
      ]
    },
    {
      "cell_type": "markdown",
      "source": [
        "Correción"
      ],
      "metadata": {
        "id": "5nRasg0a88zM"
      }
    },
    {
      "cell_type": "code",
      "source": [
        "df_por1=df_por1[df_por1['G3'] <= 20]"
      ],
      "metadata": {
        "id": "7fUHosJT8-jY"
      },
      "execution_count": 629,
      "outputs": []
    },
    {
      "cell_type": "code",
      "source": [
        "print(df_por1['G3'].value_counts())"
      ],
      "metadata": {
        "colab": {
          "base_uri": "https://localhost:8080/"
        },
        "id": "SayJhlF-akpd",
        "outputId": "6673d816-4ca2-4721-c750-ac1be5230e4d"
      },
      "execution_count": 630,
      "outputs": [
        {
          "output_type": "stream",
          "name": "stdout",
          "text": [
            "11    104\n",
            "10     96\n",
            "13     82\n",
            "12     72\n",
            "14     63\n",
            "15     49\n",
            "8      35\n",
            "9      35\n",
            "16     34\n",
            "17     28\n",
            "18     15\n",
            "0      15\n",
            "7      10\n",
            "6       2\n",
            "19      2\n",
            "1       1\n",
            "5       1\n",
            "Name: G3, dtype: int64\n"
          ]
        }
      ]
    },
    {
      "cell_type": "markdown",
      "source": [
        "## Base de datos final"
      ],
      "metadata": {
        "id": "Ww5Cwu7MBr_e"
      }
    },
    {
      "cell_type": "markdown",
      "source": [
        "1.6 Creación e indexación de nuevas variables\n",
        "\n",
        "Teniendo en cuenta el tipo de variables proporcionadas en la base de datos, se realizara un modelo de regresión lineal multiple para estimar la nota final de cada estudiante, teniendo como variables independientes pre seleccionadas school, sex, study time, absences y paid. Estas variables se escogieron a criterio propio, por lo que para corroborar que estas variables sean las más optimas para el modelo, se realizara un análisis exploratorio. \n",
        "\n",
        "Cabe mencionar que la variable de notas finales no se tiene, sin embargo, si se tienen las notas de los tres periodos en el año, es por esto que se calculara un promedio aritmético simple (se usara este promedio ya que no se tiene alguna restricción o valores para ponderar las notas) de las tres notas en cada periodo para obtener la nota final y anexarla a la base orginal.\n",
        "\n",
        "Por parte de las variables cualitativas/categóricas, se crearan nuevas variables de estas mismas pero transformadas en dummys y asi mismo se anexaran en la base original. Además de estas variables pre seleccionadas, se transformaran otras para facilitar su análisis."
      ],
      "metadata": {
        "id": "5zgvyDPlCD10"
      }
    },
    {
      "cell_type": "markdown",
      "source": [
        "* Variable notas finales "
      ],
      "metadata": {
        "id": "dvJLarIQGwGi"
      }
    },
    {
      "cell_type": "code",
      "source": [
        "Nota_final = df_por1[[\"G1\",\"G2\",\"G3\"]]\n",
        "Nota_final"
      ],
      "metadata": {
        "colab": {
          "base_uri": "https://localhost:8080/",
          "height": 0
        },
        "id": "aeXMwMPLGz_i",
        "outputId": "14e2da1e-2e40-49ee-d2a7-7d5aee507b83"
      },
      "execution_count": 631,
      "outputs": [
        {
          "output_type": "execute_result",
          "data": {
            "text/plain": [
              "     G1  G2  G3\n",
              "0     0  11  11\n",
              "1     9  11  11\n",
              "2    12  13  12\n",
              "3    14  14  14\n",
              "4    11  13  13\n",
              "..   ..  ..  ..\n",
              "644  10  11  10\n",
              "645  15  15  16\n",
              "646  11  12   9\n",
              "647  10  10  10\n",
              "648  10  11  11\n",
              "\n",
              "[644 rows x 3 columns]"
            ],
            "text/html": [
              "\n",
              "  <div id=\"df-b7ed7a82-746b-40e4-b27b-5130195afef4\">\n",
              "    <div class=\"colab-df-container\">\n",
              "      <div>\n",
              "<style scoped>\n",
              "    .dataframe tbody tr th:only-of-type {\n",
              "        vertical-align: middle;\n",
              "    }\n",
              "\n",
              "    .dataframe tbody tr th {\n",
              "        vertical-align: top;\n",
              "    }\n",
              "\n",
              "    .dataframe thead th {\n",
              "        text-align: right;\n",
              "    }\n",
              "</style>\n",
              "<table border=\"1\" class=\"dataframe\">\n",
              "  <thead>\n",
              "    <tr style=\"text-align: right;\">\n",
              "      <th></th>\n",
              "      <th>G1</th>\n",
              "      <th>G2</th>\n",
              "      <th>G3</th>\n",
              "    </tr>\n",
              "  </thead>\n",
              "  <tbody>\n",
              "    <tr>\n",
              "      <th>0</th>\n",
              "      <td>0</td>\n",
              "      <td>11</td>\n",
              "      <td>11</td>\n",
              "    </tr>\n",
              "    <tr>\n",
              "      <th>1</th>\n",
              "      <td>9</td>\n",
              "      <td>11</td>\n",
              "      <td>11</td>\n",
              "    </tr>\n",
              "    <tr>\n",
              "      <th>2</th>\n",
              "      <td>12</td>\n",
              "      <td>13</td>\n",
              "      <td>12</td>\n",
              "    </tr>\n",
              "    <tr>\n",
              "      <th>3</th>\n",
              "      <td>14</td>\n",
              "      <td>14</td>\n",
              "      <td>14</td>\n",
              "    </tr>\n",
              "    <tr>\n",
              "      <th>4</th>\n",
              "      <td>11</td>\n",
              "      <td>13</td>\n",
              "      <td>13</td>\n",
              "    </tr>\n",
              "    <tr>\n",
              "      <th>...</th>\n",
              "      <td>...</td>\n",
              "      <td>...</td>\n",
              "      <td>...</td>\n",
              "    </tr>\n",
              "    <tr>\n",
              "      <th>644</th>\n",
              "      <td>10</td>\n",
              "      <td>11</td>\n",
              "      <td>10</td>\n",
              "    </tr>\n",
              "    <tr>\n",
              "      <th>645</th>\n",
              "      <td>15</td>\n",
              "      <td>15</td>\n",
              "      <td>16</td>\n",
              "    </tr>\n",
              "    <tr>\n",
              "      <th>646</th>\n",
              "      <td>11</td>\n",
              "      <td>12</td>\n",
              "      <td>9</td>\n",
              "    </tr>\n",
              "    <tr>\n",
              "      <th>647</th>\n",
              "      <td>10</td>\n",
              "      <td>10</td>\n",
              "      <td>10</td>\n",
              "    </tr>\n",
              "    <tr>\n",
              "      <th>648</th>\n",
              "      <td>10</td>\n",
              "      <td>11</td>\n",
              "      <td>11</td>\n",
              "    </tr>\n",
              "  </tbody>\n",
              "</table>\n",
              "<p>644 rows × 3 columns</p>\n",
              "</div>\n",
              "      <button class=\"colab-df-convert\" onclick=\"convertToInteractive('df-b7ed7a82-746b-40e4-b27b-5130195afef4')\"\n",
              "              title=\"Convert this dataframe to an interactive table.\"\n",
              "              style=\"display:none;\">\n",
              "        \n",
              "  <svg xmlns=\"http://www.w3.org/2000/svg\" height=\"24px\"viewBox=\"0 0 24 24\"\n",
              "       width=\"24px\">\n",
              "    <path d=\"M0 0h24v24H0V0z\" fill=\"none\"/>\n",
              "    <path d=\"M18.56 5.44l.94 2.06.94-2.06 2.06-.94-2.06-.94-.94-2.06-.94 2.06-2.06.94zm-11 1L8.5 8.5l.94-2.06 2.06-.94-2.06-.94L8.5 2.5l-.94 2.06-2.06.94zm10 10l.94 2.06.94-2.06 2.06-.94-2.06-.94-.94-2.06-.94 2.06-2.06.94z\"/><path d=\"M17.41 7.96l-1.37-1.37c-.4-.4-.92-.59-1.43-.59-.52 0-1.04.2-1.43.59L10.3 9.45l-7.72 7.72c-.78.78-.78 2.05 0 2.83L4 21.41c.39.39.9.59 1.41.59.51 0 1.02-.2 1.41-.59l7.78-7.78 2.81-2.81c.8-.78.8-2.07 0-2.86zM5.41 20L4 18.59l7.72-7.72 1.47 1.35L5.41 20z\"/>\n",
              "  </svg>\n",
              "      </button>\n",
              "      \n",
              "  <style>\n",
              "    .colab-df-container {\n",
              "      display:flex;\n",
              "      flex-wrap:wrap;\n",
              "      gap: 12px;\n",
              "    }\n",
              "\n",
              "    .colab-df-convert {\n",
              "      background-color: #E8F0FE;\n",
              "      border: none;\n",
              "      border-radius: 50%;\n",
              "      cursor: pointer;\n",
              "      display: none;\n",
              "      fill: #1967D2;\n",
              "      height: 32px;\n",
              "      padding: 0 0 0 0;\n",
              "      width: 32px;\n",
              "    }\n",
              "\n",
              "    .colab-df-convert:hover {\n",
              "      background-color: #E2EBFA;\n",
              "      box-shadow: 0px 1px 2px rgba(60, 64, 67, 0.3), 0px 1px 3px 1px rgba(60, 64, 67, 0.15);\n",
              "      fill: #174EA6;\n",
              "    }\n",
              "\n",
              "    [theme=dark] .colab-df-convert {\n",
              "      background-color: #3B4455;\n",
              "      fill: #D2E3FC;\n",
              "    }\n",
              "\n",
              "    [theme=dark] .colab-df-convert:hover {\n",
              "      background-color: #434B5C;\n",
              "      box-shadow: 0px 1px 3px 1px rgba(0, 0, 0, 0.15);\n",
              "      filter: drop-shadow(0px 1px 2px rgba(0, 0, 0, 0.3));\n",
              "      fill: #FFFFFF;\n",
              "    }\n",
              "  </style>\n",
              "\n",
              "      <script>\n",
              "        const buttonEl =\n",
              "          document.querySelector('#df-b7ed7a82-746b-40e4-b27b-5130195afef4 button.colab-df-convert');\n",
              "        buttonEl.style.display =\n",
              "          google.colab.kernel.accessAllowed ? 'block' : 'none';\n",
              "\n",
              "        async function convertToInteractive(key) {\n",
              "          const element = document.querySelector('#df-b7ed7a82-746b-40e4-b27b-5130195afef4');\n",
              "          const dataTable =\n",
              "            await google.colab.kernel.invokeFunction('convertToInteractive',\n",
              "                                                     [key], {});\n",
              "          if (!dataTable) return;\n",
              "\n",
              "          const docLinkHtml = 'Like what you see? Visit the ' +\n",
              "            '<a target=\"_blank\" href=https://colab.research.google.com/notebooks/data_table.ipynb>data table notebook</a>'\n",
              "            + ' to learn more about interactive tables.';\n",
              "          element.innerHTML = '';\n",
              "          dataTable['output_type'] = 'display_data';\n",
              "          await google.colab.output.renderOutput(dataTable, element);\n",
              "          const docLink = document.createElement('div');\n",
              "          docLink.innerHTML = docLinkHtml;\n",
              "          element.appendChild(docLink);\n",
              "        }\n",
              "      </script>\n",
              "    </div>\n",
              "  </div>\n",
              "  "
            ]
          },
          "metadata": {},
          "execution_count": 631
        }
      ]
    },
    {
      "cell_type": "code",
      "source": [
        "Nota_final.dtypes"
      ],
      "metadata": {
        "colab": {
          "base_uri": "https://localhost:8080/"
        },
        "id": "yUEYnugvOVDd",
        "outputId": "8c1dddf5-5bd9-4d48-b037-33fe304b92b5"
      },
      "execution_count": 632,
      "outputs": [
        {
          "output_type": "execute_result",
          "data": {
            "text/plain": [
              "G1    int64\n",
              "G2    int64\n",
              "G3    int64\n",
              "dtype: object"
            ]
          },
          "metadata": {},
          "execution_count": 632
        }
      ]
    },
    {
      "cell_type": "code",
      "source": [
        "df_porf=df_por1.assign(NF = Nota_final.mean(axis=1))\n",
        "df_porf"
      ],
      "metadata": {
        "colab": {
          "base_uri": "https://localhost:8080/",
          "height": 0
        },
        "id": "gVyYgefOdan2",
        "outputId": "9a044e2e-9fd5-4037-af4f-47dba599f11c"
      },
      "execution_count": 633,
      "outputs": [
        {
          "output_type": "execute_result",
          "data": {
            "text/plain": [
              "    school sex  age address famsize Pstatus  Medu  Fedu      Mjob      Fjob  \\\n",
              "0       GP   F   18       U     GT3       A     4     4   at_home   teacher   \n",
              "1       GP   F   17       U     GT3       T     1     1   at_home     other   \n",
              "2       GP   F   15       U     LE3       T     1     1   at_home     other   \n",
              "3       GP   F   15       U     GT3       T     4     2    health  services   \n",
              "4       GP   F   16       U     GT3       T     3     3     other     other   \n",
              "..     ...  ..  ...     ...     ...     ...   ...   ...       ...       ...   \n",
              "644     MS   F   19       R     GT3       T     2     3  services     other   \n",
              "645     MS   F   18       U     LE3       T     3     1   teacher  services   \n",
              "646     MS   F   18       U     GT3       T     1     1     other     other   \n",
              "647     MS   M   17       U     LE3       T     3     1  services  services   \n",
              "648     MS   M   18       R     LE3       T     3     2  services     other   \n",
              "\n",
              "     ... freetime goout  Dalc  Walc  health absences  G1  G2  G3         NF  \n",
              "0    ...        3     4     1     1       3        4   0  11  11   7.333333  \n",
              "1    ...        3     3     1     1       3        2   9  11  11  10.333333  \n",
              "2    ...        3     2     2     3       3        6  12  13  12  12.333333  \n",
              "3    ...        2     2     1     1       5        0  14  14  14  14.000000  \n",
              "4    ...        3     2     1     2       5        0  11  13  13  12.333333  \n",
              "..   ...      ...   ...   ...   ...     ...      ...  ..  ..  ..        ...  \n",
              "644  ...        4     2     1     2       5        4  10  11  10  10.333333  \n",
              "645  ...        3     4     1     1       1        4  15  15  16  15.333333  \n",
              "646  ...        1     1     1     1       5        6  11  12   9  10.666667  \n",
              "647  ...        4     5     3     4       2        6  10  10  10  10.000000  \n",
              "648  ...        4     1     3     4       5        4  10  11  11  10.666667  \n",
              "\n",
              "[644 rows x 34 columns]"
            ],
            "text/html": [
              "\n",
              "  <div id=\"df-2ec5595d-d54f-422d-8dd1-82b280f92d17\">\n",
              "    <div class=\"colab-df-container\">\n",
              "      <div>\n",
              "<style scoped>\n",
              "    .dataframe tbody tr th:only-of-type {\n",
              "        vertical-align: middle;\n",
              "    }\n",
              "\n",
              "    .dataframe tbody tr th {\n",
              "        vertical-align: top;\n",
              "    }\n",
              "\n",
              "    .dataframe thead th {\n",
              "        text-align: right;\n",
              "    }\n",
              "</style>\n",
              "<table border=\"1\" class=\"dataframe\">\n",
              "  <thead>\n",
              "    <tr style=\"text-align: right;\">\n",
              "      <th></th>\n",
              "      <th>school</th>\n",
              "      <th>sex</th>\n",
              "      <th>age</th>\n",
              "      <th>address</th>\n",
              "      <th>famsize</th>\n",
              "      <th>Pstatus</th>\n",
              "      <th>Medu</th>\n",
              "      <th>Fedu</th>\n",
              "      <th>Mjob</th>\n",
              "      <th>Fjob</th>\n",
              "      <th>...</th>\n",
              "      <th>freetime</th>\n",
              "      <th>goout</th>\n",
              "      <th>Dalc</th>\n",
              "      <th>Walc</th>\n",
              "      <th>health</th>\n",
              "      <th>absences</th>\n",
              "      <th>G1</th>\n",
              "      <th>G2</th>\n",
              "      <th>G3</th>\n",
              "      <th>NF</th>\n",
              "    </tr>\n",
              "  </thead>\n",
              "  <tbody>\n",
              "    <tr>\n",
              "      <th>0</th>\n",
              "      <td>GP</td>\n",
              "      <td>F</td>\n",
              "      <td>18</td>\n",
              "      <td>U</td>\n",
              "      <td>GT3</td>\n",
              "      <td>A</td>\n",
              "      <td>4</td>\n",
              "      <td>4</td>\n",
              "      <td>at_home</td>\n",
              "      <td>teacher</td>\n",
              "      <td>...</td>\n",
              "      <td>3</td>\n",
              "      <td>4</td>\n",
              "      <td>1</td>\n",
              "      <td>1</td>\n",
              "      <td>3</td>\n",
              "      <td>4</td>\n",
              "      <td>0</td>\n",
              "      <td>11</td>\n",
              "      <td>11</td>\n",
              "      <td>7.333333</td>\n",
              "    </tr>\n",
              "    <tr>\n",
              "      <th>1</th>\n",
              "      <td>GP</td>\n",
              "      <td>F</td>\n",
              "      <td>17</td>\n",
              "      <td>U</td>\n",
              "      <td>GT3</td>\n",
              "      <td>T</td>\n",
              "      <td>1</td>\n",
              "      <td>1</td>\n",
              "      <td>at_home</td>\n",
              "      <td>other</td>\n",
              "      <td>...</td>\n",
              "      <td>3</td>\n",
              "      <td>3</td>\n",
              "      <td>1</td>\n",
              "      <td>1</td>\n",
              "      <td>3</td>\n",
              "      <td>2</td>\n",
              "      <td>9</td>\n",
              "      <td>11</td>\n",
              "      <td>11</td>\n",
              "      <td>10.333333</td>\n",
              "    </tr>\n",
              "    <tr>\n",
              "      <th>2</th>\n",
              "      <td>GP</td>\n",
              "      <td>F</td>\n",
              "      <td>15</td>\n",
              "      <td>U</td>\n",
              "      <td>LE3</td>\n",
              "      <td>T</td>\n",
              "      <td>1</td>\n",
              "      <td>1</td>\n",
              "      <td>at_home</td>\n",
              "      <td>other</td>\n",
              "      <td>...</td>\n",
              "      <td>3</td>\n",
              "      <td>2</td>\n",
              "      <td>2</td>\n",
              "      <td>3</td>\n",
              "      <td>3</td>\n",
              "      <td>6</td>\n",
              "      <td>12</td>\n",
              "      <td>13</td>\n",
              "      <td>12</td>\n",
              "      <td>12.333333</td>\n",
              "    </tr>\n",
              "    <tr>\n",
              "      <th>3</th>\n",
              "      <td>GP</td>\n",
              "      <td>F</td>\n",
              "      <td>15</td>\n",
              "      <td>U</td>\n",
              "      <td>GT3</td>\n",
              "      <td>T</td>\n",
              "      <td>4</td>\n",
              "      <td>2</td>\n",
              "      <td>health</td>\n",
              "      <td>services</td>\n",
              "      <td>...</td>\n",
              "      <td>2</td>\n",
              "      <td>2</td>\n",
              "      <td>1</td>\n",
              "      <td>1</td>\n",
              "      <td>5</td>\n",
              "      <td>0</td>\n",
              "      <td>14</td>\n",
              "      <td>14</td>\n",
              "      <td>14</td>\n",
              "      <td>14.000000</td>\n",
              "    </tr>\n",
              "    <tr>\n",
              "      <th>4</th>\n",
              "      <td>GP</td>\n",
              "      <td>F</td>\n",
              "      <td>16</td>\n",
              "      <td>U</td>\n",
              "      <td>GT3</td>\n",
              "      <td>T</td>\n",
              "      <td>3</td>\n",
              "      <td>3</td>\n",
              "      <td>other</td>\n",
              "      <td>other</td>\n",
              "      <td>...</td>\n",
              "      <td>3</td>\n",
              "      <td>2</td>\n",
              "      <td>1</td>\n",
              "      <td>2</td>\n",
              "      <td>5</td>\n",
              "      <td>0</td>\n",
              "      <td>11</td>\n",
              "      <td>13</td>\n",
              "      <td>13</td>\n",
              "      <td>12.333333</td>\n",
              "    </tr>\n",
              "    <tr>\n",
              "      <th>...</th>\n",
              "      <td>...</td>\n",
              "      <td>...</td>\n",
              "      <td>...</td>\n",
              "      <td>...</td>\n",
              "      <td>...</td>\n",
              "      <td>...</td>\n",
              "      <td>...</td>\n",
              "      <td>...</td>\n",
              "      <td>...</td>\n",
              "      <td>...</td>\n",
              "      <td>...</td>\n",
              "      <td>...</td>\n",
              "      <td>...</td>\n",
              "      <td>...</td>\n",
              "      <td>...</td>\n",
              "      <td>...</td>\n",
              "      <td>...</td>\n",
              "      <td>...</td>\n",
              "      <td>...</td>\n",
              "      <td>...</td>\n",
              "      <td>...</td>\n",
              "    </tr>\n",
              "    <tr>\n",
              "      <th>644</th>\n",
              "      <td>MS</td>\n",
              "      <td>F</td>\n",
              "      <td>19</td>\n",
              "      <td>R</td>\n",
              "      <td>GT3</td>\n",
              "      <td>T</td>\n",
              "      <td>2</td>\n",
              "      <td>3</td>\n",
              "      <td>services</td>\n",
              "      <td>other</td>\n",
              "      <td>...</td>\n",
              "      <td>4</td>\n",
              "      <td>2</td>\n",
              "      <td>1</td>\n",
              "      <td>2</td>\n",
              "      <td>5</td>\n",
              "      <td>4</td>\n",
              "      <td>10</td>\n",
              "      <td>11</td>\n",
              "      <td>10</td>\n",
              "      <td>10.333333</td>\n",
              "    </tr>\n",
              "    <tr>\n",
              "      <th>645</th>\n",
              "      <td>MS</td>\n",
              "      <td>F</td>\n",
              "      <td>18</td>\n",
              "      <td>U</td>\n",
              "      <td>LE3</td>\n",
              "      <td>T</td>\n",
              "      <td>3</td>\n",
              "      <td>1</td>\n",
              "      <td>teacher</td>\n",
              "      <td>services</td>\n",
              "      <td>...</td>\n",
              "      <td>3</td>\n",
              "      <td>4</td>\n",
              "      <td>1</td>\n",
              "      <td>1</td>\n",
              "      <td>1</td>\n",
              "      <td>4</td>\n",
              "      <td>15</td>\n",
              "      <td>15</td>\n",
              "      <td>16</td>\n",
              "      <td>15.333333</td>\n",
              "    </tr>\n",
              "    <tr>\n",
              "      <th>646</th>\n",
              "      <td>MS</td>\n",
              "      <td>F</td>\n",
              "      <td>18</td>\n",
              "      <td>U</td>\n",
              "      <td>GT3</td>\n",
              "      <td>T</td>\n",
              "      <td>1</td>\n",
              "      <td>1</td>\n",
              "      <td>other</td>\n",
              "      <td>other</td>\n",
              "      <td>...</td>\n",
              "      <td>1</td>\n",
              "      <td>1</td>\n",
              "      <td>1</td>\n",
              "      <td>1</td>\n",
              "      <td>5</td>\n",
              "      <td>6</td>\n",
              "      <td>11</td>\n",
              "      <td>12</td>\n",
              "      <td>9</td>\n",
              "      <td>10.666667</td>\n",
              "    </tr>\n",
              "    <tr>\n",
              "      <th>647</th>\n",
              "      <td>MS</td>\n",
              "      <td>M</td>\n",
              "      <td>17</td>\n",
              "      <td>U</td>\n",
              "      <td>LE3</td>\n",
              "      <td>T</td>\n",
              "      <td>3</td>\n",
              "      <td>1</td>\n",
              "      <td>services</td>\n",
              "      <td>services</td>\n",
              "      <td>...</td>\n",
              "      <td>4</td>\n",
              "      <td>5</td>\n",
              "      <td>3</td>\n",
              "      <td>4</td>\n",
              "      <td>2</td>\n",
              "      <td>6</td>\n",
              "      <td>10</td>\n",
              "      <td>10</td>\n",
              "      <td>10</td>\n",
              "      <td>10.000000</td>\n",
              "    </tr>\n",
              "    <tr>\n",
              "      <th>648</th>\n",
              "      <td>MS</td>\n",
              "      <td>M</td>\n",
              "      <td>18</td>\n",
              "      <td>R</td>\n",
              "      <td>LE3</td>\n",
              "      <td>T</td>\n",
              "      <td>3</td>\n",
              "      <td>2</td>\n",
              "      <td>services</td>\n",
              "      <td>other</td>\n",
              "      <td>...</td>\n",
              "      <td>4</td>\n",
              "      <td>1</td>\n",
              "      <td>3</td>\n",
              "      <td>4</td>\n",
              "      <td>5</td>\n",
              "      <td>4</td>\n",
              "      <td>10</td>\n",
              "      <td>11</td>\n",
              "      <td>11</td>\n",
              "      <td>10.666667</td>\n",
              "    </tr>\n",
              "  </tbody>\n",
              "</table>\n",
              "<p>644 rows × 34 columns</p>\n",
              "</div>\n",
              "      <button class=\"colab-df-convert\" onclick=\"convertToInteractive('df-2ec5595d-d54f-422d-8dd1-82b280f92d17')\"\n",
              "              title=\"Convert this dataframe to an interactive table.\"\n",
              "              style=\"display:none;\">\n",
              "        \n",
              "  <svg xmlns=\"http://www.w3.org/2000/svg\" height=\"24px\"viewBox=\"0 0 24 24\"\n",
              "       width=\"24px\">\n",
              "    <path d=\"M0 0h24v24H0V0z\" fill=\"none\"/>\n",
              "    <path d=\"M18.56 5.44l.94 2.06.94-2.06 2.06-.94-2.06-.94-.94-2.06-.94 2.06-2.06.94zm-11 1L8.5 8.5l.94-2.06 2.06-.94-2.06-.94L8.5 2.5l-.94 2.06-2.06.94zm10 10l.94 2.06.94-2.06 2.06-.94-2.06-.94-.94-2.06-.94 2.06-2.06.94z\"/><path d=\"M17.41 7.96l-1.37-1.37c-.4-.4-.92-.59-1.43-.59-.52 0-1.04.2-1.43.59L10.3 9.45l-7.72 7.72c-.78.78-.78 2.05 0 2.83L4 21.41c.39.39.9.59 1.41.59.51 0 1.02-.2 1.41-.59l7.78-7.78 2.81-2.81c.8-.78.8-2.07 0-2.86zM5.41 20L4 18.59l7.72-7.72 1.47 1.35L5.41 20z\"/>\n",
              "  </svg>\n",
              "      </button>\n",
              "      \n",
              "  <style>\n",
              "    .colab-df-container {\n",
              "      display:flex;\n",
              "      flex-wrap:wrap;\n",
              "      gap: 12px;\n",
              "    }\n",
              "\n",
              "    .colab-df-convert {\n",
              "      background-color: #E8F0FE;\n",
              "      border: none;\n",
              "      border-radius: 50%;\n",
              "      cursor: pointer;\n",
              "      display: none;\n",
              "      fill: #1967D2;\n",
              "      height: 32px;\n",
              "      padding: 0 0 0 0;\n",
              "      width: 32px;\n",
              "    }\n",
              "\n",
              "    .colab-df-convert:hover {\n",
              "      background-color: #E2EBFA;\n",
              "      box-shadow: 0px 1px 2px rgba(60, 64, 67, 0.3), 0px 1px 3px 1px rgba(60, 64, 67, 0.15);\n",
              "      fill: #174EA6;\n",
              "    }\n",
              "\n",
              "    [theme=dark] .colab-df-convert {\n",
              "      background-color: #3B4455;\n",
              "      fill: #D2E3FC;\n",
              "    }\n",
              "\n",
              "    [theme=dark] .colab-df-convert:hover {\n",
              "      background-color: #434B5C;\n",
              "      box-shadow: 0px 1px 3px 1px rgba(0, 0, 0, 0.15);\n",
              "      filter: drop-shadow(0px 1px 2px rgba(0, 0, 0, 0.3));\n",
              "      fill: #FFFFFF;\n",
              "    }\n",
              "  </style>\n",
              "\n",
              "      <script>\n",
              "        const buttonEl =\n",
              "          document.querySelector('#df-2ec5595d-d54f-422d-8dd1-82b280f92d17 button.colab-df-convert');\n",
              "        buttonEl.style.display =\n",
              "          google.colab.kernel.accessAllowed ? 'block' : 'none';\n",
              "\n",
              "        async function convertToInteractive(key) {\n",
              "          const element = document.querySelector('#df-2ec5595d-d54f-422d-8dd1-82b280f92d17');\n",
              "          const dataTable =\n",
              "            await google.colab.kernel.invokeFunction('convertToInteractive',\n",
              "                                                     [key], {});\n",
              "          if (!dataTable) return;\n",
              "\n",
              "          const docLinkHtml = 'Like what you see? Visit the ' +\n",
              "            '<a target=\"_blank\" href=https://colab.research.google.com/notebooks/data_table.ipynb>data table notebook</a>'\n",
              "            + ' to learn more about interactive tables.';\n",
              "          element.innerHTML = '';\n",
              "          dataTable['output_type'] = 'display_data';\n",
              "          await google.colab.output.renderOutput(dataTable, element);\n",
              "          const docLink = document.createElement('div');\n",
              "          docLink.innerHTML = docLinkHtml;\n",
              "          element.appendChild(docLink);\n",
              "        }\n",
              "      </script>\n",
              "    </div>\n",
              "  </div>\n",
              "  "
            ]
          },
          "metadata": {},
          "execution_count": 633
        }
      ]
    },
    {
      "cell_type": "markdown",
      "source": [
        "\n",
        "\n",
        "*   Variables dummys\n",
        "\n"
      ],
      "metadata": {
        "id": "jy4X7cN0edvC"
      }
    },
    {
      "cell_type": "markdown",
      "source": [
        "Sexo"
      ],
      "metadata": {
        "id": "d3ZkMeb3iQaT"
      }
    },
    {
      "cell_type": "code",
      "source": [
        " base1 = pd.get_dummies(df_porf,columns=[\"sex\"])"
      ],
      "metadata": {
        "id": "Hlz61eagei_i"
      },
      "execution_count": 634,
      "outputs": []
    },
    {
      "cell_type": "markdown",
      "source": [
        "School"
      ],
      "metadata": {
        "id": "vr4BNmRqiXZe"
      }
    },
    {
      "cell_type": "code",
      "source": [
        "base2 = pd.get_dummies(base1,columns=[\"school\"])"
      ],
      "metadata": {
        "id": "vuV3iFqlg2G-"
      },
      "execution_count": 635,
      "outputs": []
    },
    {
      "cell_type": "markdown",
      "source": [
        "Paid"
      ],
      "metadata": {
        "id": "V8Rl59IpipRe"
      }
    },
    {
      "cell_type": "code",
      "source": [
        "base3 = pd.get_dummies(base2,columns=[\"paid\"])"
      ],
      "metadata": {
        "id": "GlR4qhTaixW0"
      },
      "execution_count": 636,
      "outputs": []
    },
    {
      "cell_type": "code",
      "source": [
        "base4 = pd.get_dummies(base3,columns=[\"internet\"])"
      ],
      "metadata": {
        "id": "fjmUMGeb3d6g"
      },
      "execution_count": 637,
      "outputs": []
    },
    {
      "cell_type": "code",
      "source": [
        "Basefinal = pd.get_dummies(base4,columns=[\"famsup\"])"
      ],
      "metadata": {
        "id": "aR6y0z6g3ePq"
      },
      "execution_count": 638,
      "outputs": []
    },
    {
      "cell_type": "markdown",
      "source": [
        "\n",
        "\n",
        "*   BASE FINAL\n",
        "\n"
      ],
      "metadata": {
        "id": "8zHi1Y_3jBUv"
      }
    },
    {
      "cell_type": "code",
      "source": [
        "Basefinal"
      ],
      "metadata": {
        "colab": {
          "base_uri": "https://localhost:8080/",
          "height": 0
        },
        "id": "tWFMZSUxi3sN",
        "outputId": "0f65a2c9-80e5-414e-d74c-634ec7cd925f"
      },
      "execution_count": 639,
      "outputs": [
        {
          "output_type": "execute_result",
          "data": {
            "text/plain": [
              "     age address famsize Pstatus  Medu  Fedu      Mjob      Fjob  reason  \\\n",
              "0     18       U     GT3       A     4     4   at_home   teacher  course   \n",
              "1     17       U     GT3       T     1     1   at_home     other  course   \n",
              "2     15       U     LE3       T     1     1   at_home     other   other   \n",
              "3     15       U     GT3       T     4     2    health  services    home   \n",
              "4     16       U     GT3       T     3     3     other     other    home   \n",
              "..   ...     ...     ...     ...   ...   ...       ...       ...     ...   \n",
              "644   19       R     GT3       T     2     3  services     other  course   \n",
              "645   18       U     LE3       T     3     1   teacher  services  course   \n",
              "646   18       U     GT3       T     1     1     other     other  course   \n",
              "647   17       U     LE3       T     3     1  services  services  course   \n",
              "648   18       R     LE3       T     3     2  services     other  course   \n",
              "\n",
              "    guardian  ...  sex_F  sex_M  school_GP school_MS paid_no paid_yes  \\\n",
              "0     mother  ...      1      0          1         0       1        0   \n",
              "1     father  ...      1      0          1         0       1        0   \n",
              "2     mother  ...      1      0          1         0       1        0   \n",
              "3     mother  ...      1      0          1         0       1        0   \n",
              "4     father  ...      1      0          1         0       1        0   \n",
              "..       ...  ...    ...    ...        ...       ...     ...      ...   \n",
              "644   mother  ...      1      0          0         1       1        0   \n",
              "645   mother  ...      1      0          0         1       1        0   \n",
              "646   mother  ...      1      0          0         1       1        0   \n",
              "647   mother  ...      0      1          0         1       1        0   \n",
              "648   mother  ...      0      1          0         1       1        0   \n",
              "\n",
              "    internet_no internet_yes  famsup_no  famsup_yes  \n",
              "0             1            0          1           0  \n",
              "1             0            1          0           1  \n",
              "2             0            1          1           0  \n",
              "3             0            1          0           1  \n",
              "4             1            0          0           1  \n",
              "..          ...          ...        ...         ...  \n",
              "644           0            1          1           0  \n",
              "645           0            1          0           1  \n",
              "646           1            0          1           0  \n",
              "647           0            1          1           0  \n",
              "648           0            1          1           0  \n",
              "\n",
              "[644 rows x 39 columns]"
            ],
            "text/html": [
              "\n",
              "  <div id=\"df-73978321-6593-4073-85e1-9cf90b02197b\">\n",
              "    <div class=\"colab-df-container\">\n",
              "      <div>\n",
              "<style scoped>\n",
              "    .dataframe tbody tr th:only-of-type {\n",
              "        vertical-align: middle;\n",
              "    }\n",
              "\n",
              "    .dataframe tbody tr th {\n",
              "        vertical-align: top;\n",
              "    }\n",
              "\n",
              "    .dataframe thead th {\n",
              "        text-align: right;\n",
              "    }\n",
              "</style>\n",
              "<table border=\"1\" class=\"dataframe\">\n",
              "  <thead>\n",
              "    <tr style=\"text-align: right;\">\n",
              "      <th></th>\n",
              "      <th>age</th>\n",
              "      <th>address</th>\n",
              "      <th>famsize</th>\n",
              "      <th>Pstatus</th>\n",
              "      <th>Medu</th>\n",
              "      <th>Fedu</th>\n",
              "      <th>Mjob</th>\n",
              "      <th>Fjob</th>\n",
              "      <th>reason</th>\n",
              "      <th>guardian</th>\n",
              "      <th>...</th>\n",
              "      <th>sex_F</th>\n",
              "      <th>sex_M</th>\n",
              "      <th>school_GP</th>\n",
              "      <th>school_MS</th>\n",
              "      <th>paid_no</th>\n",
              "      <th>paid_yes</th>\n",
              "      <th>internet_no</th>\n",
              "      <th>internet_yes</th>\n",
              "      <th>famsup_no</th>\n",
              "      <th>famsup_yes</th>\n",
              "    </tr>\n",
              "  </thead>\n",
              "  <tbody>\n",
              "    <tr>\n",
              "      <th>0</th>\n",
              "      <td>18</td>\n",
              "      <td>U</td>\n",
              "      <td>GT3</td>\n",
              "      <td>A</td>\n",
              "      <td>4</td>\n",
              "      <td>4</td>\n",
              "      <td>at_home</td>\n",
              "      <td>teacher</td>\n",
              "      <td>course</td>\n",
              "      <td>mother</td>\n",
              "      <td>...</td>\n",
              "      <td>1</td>\n",
              "      <td>0</td>\n",
              "      <td>1</td>\n",
              "      <td>0</td>\n",
              "      <td>1</td>\n",
              "      <td>0</td>\n",
              "      <td>1</td>\n",
              "      <td>0</td>\n",
              "      <td>1</td>\n",
              "      <td>0</td>\n",
              "    </tr>\n",
              "    <tr>\n",
              "      <th>1</th>\n",
              "      <td>17</td>\n",
              "      <td>U</td>\n",
              "      <td>GT3</td>\n",
              "      <td>T</td>\n",
              "      <td>1</td>\n",
              "      <td>1</td>\n",
              "      <td>at_home</td>\n",
              "      <td>other</td>\n",
              "      <td>course</td>\n",
              "      <td>father</td>\n",
              "      <td>...</td>\n",
              "      <td>1</td>\n",
              "      <td>0</td>\n",
              "      <td>1</td>\n",
              "      <td>0</td>\n",
              "      <td>1</td>\n",
              "      <td>0</td>\n",
              "      <td>0</td>\n",
              "      <td>1</td>\n",
              "      <td>0</td>\n",
              "      <td>1</td>\n",
              "    </tr>\n",
              "    <tr>\n",
              "      <th>2</th>\n",
              "      <td>15</td>\n",
              "      <td>U</td>\n",
              "      <td>LE3</td>\n",
              "      <td>T</td>\n",
              "      <td>1</td>\n",
              "      <td>1</td>\n",
              "      <td>at_home</td>\n",
              "      <td>other</td>\n",
              "      <td>other</td>\n",
              "      <td>mother</td>\n",
              "      <td>...</td>\n",
              "      <td>1</td>\n",
              "      <td>0</td>\n",
              "      <td>1</td>\n",
              "      <td>0</td>\n",
              "      <td>1</td>\n",
              "      <td>0</td>\n",
              "      <td>0</td>\n",
              "      <td>1</td>\n",
              "      <td>1</td>\n",
              "      <td>0</td>\n",
              "    </tr>\n",
              "    <tr>\n",
              "      <th>3</th>\n",
              "      <td>15</td>\n",
              "      <td>U</td>\n",
              "      <td>GT3</td>\n",
              "      <td>T</td>\n",
              "      <td>4</td>\n",
              "      <td>2</td>\n",
              "      <td>health</td>\n",
              "      <td>services</td>\n",
              "      <td>home</td>\n",
              "      <td>mother</td>\n",
              "      <td>...</td>\n",
              "      <td>1</td>\n",
              "      <td>0</td>\n",
              "      <td>1</td>\n",
              "      <td>0</td>\n",
              "      <td>1</td>\n",
              "      <td>0</td>\n",
              "      <td>0</td>\n",
              "      <td>1</td>\n",
              "      <td>0</td>\n",
              "      <td>1</td>\n",
              "    </tr>\n",
              "    <tr>\n",
              "      <th>4</th>\n",
              "      <td>16</td>\n",
              "      <td>U</td>\n",
              "      <td>GT3</td>\n",
              "      <td>T</td>\n",
              "      <td>3</td>\n",
              "      <td>3</td>\n",
              "      <td>other</td>\n",
              "      <td>other</td>\n",
              "      <td>home</td>\n",
              "      <td>father</td>\n",
              "      <td>...</td>\n",
              "      <td>1</td>\n",
              "      <td>0</td>\n",
              "      <td>1</td>\n",
              "      <td>0</td>\n",
              "      <td>1</td>\n",
              "      <td>0</td>\n",
              "      <td>1</td>\n",
              "      <td>0</td>\n",
              "      <td>0</td>\n",
              "      <td>1</td>\n",
              "    </tr>\n",
              "    <tr>\n",
              "      <th>...</th>\n",
              "      <td>...</td>\n",
              "      <td>...</td>\n",
              "      <td>...</td>\n",
              "      <td>...</td>\n",
              "      <td>...</td>\n",
              "      <td>...</td>\n",
              "      <td>...</td>\n",
              "      <td>...</td>\n",
              "      <td>...</td>\n",
              "      <td>...</td>\n",
              "      <td>...</td>\n",
              "      <td>...</td>\n",
              "      <td>...</td>\n",
              "      <td>...</td>\n",
              "      <td>...</td>\n",
              "      <td>...</td>\n",
              "      <td>...</td>\n",
              "      <td>...</td>\n",
              "      <td>...</td>\n",
              "      <td>...</td>\n",
              "      <td>...</td>\n",
              "    </tr>\n",
              "    <tr>\n",
              "      <th>644</th>\n",
              "      <td>19</td>\n",
              "      <td>R</td>\n",
              "      <td>GT3</td>\n",
              "      <td>T</td>\n",
              "      <td>2</td>\n",
              "      <td>3</td>\n",
              "      <td>services</td>\n",
              "      <td>other</td>\n",
              "      <td>course</td>\n",
              "      <td>mother</td>\n",
              "      <td>...</td>\n",
              "      <td>1</td>\n",
              "      <td>0</td>\n",
              "      <td>0</td>\n",
              "      <td>1</td>\n",
              "      <td>1</td>\n",
              "      <td>0</td>\n",
              "      <td>0</td>\n",
              "      <td>1</td>\n",
              "      <td>1</td>\n",
              "      <td>0</td>\n",
              "    </tr>\n",
              "    <tr>\n",
              "      <th>645</th>\n",
              "      <td>18</td>\n",
              "      <td>U</td>\n",
              "      <td>LE3</td>\n",
              "      <td>T</td>\n",
              "      <td>3</td>\n",
              "      <td>1</td>\n",
              "      <td>teacher</td>\n",
              "      <td>services</td>\n",
              "      <td>course</td>\n",
              "      <td>mother</td>\n",
              "      <td>...</td>\n",
              "      <td>1</td>\n",
              "      <td>0</td>\n",
              "      <td>0</td>\n",
              "      <td>1</td>\n",
              "      <td>1</td>\n",
              "      <td>0</td>\n",
              "      <td>0</td>\n",
              "      <td>1</td>\n",
              "      <td>0</td>\n",
              "      <td>1</td>\n",
              "    </tr>\n",
              "    <tr>\n",
              "      <th>646</th>\n",
              "      <td>18</td>\n",
              "      <td>U</td>\n",
              "      <td>GT3</td>\n",
              "      <td>T</td>\n",
              "      <td>1</td>\n",
              "      <td>1</td>\n",
              "      <td>other</td>\n",
              "      <td>other</td>\n",
              "      <td>course</td>\n",
              "      <td>mother</td>\n",
              "      <td>...</td>\n",
              "      <td>1</td>\n",
              "      <td>0</td>\n",
              "      <td>0</td>\n",
              "      <td>1</td>\n",
              "      <td>1</td>\n",
              "      <td>0</td>\n",
              "      <td>1</td>\n",
              "      <td>0</td>\n",
              "      <td>1</td>\n",
              "      <td>0</td>\n",
              "    </tr>\n",
              "    <tr>\n",
              "      <th>647</th>\n",
              "      <td>17</td>\n",
              "      <td>U</td>\n",
              "      <td>LE3</td>\n",
              "      <td>T</td>\n",
              "      <td>3</td>\n",
              "      <td>1</td>\n",
              "      <td>services</td>\n",
              "      <td>services</td>\n",
              "      <td>course</td>\n",
              "      <td>mother</td>\n",
              "      <td>...</td>\n",
              "      <td>0</td>\n",
              "      <td>1</td>\n",
              "      <td>0</td>\n",
              "      <td>1</td>\n",
              "      <td>1</td>\n",
              "      <td>0</td>\n",
              "      <td>0</td>\n",
              "      <td>1</td>\n",
              "      <td>1</td>\n",
              "      <td>0</td>\n",
              "    </tr>\n",
              "    <tr>\n",
              "      <th>648</th>\n",
              "      <td>18</td>\n",
              "      <td>R</td>\n",
              "      <td>LE3</td>\n",
              "      <td>T</td>\n",
              "      <td>3</td>\n",
              "      <td>2</td>\n",
              "      <td>services</td>\n",
              "      <td>other</td>\n",
              "      <td>course</td>\n",
              "      <td>mother</td>\n",
              "      <td>...</td>\n",
              "      <td>0</td>\n",
              "      <td>1</td>\n",
              "      <td>0</td>\n",
              "      <td>1</td>\n",
              "      <td>1</td>\n",
              "      <td>0</td>\n",
              "      <td>0</td>\n",
              "      <td>1</td>\n",
              "      <td>1</td>\n",
              "      <td>0</td>\n",
              "    </tr>\n",
              "  </tbody>\n",
              "</table>\n",
              "<p>644 rows × 39 columns</p>\n",
              "</div>\n",
              "      <button class=\"colab-df-convert\" onclick=\"convertToInteractive('df-73978321-6593-4073-85e1-9cf90b02197b')\"\n",
              "              title=\"Convert this dataframe to an interactive table.\"\n",
              "              style=\"display:none;\">\n",
              "        \n",
              "  <svg xmlns=\"http://www.w3.org/2000/svg\" height=\"24px\"viewBox=\"0 0 24 24\"\n",
              "       width=\"24px\">\n",
              "    <path d=\"M0 0h24v24H0V0z\" fill=\"none\"/>\n",
              "    <path d=\"M18.56 5.44l.94 2.06.94-2.06 2.06-.94-2.06-.94-.94-2.06-.94 2.06-2.06.94zm-11 1L8.5 8.5l.94-2.06 2.06-.94-2.06-.94L8.5 2.5l-.94 2.06-2.06.94zm10 10l.94 2.06.94-2.06 2.06-.94-2.06-.94-.94-2.06-.94 2.06-2.06.94z\"/><path d=\"M17.41 7.96l-1.37-1.37c-.4-.4-.92-.59-1.43-.59-.52 0-1.04.2-1.43.59L10.3 9.45l-7.72 7.72c-.78.78-.78 2.05 0 2.83L4 21.41c.39.39.9.59 1.41.59.51 0 1.02-.2 1.41-.59l7.78-7.78 2.81-2.81c.8-.78.8-2.07 0-2.86zM5.41 20L4 18.59l7.72-7.72 1.47 1.35L5.41 20z\"/>\n",
              "  </svg>\n",
              "      </button>\n",
              "      \n",
              "  <style>\n",
              "    .colab-df-container {\n",
              "      display:flex;\n",
              "      flex-wrap:wrap;\n",
              "      gap: 12px;\n",
              "    }\n",
              "\n",
              "    .colab-df-convert {\n",
              "      background-color: #E8F0FE;\n",
              "      border: none;\n",
              "      border-radius: 50%;\n",
              "      cursor: pointer;\n",
              "      display: none;\n",
              "      fill: #1967D2;\n",
              "      height: 32px;\n",
              "      padding: 0 0 0 0;\n",
              "      width: 32px;\n",
              "    }\n",
              "\n",
              "    .colab-df-convert:hover {\n",
              "      background-color: #E2EBFA;\n",
              "      box-shadow: 0px 1px 2px rgba(60, 64, 67, 0.3), 0px 1px 3px 1px rgba(60, 64, 67, 0.15);\n",
              "      fill: #174EA6;\n",
              "    }\n",
              "\n",
              "    [theme=dark] .colab-df-convert {\n",
              "      background-color: #3B4455;\n",
              "      fill: #D2E3FC;\n",
              "    }\n",
              "\n",
              "    [theme=dark] .colab-df-convert:hover {\n",
              "      background-color: #434B5C;\n",
              "      box-shadow: 0px 1px 3px 1px rgba(0, 0, 0, 0.15);\n",
              "      filter: drop-shadow(0px 1px 2px rgba(0, 0, 0, 0.3));\n",
              "      fill: #FFFFFF;\n",
              "    }\n",
              "  </style>\n",
              "\n",
              "      <script>\n",
              "        const buttonEl =\n",
              "          document.querySelector('#df-73978321-6593-4073-85e1-9cf90b02197b button.colab-df-convert');\n",
              "        buttonEl.style.display =\n",
              "          google.colab.kernel.accessAllowed ? 'block' : 'none';\n",
              "\n",
              "        async function convertToInteractive(key) {\n",
              "          const element = document.querySelector('#df-73978321-6593-4073-85e1-9cf90b02197b');\n",
              "          const dataTable =\n",
              "            await google.colab.kernel.invokeFunction('convertToInteractive',\n",
              "                                                     [key], {});\n",
              "          if (!dataTable) return;\n",
              "\n",
              "          const docLinkHtml = 'Like what you see? Visit the ' +\n",
              "            '<a target=\"_blank\" href=https://colab.research.google.com/notebooks/data_table.ipynb>data table notebook</a>'\n",
              "            + ' to learn more about interactive tables.';\n",
              "          element.innerHTML = '';\n",
              "          dataTable['output_type'] = 'display_data';\n",
              "          await google.colab.output.renderOutput(dataTable, element);\n",
              "          const docLink = document.createElement('div');\n",
              "          docLink.innerHTML = docLinkHtml;\n",
              "          element.appendChild(docLink);\n",
              "        }\n",
              "      </script>\n",
              "    </div>\n",
              "  </div>\n",
              "  "
            ]
          },
          "metadata": {},
          "execution_count": 639
        }
      ]
    },
    {
      "cell_type": "markdown",
      "source": [
        "##Resumen\n",
        "\n"
      ],
      "metadata": {
        "id": "Osw8tuIuzPqI"
      }
    },
    {
      "cell_type": "markdown",
      "source": [
        "El conjunto de datos con información relativa del rendimiento de los estudiantes de educación secundaria, de dos escuelas portuguesas, en la asignatura de lengua portuguesa, contiene 33 variables y 649 datos, donde se evidencian 17 variables de tipo categórico/cualitativo, las cuales son: school, sex, address, famsize, Pstatus, Mjob, Fjob, reason, guardian, schoolsup, famsup, paid, activities, nursery, higher, internet y romantic. Por otro lado, se evidenciaron 16 variables de tipo cuantitativo, las cuales son: age, Medu, Fedu, traveltime, studytime, failures, famrel, freetime, goout, Dalc, Walc, health, absences, G1, G2 y G3. \n",
        "\n",
        "En cuanto a los valores faltantes, se presentaron en las variables sex(2 valores), famsize(2 valores), Pstatus(2 valores), Fjob(1 valor), guardian(2 valores), famsup(2 valores), nursery (1 valor), higher(1 valor) y en cuanto al porcentaje de valores faltantes, estas representan el 0.31%, 0.31%, 0.31%, 0.15%, 0.31%, 0.31%, 0.15% y 0.15% respectivamente.\n",
        "Es importante mencionar que la variable sex es de interés para estimar el modelo, por lo que se decidió borrar los dos registros perdidos para no tener algun inconveniente en la estimación, esto se hizo tomando en cuenta que la variable no representa un porcentaje alto de valores faltantes. Por parte, para las demás variables, no se realizo algún tipo de imputación, ya que no son de interes para estimar el modelo. Es por esto que la base cambio a tener 647 datos y 33 variables.\n",
        "\n",
        "Referente a los datos duplicados, para este conjunto de datos se realizó la revisón correspondiente y no se encontró alguno. \n",
        "\n",
        "Posteriormente, se verificó la consistencia de cada variable cualitativa y cuantivativa en relación con el diccionario proporcionado, en donde se evidencio que habían algunas inconsistencias en las siguientes casos: \n",
        "\n",
        "* Variable Pstatus que es binaria: \"T\" - convivencia o \"A\" - separación, se digitó para un dato \"B\", lo cual no tiene coherencia. \n",
        "* Variables binarias (yes o no), mal estructuradas: schoolsup, paid, activities, nursery, internet, romantic.\n",
        "* Variables del primer (G1) y tercer periodo (G3), donde solo deberian haber notas de 0 a 20, se encontró una nota de 25 y otra de 36 respectivamente. \n",
        "\n",
        "Para la solución de las inconsistencias presentadas, primero se estructuro de manera correcta cada variable binaria. Despúes, se optó por eliminar los datos con la información de las dos notas por fuera del rango establecido en el diccionario. \n",
        "\n",
        "Respecto a la discretización, normalización e integración de los datos, no se determino alguna de estas necesaria para optimizar la calidad de los datos.\n",
        "\n",
        "Por último, se creo una nueva base con las variables cualitativas/categóticas tranformadas a dummys y la variables de notas finales (NF) para poder estimar el modelo de regresión. "
      ],
      "metadata": {
        "id": "pPUQpl7tzY3U"
      }
    },
    {
      "cell_type": "markdown",
      "source": [
        "#Punto 2 \n",
        "\n",
        "Análisis exploratorio"
      ],
      "metadata": {
        "id": "-GwP01UAyrHU"
      }
    },
    {
      "cell_type": "markdown",
      "source": [
        "2.1 Matriz de correlación "
      ],
      "metadata": {
        "id": "Tquz53ONlIVV"
      }
    },
    {
      "cell_type": "code",
      "source": [
        "import seaborn as sns\n",
        "import matplotlib.pyplot as plt\n",
        "corr_df = Basefinal[[\"NF\", \"studytime\", \"absences\",\"sex_F\",\t\"sex_M\"\t,\"school_GP\",\t\"school_MS\",\t\"paid_no\",\t\"paid_yes\" ]].corr(method='pearson')\n",
        "\n",
        "plt.figure(figsize=(8, 6))\n",
        "sns.heatmap(corr_df, annot=True)\n",
        "plt.show()"
      ],
      "metadata": {
        "id": "OBegDuLPyv0x",
        "colab": {
          "base_uri": "https://localhost:8080/",
          "height": 0
        },
        "outputId": "f8eba0b4-3856-4fb7-8930-f98b8d152292"
      },
      "execution_count": 791,
      "outputs": [
        {
          "output_type": "display_data",
          "data": {
            "text/plain": [
              "<Figure size 576x432 with 2 Axes>"
            ],
            "image/png": "[encoded data removed]"
          },
          "metadata": {
            "needs_background": "light"
          }
        }
      ]
    },
    {
      "cell_type": "markdown",
      "source": [
        "Teniendo en cuenta el gráfico de correlación, se evidencia que la variable con mayor correlación con las notas finales(NF), es studytime con un valor de 26% y le siguen school_GP y school_MS con un 30% y -30% respectivamente. Por otro lado, las variables que menos correlación tienen son sex, absences y  paid. "
      ],
      "metadata": {
        "id": "Q6aMxbqArQXk"
      }
    },
    {
      "cell_type": "markdown",
      "source": [
        "* Matriz de correlación con otras variables "
      ],
      "metadata": {
        "id": "xAT2WB922Rqg"
      }
    },
    {
      "cell_type": "code",
      "source": [
        "import seaborn as sns\n",
        "import matplotlib.pyplot as plt\n",
        "corr_df = Basefinal[[\"NF\", \"age\",\"traveltime\", \"failures\", \"internet_no\",\t\"internet_yes\",\t\"famsup_no\", \t\"famsup_yes\"]].corr(method='pearson')\n",
        "\n",
        "plt.figure(figsize=(8, 6))\n",
        "sns.heatmap(corr_df, annot=True)\n",
        "plt.show()"
      ],
      "metadata": {
        "colab": {
          "base_uri": "https://localhost:8080/",
          "height": 0
        },
        "id": "ZzTsCXpN0_RY",
        "outputId": "c6396f8e-b9d3-4c10-9bac-9aa1daf97daa"
      },
      "execution_count": 792,
      "outputs": [
        {
          "output_type": "display_data",
          "data": {
            "text/plain": [
              "<Figure size 576x432 with 2 Axes>"
            ],
            "image/png": "[encoded data removed]"
          },
          "metadata": {
            "needs_background": "light"
          }
        }
      ]
    },
    {
      "cell_type": "markdown",
      "source": [
        "Observando el anterior gráfico de correlación, sse evidenció que la variable con mayor correlación con las notas finales(NF), es failures con un valor de -41%, le siguen traveltime con un -15% y por ultimo internet_no e internet_yes con 15% y -15% respectivamente. Por otro lado, las variables que menos correlación tienen son age, famsup_yes y famsup_no.   "
      ],
      "metadata": {
        "id": "0fyeiBuJ4Ozs"
      }
    },
    {
      "cell_type": "markdown",
      "source": [
        "Con base al anterior análisis de correlación, se priorizaron para estimar las notas finales (NF) las siguientes variables: failures, studytime, school_GP, school_MS, traveltime, internet_no  e internet_yes. \n",
        "\n",
        "Es importante mencionar que algunas de estas variables presentan correlaciones negativas pero se considearon necesarias para estimar el modelo. "
      ],
      "metadata": {
        "id": "G67nzpvj6yYc"
      }
    },
    {
      "cell_type": "markdown",
      "source": [
        "Por último, se hizo de nuevo la matriz de correlación con las variables seleccionadas para verificar que no esten muy correlacionadas para no tener problemas de multicolinealidad."
      ],
      "metadata": {
        "id": "wyB591K378lz"
      }
    },
    {
      "cell_type": "code",
      "source": [
        "import seaborn as sns\n",
        "import matplotlib.pyplot as plt\n",
        "corr_df = Basefinal[[\"traveltime\", \"failures\", \"internet_no\",\t\"internet_yes\",\t\"studytime\", \"school_GP\",\"school_MS\"]].corr(method='pearson')\n",
        "\n",
        "plt.figure(figsize=(8, 6))\n",
        "sns.heatmap(corr_df, annot=True)\n",
        "plt.show()"
      ],
      "metadata": {
        "colab": {
          "base_uri": "https://localhost:8080/",
          "height": 0
        },
        "id": "y6V90EG28PnD",
        "outputId": "86bb55a9-e816-463d-8314-83e71633fe03"
      },
      "execution_count": 793,
      "outputs": [
        {
          "output_type": "display_data",
          "data": {
            "text/plain": [
              "<Figure size 576x432 with 2 Axes>"
            ],
            "image/png": "[encoded data removed]"
          },
          "metadata": {
            "needs_background": "light"
          }
        }
      ]
    },
    {
      "cell_type": "markdown",
      "source": [
        "Dado que las variables no tienen un nivel de correlación alto entre ellas, se seguira trabajando con estas. \n",
        "\n",
        "Adicionalmente, es fundamental aclarar que existe una correlación muy alta entre las variables internet_si con internet_no y school_GP con school_MS, pero esto ocurre ya que estas provienen de una sola variable pero se tranformaron en dummys para optimizar el proceso. Además, hay que tomar en cuenta que al ser dummys, cada una significa algo distinto y por esto no afectara la estimación del modelo. "
      ],
      "metadata": {
        "id": "JWXSCoUw9sie"
      }
    },
    {
      "cell_type": "markdown",
      "source": [
        "2.2 Gráfico de barras"
      ],
      "metadata": {
        "id": "Envl09WA_zOB"
      }
    },
    {
      "cell_type": "code",
      "source": [
        "sns.barplot(data = df_porf,estimator= np.mean,\n",
        "            x = \"school\", \n",
        "            y = \"NF\",\n",
        "            ci = None) "
      ],
      "metadata": {
        "colab": {
          "base_uri": "https://localhost:8080/",
          "height": 0
        },
        "id": "cQB_V3jq_x2l",
        "outputId": "cc92a17e-5c6e-4534-ec7b-87d67b6b10bd"
      },
      "execution_count": 794,
      "outputs": [
        {
          "output_type": "execute_result",
          "data": {
            "text/plain": [
              "<matplotlib.axes._subplots.AxesSubplot at 0x7f1cb2688bd0>"
            ]
          },
          "metadata": {},
          "execution_count": 794
        },
        {
          "output_type": "display_data",
          "data": {
            "text/plain": [
              "<Figure size 432x288 with 1 Axes>"
            ],
            "image/png": "[encoded data removed]"
          },
          "metadata": {
            "needs_background": "light"
          }
        }
      ]
    },
    {
      "cell_type": "markdown",
      "source": [
        "Observado el gráfico anterior, se visualiza que las notas finales en promedio son más altas para los estudiantes de la escuala GP, con aproximadamente 12,2 de calificación.  "
      ],
      "metadata": {
        "id": "IQCRssaXB2GI"
      }
    },
    {
      "cell_type": "code",
      "source": [
        "sns.barplot(data = df_porf,\n",
        "            estimator = sum,\n",
        "            x = \"school\", \n",
        "            y = \"failures\",\n",
        "            ci = None)"
      ],
      "metadata": {
        "colab": {
          "base_uri": "https://localhost:8080/",
          "height": 0
        },
        "id": "zzCDybvTClly",
        "outputId": "a9242530-2530-42ee-cdfd-65f4d66dbff4"
      },
      "execution_count": 795,
      "outputs": [
        {
          "output_type": "execute_result",
          "data": {
            "text/plain": [
              "<matplotlib.axes._subplots.AxesSubplot at 0x7f1caf19ca50>"
            ]
          },
          "metadata": {},
          "execution_count": 795
        },
        {
          "output_type": "display_data",
          "data": {
            "text/plain": [
              "<Figure size 432x288 with 1 Axes>"
            ],
            "image/png": "[encoded data removed]"
          },
          "metadata": {
            "needs_background": "light"
          }
        }
      ]
    },
    {
      "cell_type": "markdown",
      "source": [
        "En el gráfico anterior se observa que el número de fracasos de clase anteriores es un poco mayor para los estudiantes del colegio GP."
      ],
      "metadata": {
        "id": "Eem4oR0aDLMJ"
      }
    },
    {
      "cell_type": "code",
      "source": [
        "sns.barplot(data = df_porf,\n",
        "            estimator = np.mean,\n",
        "            x = \"school\", \n",
        "            y = \"NF\",\n",
        "            hue = \"internet\",\n",
        "            ci = None)"
      ],
      "metadata": {
        "colab": {
          "base_uri": "https://localhost:8080/",
          "height": 0
        },
        "id": "l5bBskFeDSIp",
        "outputId": "e99c35e7-5609-4532-bcc8-e5e36665a220"
      },
      "execution_count": 796,
      "outputs": [
        {
          "output_type": "execute_result",
          "data": {
            "text/plain": [
              "<matplotlib.axes._subplots.AxesSubplot at 0x7f1cb2912e50>"
            ]
          },
          "metadata": {},
          "execution_count": 796
        },
        {
          "output_type": "display_data",
          "data": {
            "text/plain": [
              "<Figure size 432x288 with 1 Axes>"
            ],
            "image/png": "[encoded data removed]"
          },
          "metadata": {
            "needs_background": "light"
          }
        }
      ]
    },
    {
      "cell_type": "markdown",
      "source": [
        "Se destaca del anterior gráfico que los estudiantes de la escuela GP, tienen mejor promedio en las notas finales que los estudiantes que si tienen internet de la escuela MS. Además, se observa que hay mejor promedio de notas en estudiantes que si tienen internet."
      ],
      "metadata": {
        "id": "ZVmvjpLrEIwF"
      }
    },
    {
      "cell_type": "code",
      "source": [
        "sns.barplot(data = df_porf,\n",
        "            estimator = np.mean,\n",
        "            x = \"school\", \n",
        "            y = \"traveltime\",\n",
        "            ci = None)"
      ],
      "metadata": {
        "colab": {
          "base_uri": "https://localhost:8080/",
          "height": 0
        },
        "id": "HYbFbjStEmKe",
        "outputId": "e522be80-38c8-4739-967e-5ba6d584e9cc"
      },
      "execution_count": 797,
      "outputs": [
        {
          "output_type": "execute_result",
          "data": {
            "text/plain": [
              "<matplotlib.axes._subplots.AxesSubplot at 0x7f1cb282f490>"
            ]
          },
          "metadata": {},
          "execution_count": 797
        },
        {
          "output_type": "display_data",
          "data": {
            "text/plain": [
              "<Figure size 432x288 with 1 Axes>"
            ],
            "image/png": "[encoded data removed]"
          },
          "metadata": {
            "needs_background": "light"
          }
        }
      ]
    },
    {
      "cell_type": "markdown",
      "source": [
        " Se visualiza en el gráfico anterior que el tiempo de viaje de la casa a la escuela en promedio es mayor para los estudiantes del colegio MS."
      ],
      "metadata": {
        "id": "9NUDMUmsEsPH"
      }
    },
    {
      "cell_type": "markdown",
      "source": [
        "2.3 Gráfico de calor "
      ],
      "metadata": {
        "id": "2mrDqrAUFrR_"
      }
    },
    {
      "cell_type": "code",
      "source": [
        "sns.displot(df_porf,y=\"NF\",x=\"studytime\")"
      ],
      "metadata": {
        "colab": {
          "base_uri": "https://localhost:8080/",
          "height": 0
        },
        "id": "yW0g13okFZBu",
        "outputId": "40e3c48a-4849-4ef0-dc46-2c7050f102cf"
      },
      "execution_count": 798,
      "outputs": [
        {
          "output_type": "execute_result",
          "data": {
            "text/plain": [
              "<seaborn.axisgrid.FacetGrid at 0x7f1cb2094e90>"
            ]
          },
          "metadata": {},
          "execution_count": 798
        },
        {
          "output_type": "display_data",
          "data": {
            "text/plain": [
              "<Figure size 360x360 with 1 Axes>"
            ],
            "image/png": "[encoded data removed]"
          },
          "metadata": {
            "needs_background": "light"
          }
        }
      ]
    },
    {
      "cell_type": "markdown",
      "source": [
        "De este gráfico se puede análizar que si un estudiante estudia cuatro horas o más a la semana, tiende a tener notas finales por arriba de 6 puntos. Además, se observa que la mayoria de estudiantes estudian dos horas a la semana y tienen 12.5 puntos en sus notas finales. Aunque también se observa que hay una buena concentración estudiantes que estudian dos y una hora a la semana con notas finales aproximadamente en 10 puntos. "
      ],
      "metadata": {
        "id": "Ypb2sY4hFubM"
      }
    },
    {
      "cell_type": "code",
      "source": [
        "sns.displot(df_porf,y=\"studytime\",x=\"internet\")"
      ],
      "metadata": {
        "colab": {
          "base_uri": "https://localhost:8080/",
          "height": 0
        },
        "id": "IZeGTthjNUjq",
        "outputId": "09a275d4-b6aa-4a5b-feb5-1c8abfb066d0"
      },
      "execution_count": 799,
      "outputs": [
        {
          "output_type": "execute_result",
          "data": {
            "text/plain": [
              "<seaborn.axisgrid.FacetGrid at 0x7f1cb20aec10>"
            ]
          },
          "metadata": {},
          "execution_count": 799
        },
        {
          "output_type": "display_data",
          "data": {
            "text/plain": [
              "<Figure size 360x360 with 1 Axes>"
            ],
            "image/png": "[encoded data removed]"
          },
          "metadata": {
            "needs_background": "light"
          }
        }
      ]
    },
    {
      "cell_type": "markdown",
      "source": [
        "En este gráfico se observa que la mayoria de estudiantes tienden a estudiar más horas a la semana si tienen internet. Por otro lado, la mayoria de los estudiantes que tienen internet estudian 2 horas a la semana. "
      ],
      "metadata": {
        "id": "rsJrvmVwN0xi"
      }
    },
    {
      "cell_type": "markdown",
      "source": [
        "2.4 Box plot"
      ],
      "metadata": {
        "id": "1z-AqcyKH5e6"
      }
    },
    {
      "cell_type": "code",
      "source": [
        "var = 'school'\n",
        "data = pd.concat([df_porf['NF'], df_porf[var]], axis=1)\n",
        "f, ax = plt.subplots(figsize=(8, 6))\n",
        "fig = sns.boxplot(x=var, y=\"NF\", data=data)\n",
        "fig.axis(ymin=0, ymax=20);"
      ],
      "metadata": {
        "colab": {
          "base_uri": "https://localhost:8080/",
          "height": 0
        },
        "id": "rgazXAbrH48j",
        "outputId": "b56a3291-0f86-4d21-e5b0-e1770b1b43ef"
      },
      "execution_count": 800,
      "outputs": [
        {
          "output_type": "display_data",
          "data": {
            "text/plain": [
              "<Figure size 576x432 with 1 Axes>"
            ],
            "image/png": "[encoded data removed]"
          },
          "metadata": {
            "needs_background": "light"
          }
        }
      ]
    },
    {
      "cell_type": "markdown",
      "source": [
        "Observando el Box-plot, se corrobora que los estudiantes de la escuela GP tienen en promedio mejores notas. Por otro lado, se ve un dato atípico para la escuela GP de un estudiante con una nota de 17.7 puntos y también se ven 3 datos atípicos de tres estudiantes de la escuela MS con notas finale sentre 1 y 2.6 puntos."
      ],
      "metadata": {
        "id": "aiz-bKFHJraQ"
      }
    },
    {
      "cell_type": "code",
      "source": [
        "var = 'school'\n",
        "data = pd.concat([df_porf['studytime'], df_porf[var]], axis=1)\n",
        "f, ax = plt.subplots(figsize=(8, 6))\n",
        "fig = sns.boxplot(x=var, y=\"studytime\", data=data)\n",
        "fig.axis(ymin=0, ymax=5);"
      ],
      "metadata": {
        "colab": {
          "base_uri": "https://localhost:8080/",
          "height": 0
        },
        "id": "MDpcQYD6K0Ch",
        "outputId": "703c3335-c2d2-4965-f634-5e50950c2515"
      },
      "execution_count": 801,
      "outputs": [
        {
          "output_type": "display_data",
          "data": {
            "text/plain": [
              "<Figure size 576x432 with 1 Axes>"
            ],
            "image/png": "[encoded data removed]"
          },
          "metadata": {
            "needs_background": "light"
          }
        }
      ]
    },
    {
      "cell_type": "markdown",
      "source": [
        "Del anterior gráfico es importante mecionar que para las dos escuelas la mayoria de los estudiantes tienden a estudiar entre una y dos horas a la semanas. Por otra parte, hay unos pocos estudiantes que estudian 4 horas a la semana."
      ],
      "metadata": {
        "id": "M_DZkwIsLW_G"
      }
    },
    {
      "cell_type": "code",
      "source": [
        "var = 'internet'\n",
        "data = pd.concat([df_porf['NF'], df_porf[var]], axis=1)\n",
        "f, ax = plt.subplots(figsize=(8, 6))\n",
        "fig = sns.boxplot(x=var, y=\"NF\", data=data)\n",
        "fig.axis(ymin=0, ymax=20);"
      ],
      "metadata": {
        "colab": {
          "base_uri": "https://localhost:8080/",
          "height": 0
        },
        "id": "HGSfzFAsQXTq",
        "outputId": "e4fed567-79e5-4a6a-b992-f3c30f3357c6"
      },
      "execution_count": 802,
      "outputs": [
        {
          "output_type": "display_data",
          "data": {
            "text/plain": [
              "<Figure size 576x432 with 1 Axes>"
            ],
            "image/png": "[encoded data removed]"
          },
          "metadata": {
            "needs_background": "light"
          }
        }
      ]
    },
    {
      "cell_type": "markdown",
      "source": [
        "Se visualiza en el anterior gráfico, que el promedio de notas finales son más altas cuando los estudiantes tienen internet. Sin embargo, en general no se muestran mejores rendimientos significativos si las personas tienen internet o no."
      ],
      "metadata": {
        "id": "iCF-dyPUQhuk"
      }
    },
    {
      "cell_type": "markdown",
      "source": [
        "2.6 Gráfico de dispersión "
      ],
      "metadata": {
        "id": "EDusM6K8rNHM"
      }
    },
    {
      "cell_type": "code",
      "source": [
        "sns.pairplot(Basefinal[[\"NF\",\"traveltime\", \"failures\", \"internet_no\",\t\"internet_yes\",\t\"studytime\", \"school_GP\",\"school_MS\"]],corner=True)"
      ],
      "metadata": {
        "colab": {
          "base_uri": "https://localhost:8080/",
          "height": 0
        },
        "id": "r0SfcgMWmvdt",
        "outputId": "953353fc-02db-4255-b3a0-be97a5046c95"
      },
      "execution_count": 803,
      "outputs": [
        {
          "output_type": "execute_result",
          "data": {
            "text/plain": [
              "<seaborn.axisgrid.PairGrid at 0x7f1cb200c450>"
            ]
          },
          "metadata": {},
          "execution_count": 803
        },
        {
          "output_type": "display_data",
          "data": {
            "text/plain": [
              "<Figure size 1440x1440 with 44 Axes>"
            ],
            "image/png": "[encoded data removed]"
          },
          "metadata": {
            "needs_background": "light"
          }
        }
      ]
    },
    {
      "cell_type": "code",
      "source": [
        "sns.pairplot(df_porf[[\"NF\", \"studytime\", \"failures\",\"school\"]],hue='school', diag_kind=\"hist\",corner=False)"
      ],
      "metadata": {
        "colab": {
          "base_uri": "https://localhost:8080/",
          "height": 0
        },
        "id": "yLbkC5YUtKDv",
        "outputId": "9f9efc3a-6a96-4471-d841-2af7e0d5bb1e"
      },
      "execution_count": 804,
      "outputs": [
        {
          "output_type": "execute_result",
          "data": {
            "text/plain": [
              "<seaborn.axisgrid.PairGrid at 0x7f1cacf2f9d0>"
            ]
          },
          "metadata": {},
          "execution_count": 804
        },
        {
          "output_type": "display_data",
          "data": {
            "text/plain": [
              "<Figure size 590.875x540 with 12 Axes>"
            ],
            "image/png": "[encoded data removed]"
          },
          "metadata": {
            "needs_background": "light"
          }
        }
      ]
    },
    {
      "cell_type": "markdown",
      "source": [
        "Teniendo en cuenta los anteriores gráficos, se destaca que las notas finales tienden a aumentar en los dos colegios cuando las horas de estudio a la semana son altas. También, se ve que cuando es mayor el número de fracasos de clases anteriores, los estudiantes no tuvieron notas altas.\n",
        "\n",
        "Por otro lado, se evidencia que cuando el número de fracasos de clases anteriores son bajos, las horas de estudio a la semana son mayores.\n",
        "\n"
      ],
      "metadata": {
        "id": "mAsPJ-GTWYGe"
      }
    },
    {
      "cell_type": "code",
      "source": [
        "sns.pairplot(df_porf[[\"NF\", \"studytime\", \"failures\",\"internet\"]],hue='internet', diag_kind=\"hist\",corner=False)"
      ],
      "metadata": {
        "colab": {
          "base_uri": "https://localhost:8080/",
          "height": 0
        },
        "id": "fUktf4x4O_yh",
        "outputId": "041362d0-31dd-47ef-fc4d-4a2e48b5f414"
      },
      "execution_count": 805,
      "outputs": [
        {
          "output_type": "execute_result",
          "data": {
            "text/plain": [
              "<seaborn.axisgrid.PairGrid at 0x7f1cac9a09d0>"
            ]
          },
          "metadata": {},
          "execution_count": 805
        },
        {
          "output_type": "display_data",
          "data": {
            "text/plain": [
              "<Figure size 593.25x540 with 12 Axes>"
            ],
            "image/png": "[encoded data removed]"
          },
          "metadata": {
            "needs_background": "light"
          }
        }
      ]
    },
    {
      "cell_type": "markdown",
      "source": [
        "Teniendo en cuenta los anteriores gráficos, se destaca que las notas finales tienden a aumentar cuando las horas de estudio a la semana son altas y el estudiante tenia acceso a internet. También, se ve que cuando es mayor el número de fracasos de clases anteriores, los estudiantes no tuvieron notas altas y no tenian internet.\n",
        "\n"
      ],
      "metadata": {
        "id": "u4YnfRicblpa"
      }
    },
    {
      "cell_type": "markdown",
      "source": [
        "## Conclusión"
      ],
      "metadata": {
        "id": "9XUy2BSsefxQ"
      }
    },
    {
      "cell_type": "markdown",
      "source": [
        "Con base en el anterior análisis realizado, se opto por escoger como variable dependiente para el modelo, las notas finales. Por parte de las variables independientes, se escogieron las siguientes: traveltime, failures, internet_no, internet_yes, studytime, school_GP, school_MS."
      ],
      "metadata": {
        "id": "5_SbRc3Pesl7"
      }
    },
    {
      "cell_type": "markdown",
      "source": [
        "#Punto 3\n",
        "\n",
        "Algoritmos de regresión multiple"
      ],
      "metadata": {
        "id": "suPQbETee7fo"
      }
    },
    {
      "cell_type": "markdown",
      "source": [
        "3.1 Variables de interes"
      ],
      "metadata": {
        "id": "cNbosgSBfSw-"
      }
    },
    {
      "cell_type": "code",
      "source": [
        "y = Basefinal.NF"
      ],
      "metadata": {
        "id": "uPCAooKkxciQ"
      },
      "execution_count": 655,
      "outputs": []
    },
    {
      "cell_type": "code",
      "source": [
        "x_multiples = Basefinal.iloc[:,[10,11,12,31,32,35,36]]\n",
        "x_multiples"
      ],
      "metadata": {
        "colab": {
          "base_uri": "https://localhost:8080/",
          "height": 424
        },
        "id": "d6-ZeR6DfOUW",
        "outputId": "364ec031-62b5-4668-da8e-b013a1976585"
      },
      "execution_count": 656,
      "outputs": [
        {
          "output_type": "execute_result",
          "data": {
            "text/plain": [
              "     traveltime  studytime  failures  school_GP  school_MS  internet_no  \\\n",
              "0             2          2         0          1          0            1   \n",
              "1             1          2         0          1          0            0   \n",
              "2             1          2         0          1          0            0   \n",
              "3             1          3         0          1          0            0   \n",
              "4             1          2         0          1          0            1   \n",
              "..          ...        ...       ...        ...        ...          ...   \n",
              "644           1          3         1          0          1            0   \n",
              "645           1          2         0          0          1            0   \n",
              "646           2          2         0          0          1            1   \n",
              "647           2          1         0          0          1            0   \n",
              "648           3          1         0          0          1            0   \n",
              "\n",
              "     internet_yes  \n",
              "0               0  \n",
              "1               1  \n",
              "2               1  \n",
              "3               1  \n",
              "4               0  \n",
              "..            ...  \n",
              "644             1  \n",
              "645             1  \n",
              "646             0  \n",
              "647             1  \n",
              "648             1  \n",
              "\n",
              "[644 rows x 7 columns]"
            ],
            "text/html": [
              "\n",
              "  <div id=\"df-5661040b-7288-4371-943c-1f745913187a\">\n",
              "    <div class=\"colab-df-container\">\n",
              "      <div>\n",
              "<style scoped>\n",
              "    .dataframe tbody tr th:only-of-type {\n",
              "        vertical-align: middle;\n",
              "    }\n",
              "\n",
              "    .dataframe tbody tr th {\n",
              "        vertical-align: top;\n",
              "    }\n",
              "\n",
              "    .dataframe thead th {\n",
              "        text-align: right;\n",
              "    }\n",
              "</style>\n",
              "<table border=\"1\" class=\"dataframe\">\n",
              "  <thead>\n",
              "    <tr style=\"text-align: right;\">\n",
              "      <th></th>\n",
              "      <th>traveltime</th>\n",
              "      <th>studytime</th>\n",
              "      <th>failures</th>\n",
              "      <th>school_GP</th>\n",
              "      <th>school_MS</th>\n",
              "      <th>internet_no</th>\n",
              "      <th>internet_yes</th>\n",
              "    </tr>\n",
              "  </thead>\n",
              "  <tbody>\n",
              "    <tr>\n",
              "      <th>0</th>\n",
              "      <td>2</td>\n",
              "      <td>2</td>\n",
              "      <td>0</td>\n",
              "      <td>1</td>\n",
              "      <td>0</td>\n",
              "      <td>1</td>\n",
              "      <td>0</td>\n",
              "    </tr>\n",
              "    <tr>\n",
              "      <th>1</th>\n",
              "      <td>1</td>\n",
              "      <td>2</td>\n",
              "      <td>0</td>\n",
              "      <td>1</td>\n",
              "      <td>0</td>\n",
              "      <td>0</td>\n",
              "      <td>1</td>\n",
              "    </tr>\n",
              "    <tr>\n",
              "      <th>2</th>\n",
              "      <td>1</td>\n",
              "      <td>2</td>\n",
              "      <td>0</td>\n",
              "      <td>1</td>\n",
              "      <td>0</td>\n",
              "      <td>0</td>\n",
              "      <td>1</td>\n",
              "    </tr>\n",
              "    <tr>\n",
              "      <th>3</th>\n",
              "      <td>1</td>\n",
              "      <td>3</td>\n",
              "      <td>0</td>\n",
              "      <td>1</td>\n",
              "      <td>0</td>\n",
              "      <td>0</td>\n",
              "      <td>1</td>\n",
              "    </tr>\n",
              "    <tr>\n",
              "      <th>4</th>\n",
              "      <td>1</td>\n",
              "      <td>2</td>\n",
              "      <td>0</td>\n",
              "      <td>1</td>\n",
              "      <td>0</td>\n",
              "      <td>1</td>\n",
              "      <td>0</td>\n",
              "    </tr>\n",
              "    <tr>\n",
              "      <th>...</th>\n",
              "      <td>...</td>\n",
              "      <td>...</td>\n",
              "      <td>...</td>\n",
              "      <td>...</td>\n",
              "      <td>...</td>\n",
              "      <td>...</td>\n",
              "      <td>...</td>\n",
              "    </tr>\n",
              "    <tr>\n",
              "      <th>644</th>\n",
              "      <td>1</td>\n",
              "      <td>3</td>\n",
              "      <td>1</td>\n",
              "      <td>0</td>\n",
              "      <td>1</td>\n",
              "      <td>0</td>\n",
              "      <td>1</td>\n",
              "    </tr>\n",
              "    <tr>\n",
              "      <th>645</th>\n",
              "      <td>1</td>\n",
              "      <td>2</td>\n",
              "      <td>0</td>\n",
              "      <td>0</td>\n",
              "      <td>1</td>\n",
              "      <td>0</td>\n",
              "      <td>1</td>\n",
              "    </tr>\n",
              "    <tr>\n",
              "      <th>646</th>\n",
              "      <td>2</td>\n",
              "      <td>2</td>\n",
              "      <td>0</td>\n",
              "      <td>0</td>\n",
              "      <td>1</td>\n",
              "      <td>1</td>\n",
              "      <td>0</td>\n",
              "    </tr>\n",
              "    <tr>\n",
              "      <th>647</th>\n",
              "      <td>2</td>\n",
              "      <td>1</td>\n",
              "      <td>0</td>\n",
              "      <td>0</td>\n",
              "      <td>1</td>\n",
              "      <td>0</td>\n",
              "      <td>1</td>\n",
              "    </tr>\n",
              "    <tr>\n",
              "      <th>648</th>\n",
              "      <td>3</td>\n",
              "      <td>1</td>\n",
              "      <td>0</td>\n",
              "      <td>0</td>\n",
              "      <td>1</td>\n",
              "      <td>0</td>\n",
              "      <td>1</td>\n",
              "    </tr>\n",
              "  </tbody>\n",
              "</table>\n",
              "<p>644 rows × 7 columns</p>\n",
              "</div>\n",
              "      <button class=\"colab-df-convert\" onclick=\"convertToInteractive('df-5661040b-7288-4371-943c-1f745913187a')\"\n",
              "              title=\"Convert this dataframe to an interactive table.\"\n",
              "              style=\"display:none;\">\n",
              "        \n",
              "  <svg xmlns=\"http://www.w3.org/2000/svg\" height=\"24px\"viewBox=\"0 0 24 24\"\n",
              "       width=\"24px\">\n",
              "    <path d=\"M0 0h24v24H0V0z\" fill=\"none\"/>\n",
              "    <path d=\"M18.56 5.44l.94 2.06.94-2.06 2.06-.94-2.06-.94-.94-2.06-.94 2.06-2.06.94zm-11 1L8.5 8.5l.94-2.06 2.06-.94-2.06-.94L8.5 2.5l-.94 2.06-2.06.94zm10 10l.94 2.06.94-2.06 2.06-.94-2.06-.94-.94-2.06-.94 2.06-2.06.94z\"/><path d=\"M17.41 7.96l-1.37-1.37c-.4-.4-.92-.59-1.43-.59-.52 0-1.04.2-1.43.59L10.3 9.45l-7.72 7.72c-.78.78-.78 2.05 0 2.83L4 21.41c.39.39.9.59 1.41.59.51 0 1.02-.2 1.41-.59l7.78-7.78 2.81-2.81c.8-.78.8-2.07 0-2.86zM5.41 20L4 18.59l7.72-7.72 1.47 1.35L5.41 20z\"/>\n",
              "  </svg>\n",
              "      </button>\n",
              "      \n",
              "  <style>\n",
              "    .colab-df-container {\n",
              "      display:flex;\n",
              "      flex-wrap:wrap;\n",
              "      gap: 12px;\n",
              "    }\n",
              "\n",
              "    .colab-df-convert {\n",
              "      background-color: #E8F0FE;\n",
              "      border: none;\n",
              "      border-radius: 50%;\n",
              "      cursor: pointer;\n",
              "      display: none;\n",
              "      fill: #1967D2;\n",
              "      height: 32px;\n",
              "      padding: 0 0 0 0;\n",
              "      width: 32px;\n",
              "    }\n",
              "\n",
              "    .colab-df-convert:hover {\n",
              "      background-color: #E2EBFA;\n",
              "      box-shadow: 0px 1px 2px rgba(60, 64, 67, 0.3), 0px 1px 3px 1px rgba(60, 64, 67, 0.15);\n",
              "      fill: #174EA6;\n",
              "    }\n",
              "\n",
              "    [theme=dark] .colab-df-convert {\n",
              "      background-color: #3B4455;\n",
              "      fill: #D2E3FC;\n",
              "    }\n",
              "\n",
              "    [theme=dark] .colab-df-convert:hover {\n",
              "      background-color: #434B5C;\n",
              "      box-shadow: 0px 1px 3px 1px rgba(0, 0, 0, 0.15);\n",
              "      filter: drop-shadow(0px 1px 2px rgba(0, 0, 0, 0.3));\n",
              "      fill: #FFFFFF;\n",
              "    }\n",
              "  </style>\n",
              "\n",
              "      <script>\n",
              "        const buttonEl =\n",
              "          document.querySelector('#df-5661040b-7288-4371-943c-1f745913187a button.colab-df-convert');\n",
              "        buttonEl.style.display =\n",
              "          google.colab.kernel.accessAllowed ? 'block' : 'none';\n",
              "\n",
              "        async function convertToInteractive(key) {\n",
              "          const element = document.querySelector('#df-5661040b-7288-4371-943c-1f745913187a');\n",
              "          const dataTable =\n",
              "            await google.colab.kernel.invokeFunction('convertToInteractive',\n",
              "                                                     [key], {});\n",
              "          if (!dataTable) return;\n",
              "\n",
              "          const docLinkHtml = 'Like what you see? Visit the ' +\n",
              "            '<a target=\"_blank\" href=https://colab.research.google.com/notebooks/data_table.ipynb>data table notebook</a>'\n",
              "            + ' to learn more about interactive tables.';\n",
              "          element.innerHTML = '';\n",
              "          dataTable['output_type'] = 'display_data';\n",
              "          await google.colab.output.renderOutput(dataTable, element);\n",
              "          const docLink = document.createElement('div');\n",
              "          docLink.innerHTML = docLinkHtml;\n",
              "          element.appendChild(docLink);\n",
              "        }\n",
              "      </script>\n",
              "    </div>\n",
              "  </div>\n",
              "  "
            ]
          },
          "metadata": {},
          "execution_count": 656
        }
      ]
    },
    {
      "cell_type": "markdown",
      "source": [
        "##Modelos"
      ],
      "metadata": {
        "id": "uNaEjILCEmax"
      }
    },
    {
      "cell_type": "markdown",
      "source": [
        "Dado que se quiere ver el rendimiento del modelo, se optó por probar la regresión lineal, lasso y ridge. Despúes, con base a los modelos estimados, se escogera la mejor opción para nuestros datos."
      ],
      "metadata": {
        "id": "0ElhsB6yFWlp"
      }
    },
    {
      "cell_type": "markdown",
      "source": [
        "**3.2 Modelo de regresión lineal multiple**"
      ],
      "metadata": {
        "id": "WKgjQyg_1ivL"
      }
    },
    {
      "cell_type": "code",
      "source": [
        "from sklearn import linear_model"
      ],
      "metadata": {
        "id": "6XhQehCByib9"
      },
      "execution_count": 657,
      "outputs": []
    },
    {
      "cell_type": "code",
      "source": [
        "model = linear_model.LinearRegression()"
      ],
      "metadata": {
        "id": "X8eYekiSyfL2"
      },
      "execution_count": 658,
      "outputs": []
    },
    {
      "cell_type": "code",
      "source": [
        "model.fit(x_multiples, y)"
      ],
      "metadata": {
        "colab": {
          "base_uri": "https://localhost:8080/"
        },
        "id": "knpM9gBuxish",
        "outputId": "695672e6-6425-43c5-c48a-8d74f12d820b"
      },
      "execution_count": 659,
      "outputs": [
        {
          "output_type": "execute_result",
          "data": {
            "text/plain": [
              "LinearRegression()"
            ]
          },
          "metadata": {},
          "execution_count": 659
        }
      ]
    },
    {
      "cell_type": "code",
      "source": [
        "model.coef_"
      ],
      "metadata": {
        "colab": {
          "base_uri": "https://localhost:8080/"
        },
        "id": "XPqtm8EvyyUV",
        "outputId": "50bd3ff1-416e-4e1a-8cb6-1e41c27ca11b"
      },
      "execution_count": 660,
      "outputs": [
        {
          "output_type": "execute_result",
          "data": {
            "text/plain": [
              "array([-1.65118532e-01,  6.05830724e-01, -1.65215811e+00,  2.89197645e+13,\n",
              "        2.89197645e+13, -8.04471395e+12, -8.04471395e+12])"
            ]
          },
          "metadata": {},
          "execution_count": 660
        }
      ]
    },
    {
      "cell_type": "code",
      "source": [
        "y_pred = model.predict(x_multiples)"
      ],
      "metadata": {
        "id": "z2NuvVFO1skL"
      },
      "execution_count": 661,
      "outputs": []
    },
    {
      "cell_type": "markdown",
      "source": [
        "*   Métricas de evaluación"
      ],
      "metadata": {
        "id": "vzq0VTj62oso"
      }
    },
    {
      "cell_type": "code",
      "source": [
        "from sklearn import metrics\n",
        "print(\"RMSE: \",np.sqrt(metrics.mean_squared_error(y, y_pred)))"
      ],
      "metadata": {
        "colab": {
          "base_uri": "https://localhost:8080/"
        },
        "id": "IrBbjNkz2jkg",
        "outputId": "d9d90bb2-49e1-492c-addf-ac9c8f317cee"
      },
      "execution_count": 662,
      "outputs": [
        {
          "output_type": "stream",
          "name": "stdout",
          "text": [
            "RMSE:  2.416580378945389\n"
          ]
        }
      ]
    },
    {
      "cell_type": "code",
      "source": [
        "print(\"MSE: \",metrics.mean_squared_error(y, y_pred))"
      ],
      "metadata": {
        "colab": {
          "base_uri": "https://localhost:8080/"
        },
        "id": "POfddfEs6ByW",
        "outputId": "ade821ee-d9ec-421b-a755-16aec723a687"
      },
      "execution_count": 663,
      "outputs": [
        {
          "output_type": "stream",
          "name": "stdout",
          "text": [
            "MSE:  5.83986072790384\n"
          ]
        }
      ]
    },
    {
      "cell_type": "code",
      "source": [
        "print(\"MAE: \",metrics.mean_absolute_error(y, y_pred))"
      ],
      "metadata": {
        "colab": {
          "base_uri": "https://localhost:8080/"
        },
        "id": "CQ2qdRZz5tDs",
        "outputId": "f6e8d072-bfe1-43fb-bb38-dc542586ba1e"
      },
      "execution_count": 664,
      "outputs": [
        {
          "output_type": "stream",
          "name": "stdout",
          "text": [
            "MAE:  1.859284015916149\n"
          ]
        }
      ]
    },
    {
      "cell_type": "markdown",
      "source": [
        "**3.3 Modelo de regresión ridge multiple**"
      ],
      "metadata": {
        "id": "oZEJbKb7y78v"
      }
    },
    {
      "cell_type": "code",
      "source": [
        "from sklearn.preprocessing import StandardScaler\n",
        "\n",
        "x_multiple = StandardScaler().fit_transform(x_multiples)\n",
        "x_multiple"
      ],
      "metadata": {
        "colab": {
          "base_uri": "https://localhost:8080/"
        },
        "id": "pz1A3_4v6RGO",
        "outputId": "9a732c9c-bcfe-4d53-87d6-0038f77542ff"
      },
      "execution_count": 665,
      "outputs": [
        {
          "output_type": "execute_result",
          "data": {
            "text/plain": [
              "array([[ 0.57185157,  0.08833666, -0.37595989, ..., -0.73279795,\n",
              "         1.80690361, -1.80690361],\n",
              "       [-0.76246876,  0.08833666, -0.37595989, ..., -0.73279795,\n",
              "        -0.55343295,  0.55343295],\n",
              "       [-0.76246876,  0.08833666, -0.37595989, ..., -0.73279795,\n",
              "        -0.55343295,  0.55343295],\n",
              "       ...,\n",
              "       [ 0.57185157,  0.08833666, -0.37595989, ...,  1.36463263,\n",
              "         1.80690361, -1.80690361],\n",
              "       [ 0.57185157, -1.1220635 , -0.37595989, ...,  1.36463263,\n",
              "        -0.55343295,  0.55343295],\n",
              "       [ 1.9061719 , -1.1220635 , -0.37595989, ...,  1.36463263,\n",
              "        -0.55343295,  0.55343295]])"
            ]
          },
          "metadata": {},
          "execution_count": 665
        }
      ]
    },
    {
      "cell_type": "markdown",
      "source": [
        "\n",
        "*  Modelo 1"
      ],
      "metadata": {
        "id": "e7JEVsTv2Vh9"
      }
    },
    {
      "cell_type": "code",
      "source": [
        "from sklearn.linear_model import Ridge"
      ],
      "metadata": {
        "id": "fZRgsoYE2FRR"
      },
      "execution_count": 666,
      "outputs": []
    },
    {
      "cell_type": "code",
      "source": [
        "ridgereg = Ridge(alpha=0, tol=0.01)"
      ],
      "metadata": {
        "id": "sxEnBW6l6rMl"
      },
      "execution_count": 667,
      "outputs": []
    },
    {
      "cell_type": "code",
      "source": [
        "ridgereg.fit(x_multiple, y)"
      ],
      "metadata": {
        "colab": {
          "base_uri": "https://localhost:8080/"
        },
        "id": "t6At1WcG6r47",
        "outputId": "132e9e53-7bdd-4e9a-caf2-7c542abeb0a8"
      },
      "execution_count": 668,
      "outputs": [
        {
          "output_type": "execute_result",
          "data": {
            "text/plain": [
              "Ridge(alpha=0, tol=0.01)"
            ]
          },
          "metadata": {},
          "execution_count": 668
        }
      ]
    },
    {
      "cell_type": "code",
      "source": [
        "ridgereg.coef_"
      ],
      "metadata": {
        "colab": {
          "base_uri": "https://localhost:8080/"
        },
        "id": "gDn-WL4J7hTk",
        "outputId": "2d974f48-1445-44a9-b6da-b5a4658e1021"
      },
      "execution_count": 669,
      "outputs": [
        {
          "output_type": "execute_result",
          "data": {
            "text/plain": [
              "array([-1.50510743e-01,  4.55499166e-01, -9.18352155e-01, -1.15530578e+14,\n",
              "       -1.15530578e+14,  2.26148485e+14,  2.26148485e+14])"
            ]
          },
          "metadata": {},
          "execution_count": 669
        }
      ]
    },
    {
      "cell_type": "code",
      "source": [
        "y_pred1 = ridgereg.predict(x_multiple)"
      ],
      "metadata": {
        "id": "o5HR_8DQ6sNh"
      },
      "execution_count": 670,
      "outputs": []
    },
    {
      "cell_type": "markdown",
      "source": [
        "* Métricas de evaluación"
      ],
      "metadata": {
        "id": "28MD6TRy7FUd"
      }
    },
    {
      "cell_type": "code",
      "source": [
        "print(\"RMSE: \",np.sqrt(metrics.mean_squared_error(y, y_pred1)))"
      ],
      "metadata": {
        "colab": {
          "base_uri": "https://localhost:8080/"
        },
        "id": "bUG1wIwi7KOi",
        "outputId": "ecf65bdc-f40f-43d3-92f1-b236ed893218"
      },
      "execution_count": 671,
      "outputs": [
        {
          "output_type": "stream",
          "name": "stdout",
          "text": [
            "RMSE:  2.4191194689039404\n"
          ]
        }
      ]
    },
    {
      "cell_type": "code",
      "source": [
        "print(\"MSE: \",metrics.mean_squared_error(y, y_pred1))"
      ],
      "metadata": {
        "colab": {
          "base_uri": "https://localhost:8080/"
        },
        "id": "T0lE7XGa75be",
        "outputId": "4a598407-44d8-428e-b05c-b92c840a6560"
      },
      "execution_count": 672,
      "outputs": [
        {
          "output_type": "stream",
          "name": "stdout",
          "text": [
            "MSE:  5.852139004830082\n"
          ]
        }
      ]
    },
    {
      "cell_type": "code",
      "source": [
        "print(\"MAE: \",metrics.mean_absolute_error(y, y_pred1))"
      ],
      "metadata": {
        "colab": {
          "base_uri": "https://localhost:8080/"
        },
        "id": "bapzBM5X78Dv",
        "outputId": "d45cb35a-908d-4fea-9558-a3a81772c5ec"
      },
      "execution_count": 673,
      "outputs": [
        {
          "output_type": "stream",
          "name": "stdout",
          "text": [
            "MAE:  1.8585384740242519\n"
          ]
        }
      ]
    },
    {
      "cell_type": "markdown",
      "source": [
        "* Modelo 2"
      ],
      "metadata": {
        "id": "CZx7NODx8BWm"
      }
    },
    {
      "cell_type": "code",
      "source": [
        "ridgereg2 = Ridge(alpha=2, tol=0.1)"
      ],
      "metadata": {
        "id": "l8vBncN88IBk"
      },
      "execution_count": 674,
      "outputs": []
    },
    {
      "cell_type": "code",
      "source": [
        "ridgereg2.fit(x_multiple, y)"
      ],
      "metadata": {
        "colab": {
          "base_uri": "https://localhost:8080/"
        },
        "id": "dsdTOujf8Ofk",
        "outputId": "14dabeb0-65f4-409e-ed83-269ae4e58ea6"
      },
      "execution_count": 675,
      "outputs": [
        {
          "output_type": "execute_result",
          "data": {
            "text/plain": [
              "Ridge(alpha=2, tol=0.1)"
            ]
          },
          "metadata": {},
          "execution_count": 675
        }
      ]
    },
    {
      "cell_type": "code",
      "source": [
        "ridgereg2.coef_"
      ],
      "metadata": {
        "colab": {
          "base_uri": "https://localhost:8080/"
        },
        "id": "bHzf0WY28SL0",
        "outputId": "0a9450c5-9c16-40e0-8e05-756534fcc320"
      },
      "execution_count": 676,
      "outputs": [
        {
          "output_type": "execute_result",
          "data": {
            "text/plain": [
              "array([-0.12726913,  0.49701697, -0.98020731,  0.29875478, -0.29875478,\n",
              "       -0.07629812,  0.07629812])"
            ]
          },
          "metadata": {},
          "execution_count": 676
        }
      ]
    },
    {
      "cell_type": "code",
      "source": [
        "y_pred2 = ridgereg2.predict(x_multiple)"
      ],
      "metadata": {
        "id": "3BuwsPl-8apW"
      },
      "execution_count": 677,
      "outputs": []
    },
    {
      "cell_type": "markdown",
      "source": [
        "* Métricas de evaluación"
      ],
      "metadata": {
        "id": "RmNNdBuH8eEh"
      }
    },
    {
      "cell_type": "code",
      "source": [
        "print(\"RMSE: \",np.sqrt(metrics.mean_squared_error(y, y_pred2)))"
      ],
      "metadata": {
        "colab": {
          "base_uri": "https://localhost:8080/"
        },
        "id": "B-Y2_n9I8gWB",
        "outputId": "ebf4a1e4-d293-461f-f080-b3e6460cd136"
      },
      "execution_count": 678,
      "outputs": [
        {
          "output_type": "stream",
          "name": "stdout",
          "text": [
            "RMSE:  2.4165678212940263\n"
          ]
        }
      ]
    },
    {
      "cell_type": "code",
      "source": [
        "print(\"MSE: \",metrics.mean_squared_error(y, y_pred2))"
      ],
      "metadata": {
        "colab": {
          "base_uri": "https://localhost:8080/"
        },
        "id": "DtlK3W6e8oWd",
        "outputId": "4d10a09c-e0b7-4472-874b-680c5005edb9"
      },
      "execution_count": 679,
      "outputs": [
        {
          "output_type": "stream",
          "name": "stdout",
          "text": [
            "MSE:  5.839800034913756\n"
          ]
        }
      ]
    },
    {
      "cell_type": "code",
      "source": [
        "print(\"MAE: \",metrics.mean_absolute_error(y, y_pred2))"
      ],
      "metadata": {
        "colab": {
          "base_uri": "https://localhost:8080/"
        },
        "id": "cfvndUnX8rft",
        "outputId": "141c675e-1f9d-4957-ed46-0160e0deb52f"
      },
      "execution_count": 680,
      "outputs": [
        {
          "output_type": "stream",
          "name": "stdout",
          "text": [
            "MAE:  1.8594391604131464\n"
          ]
        }
      ]
    },
    {
      "cell_type": "markdown",
      "source": [
        "\n",
        "* Modelo 3"
      ],
      "metadata": {
        "id": "UBKvHZHl9C56"
      }
    },
    {
      "cell_type": "code",
      "source": [
        "ridgereg3 = Ridge(alpha=1, tol=0.0001)"
      ],
      "metadata": {
        "id": "Sp8yEFoF9ETv"
      },
      "execution_count": 681,
      "outputs": []
    },
    {
      "cell_type": "code",
      "source": [
        "ridgereg3.fit(x_multiple, y)"
      ],
      "metadata": {
        "colab": {
          "base_uri": "https://localhost:8080/"
        },
        "id": "K4gjFaIx9hJi",
        "outputId": "40bbfdb7-0e74-447f-d47b-3a77907b3c52"
      },
      "execution_count": 682,
      "outputs": [
        {
          "output_type": "execute_result",
          "data": {
            "text/plain": [
              "Ridge(alpha=1, tol=0.0001)"
            ]
          },
          "metadata": {},
          "execution_count": 682
        }
      ]
    },
    {
      "cell_type": "code",
      "source": [
        "ridgereg3.coef_"
      ],
      "metadata": {
        "colab": {
          "base_uri": "https://localhost:8080/"
        },
        "id": "yFMd-dlq9kKf",
        "outputId": "916b5d9c-4719-4bc2-c2fb-47c77eec6239"
      },
      "execution_count": 683,
      "outputs": [
        {
          "output_type": "execute_result",
          "data": {
            "text/plain": [
              "array([-0.12724959,  0.4975475 , -0.98163082,  0.29888221, -0.29888221,\n",
              "       -0.07625242,  0.07625242])"
            ]
          },
          "metadata": {},
          "execution_count": 683
        }
      ]
    },
    {
      "cell_type": "code",
      "source": [
        "y_pred3 = ridgereg3.predict(x_multiple)"
      ],
      "metadata": {
        "id": "YHYQaFXB9sTW"
      },
      "execution_count": 684,
      "outputs": []
    },
    {
      "cell_type": "markdown",
      "source": [
        "* Métricas de evaluación"
      ],
      "metadata": {
        "id": "uD7EVZ6b-Bar"
      }
    },
    {
      "cell_type": "code",
      "source": [
        "print(\"RMSE: \",np.sqrt(metrics.mean_squared_error(y, y_pred3)))"
      ],
      "metadata": {
        "colab": {
          "base_uri": "https://localhost:8080/"
        },
        "id": "exn3Oc6e9_n4",
        "outputId": "6add1e29-7c7a-4bcf-fe15-81c654208fa5"
      },
      "execution_count": 685,
      "outputs": [
        {
          "output_type": "stream",
          "name": "stdout",
          "text": [
            "RMSE:  2.4165661572508643\n"
          ]
        }
      ]
    },
    {
      "cell_type": "code",
      "source": [
        "print(\"MSE: \",metrics.mean_squared_error(y, y_pred3))"
      ],
      "metadata": {
        "colab": {
          "base_uri": "https://localhost:8080/"
        },
        "id": "kWVkSXzb-Mpo",
        "outputId": "afb9f3a9-053a-486c-b616-272cd7c56614"
      },
      "execution_count": 686,
      "outputs": [
        {
          "output_type": "stream",
          "name": "stdout",
          "text": [
            "MSE:  5.83979199237021\n"
          ]
        }
      ]
    },
    {
      "cell_type": "code",
      "source": [
        "print(\"MAE: \",metrics.mean_absolute_error(y, y_pred3))"
      ],
      "metadata": {
        "colab": {
          "base_uri": "https://localhost:8080/"
        },
        "id": "wJMNPf0S-Tff",
        "outputId": "f18b4865-00a0-478a-c919-f48f2e4ff515"
      },
      "execution_count": 687,
      "outputs": [
        {
          "output_type": "stream",
          "name": "stdout",
          "text": [
            "MAE:  1.8594969843322222\n"
          ]
        }
      ]
    },
    {
      "cell_type": "markdown",
      "source": [
        "**3.4 Modelo de regresión lasso multiple**"
      ],
      "metadata": {
        "id": "XZKFIesm-hTW"
      }
    },
    {
      "cell_type": "code",
      "source": [
        "from sklearn.linear_model import Lasso"
      ],
      "metadata": {
        "id": "-xmXAOd9ABcs"
      },
      "execution_count": 688,
      "outputs": []
    },
    {
      "cell_type": "markdown",
      "source": [
        "* Modelo 1"
      ],
      "metadata": {
        "id": "ZnEsIlA_AKxW"
      }
    },
    {
      "cell_type": "code",
      "source": [
        "lassoreg = Lasso(alpha=0.001, tol=0.1)"
      ],
      "metadata": {
        "id": "C-mG-GqHAFuk"
      },
      "execution_count": 689,
      "outputs": []
    },
    {
      "cell_type": "code",
      "source": [
        "lassoreg.fit(x_multiple, y)"
      ],
      "metadata": {
        "colab": {
          "base_uri": "https://localhost:8080/"
        },
        "id": "w78tbPqRANcu",
        "outputId": "07172175-3f7f-4743-835a-26688fb5e3e6"
      },
      "execution_count": 690,
      "outputs": [
        {
          "output_type": "execute_result",
          "data": {
            "text/plain": [
              "Lasso(alpha=0.001, tol=0.1)"
            ]
          },
          "metadata": {},
          "execution_count": 690
        }
      ]
    },
    {
      "cell_type": "code",
      "source": [
        "lassoreg.coef_"
      ],
      "metadata": {
        "colab": {
          "base_uri": "https://localhost:8080/"
        },
        "id": "QVenpDZhANwU",
        "outputId": "98072e33-e9d3-4ea2-eba8-a58d51417144"
      },
      "execution_count": 691,
      "outputs": [
        {
          "output_type": "execute_result",
          "data": {
            "text/plain": [
              "array([-1.26197635e-01,  4.97015712e-01, -9.82201773e-01,  5.97688426e-01,\n",
              "       -2.91347347e-17, -1.51805871e-01,  5.10288844e-17])"
            ]
          },
          "metadata": {},
          "execution_count": 691
        }
      ]
    },
    {
      "cell_type": "code",
      "source": [
        "y_pred4 = lassoreg.predict(x_multiple)"
      ],
      "metadata": {
        "id": "lO1r6-U8AkXF"
      },
      "execution_count": 692,
      "outputs": []
    },
    {
      "cell_type": "markdown",
      "source": [
        "* Métricas de evaluación"
      ],
      "metadata": {
        "id": "hI0XHhq7A8bH"
      }
    },
    {
      "cell_type": "code",
      "source": [
        "print(\"RMSE: \",np.sqrt(metrics.mean_squared_error(y, y_pred4)))"
      ],
      "metadata": {
        "colab": {
          "base_uri": "https://localhost:8080/"
        },
        "id": "MUoz2HXhA-tQ",
        "outputId": "7e6d0ae7-af1d-4926-9567-b3a2885c6502"
      },
      "execution_count": 693,
      "outputs": [
        {
          "output_type": "stream",
          "name": "stdout",
          "text": [
            "RMSE:  2.416566592720114\n"
          ]
        }
      ]
    },
    {
      "cell_type": "code",
      "source": [
        "print(\"MSE: \",metrics.mean_squared_error(y, y_pred4))"
      ],
      "metadata": {
        "colab": {
          "base_uri": "https://localhost:8080/"
        },
        "id": "lyLeh6q-BE-x",
        "outputId": "a8a9b221-e652-48cd-94c3-5c5a89dd73fd"
      },
      "execution_count": 694,
      "outputs": [
        {
          "output_type": "stream",
          "name": "stdout",
          "text": [
            "MSE:  5.839794097050901\n"
          ]
        }
      ]
    },
    {
      "cell_type": "code",
      "source": [
        "print(\"MAE: \",metrics.mean_absolute_error(y, y_pred4))"
      ],
      "metadata": {
        "colab": {
          "base_uri": "https://localhost:8080/"
        },
        "id": "yeJdpdgEBITu",
        "outputId": "f9b3a6a9-e54a-4abe-81d8-0a79eddce165"
      },
      "execution_count": 695,
      "outputs": [
        {
          "output_type": "stream",
          "name": "stdout",
          "text": [
            "MAE:  1.8595583683414714\n"
          ]
        }
      ]
    },
    {
      "cell_type": "markdown",
      "source": [
        "* Modelo 2"
      ],
      "metadata": {
        "id": "A35hO_lqBSan"
      }
    },
    {
      "cell_type": "code",
      "source": [
        "lassoreg2 = Lasso(alpha=0.01, tol=0.01)"
      ],
      "metadata": {
        "id": "v521EcdkBVKm"
      },
      "execution_count": 696,
      "outputs": []
    },
    {
      "cell_type": "code",
      "source": [
        "lassoreg2.fit(x_multiple, y)"
      ],
      "metadata": {
        "colab": {
          "base_uri": "https://localhost:8080/"
        },
        "id": "AsdmTP90BdYe",
        "outputId": "7b49649b-350c-4670-f6bf-1bb37e795c2d"
      },
      "execution_count": 697,
      "outputs": [
        {
          "output_type": "execute_result",
          "data": {
            "text/plain": [
              "Lasso(alpha=0.01, tol=0.01)"
            ]
          },
          "metadata": {},
          "execution_count": 697
        }
      ]
    },
    {
      "cell_type": "code",
      "source": [
        "lassoreg2.coef_"
      ],
      "metadata": {
        "colab": {
          "base_uri": "https://localhost:8080/"
        },
        "id": "22-iOFI-Bs9B",
        "outputId": "37195d61-2df0-4281-adcf-f44ace7b193f"
      },
      "execution_count": 698,
      "outputs": [
        {
          "output_type": "execute_result",
          "data": {
            "text/plain": [
              "array([-1.20498324e-01,  4.90150218e-01, -9.75832509e-01,  5.93240062e-01,\n",
              "       -0.00000000e+00, -1.45794396e-01,  7.99912241e-17])"
            ]
          },
          "metadata": {},
          "execution_count": 698
        }
      ]
    },
    {
      "cell_type": "code",
      "source": [
        "y_pred5 = lassoreg2.predict(x_multiple)"
      ],
      "metadata": {
        "id": "OmSq-Ov2Bxv3"
      },
      "execution_count": 699,
      "outputs": []
    },
    {
      "cell_type": "markdown",
      "source": [
        "* Métricas de evaluación"
      ],
      "metadata": {
        "id": "MDN4MjFuB1_v"
      }
    },
    {
      "cell_type": "code",
      "source": [
        "print(\"RMSE: \",np.sqrt(metrics.mean_squared_error(y, y_pred5)))"
      ],
      "metadata": {
        "colab": {
          "base_uri": "https://localhost:8080/"
        },
        "id": "h57XV3cBB5wm",
        "outputId": "d725205a-443a-4225-c9fb-534f9e358021"
      },
      "execution_count": 700,
      "outputs": [
        {
          "output_type": "stream",
          "name": "stdout",
          "text": [
            "RMSE:  2.4166357966266148\n"
          ]
        }
      ]
    },
    {
      "cell_type": "code",
      "source": [
        "print(\"MSE: \",metrics.mean_squared_error(y, y_pred5))"
      ],
      "metadata": {
        "colab": {
          "base_uri": "https://localhost:8080/"
        },
        "id": "Bqsur-WXB9qG",
        "outputId": "11aa3403-1df9-414e-848f-0ef7ec46d756"
      },
      "execution_count": 701,
      "outputs": [
        {
          "output_type": "stream",
          "name": "stdout",
          "text": [
            "MSE:  5.840128573537152\n"
          ]
        }
      ]
    },
    {
      "cell_type": "code",
      "source": [
        "print(\"MAE:\" ,metrics.mean_absolute_error(y, y_pred5))"
      ],
      "metadata": {
        "colab": {
          "base_uri": "https://localhost:8080/"
        },
        "id": "gSKACS9wCEzZ",
        "outputId": "42d9b89e-1621-4eaf-9eb1-7dae4604588c"
      },
      "execution_count": 702,
      "outputs": [
        {
          "output_type": "stream",
          "name": "stdout",
          "text": [
            "MAE: 1.8595629722221654\n"
          ]
        }
      ]
    },
    {
      "cell_type": "markdown",
      "source": [
        "* Modelo 3"
      ],
      "metadata": {
        "id": "74KOv3jACG3Y"
      }
    },
    {
      "cell_type": "code",
      "source": [
        "lassoreg3 = Lasso(alpha=0.1, tol=0.001)"
      ],
      "metadata": {
        "id": "Qlhv2dCyCPuu"
      },
      "execution_count": 703,
      "outputs": []
    },
    {
      "cell_type": "code",
      "source": [
        "lassoreg3.fit(x_multiple, y)"
      ],
      "metadata": {
        "colab": {
          "base_uri": "https://localhost:8080/"
        },
        "id": "8KueONZlD3ec",
        "outputId": "3793e4c1-93bc-4daf-cafd-fe3e1f72ed49"
      },
      "execution_count": 704,
      "outputs": [
        {
          "output_type": "execute_result",
          "data": {
            "text/plain": [
              "Lasso(alpha=0.1, tol=0.001)"
            ]
          },
          "metadata": {},
          "execution_count": 704
        }
      ]
    },
    {
      "cell_type": "code",
      "source": [
        "lassoreg3.coef_"
      ],
      "metadata": {
        "colab": {
          "base_uri": "https://localhost:8080/"
        },
        "id": "iJsi5tBnD5KZ",
        "outputId": "2bb1bbc5-2417-46d0-e7ee-4f472754e3cb"
      },
      "execution_count": 705,
      "outputs": [
        {
          "output_type": "execute_result",
          "data": {
            "text/plain": [
              "array([-6.38347126e-02,  4.21767539e-01, -9.12237787e-01,  5.48595737e-01,\n",
              "       -0.00000000e+00, -8.56370173e-02,  6.61996338e-17])"
            ]
          },
          "metadata": {},
          "execution_count": 705
        }
      ]
    },
    {
      "cell_type": "code",
      "source": [
        "y_pred6 = lassoreg3.predict(x_multiple)"
      ],
      "metadata": {
        "id": "B_7UlKqJEBDy"
      },
      "execution_count": 706,
      "outputs": []
    },
    {
      "cell_type": "markdown",
      "source": [
        "* Métricas de evaluación"
      ],
      "metadata": {
        "id": "aQvj-3EFEHUC"
      }
    },
    {
      "cell_type": "code",
      "source": [
        "print(\"RMSE: \",np.sqrt(metrics.mean_squared_error(y, y_pred6)))"
      ],
      "metadata": {
        "colab": {
          "base_uri": "https://localhost:8080/"
        },
        "id": "fydhgvYWEL2J",
        "outputId": "f3c32706-2e7b-4301-99d2-cfcc4de51ef0"
      },
      "execution_count": 707,
      "outputs": [
        {
          "output_type": "stream",
          "name": "stdout",
          "text": [
            "RMSE:  2.4233171808542178\n"
          ]
        }
      ]
    },
    {
      "cell_type": "code",
      "source": [
        "print(\"MSE: \",metrics.mean_squared_error(y, y_pred6))"
      ],
      "metadata": {
        "colab": {
          "base_uri": "https://localhost:8080/"
        },
        "id": "EcjwWMZUEPPA",
        "outputId": "5f27d47d-c3d0-41eb-dabd-391815eaba5b"
      },
      "execution_count": 708,
      "outputs": [
        {
          "output_type": "stream",
          "name": "stdout",
          "text": [
            "MSE:  5.872466159023234\n"
          ]
        }
      ]
    },
    {
      "cell_type": "code",
      "source": [
        "print(\"MAE:\" ,metrics.mean_absolute_error(y, y_pred6))"
      ],
      "metadata": {
        "colab": {
          "base_uri": "https://localhost:8080/"
        },
        "id": "NeelkcpcESyp",
        "outputId": "dffdcb78-1786-4aaa-873c-11b74a352c71"
      },
      "execution_count": 709,
      "outputs": [
        {
          "output_type": "stream",
          "name": "stdout",
          "text": [
            "MAE: 1.86336695807462\n"
          ]
        }
      ]
    },
    {
      "cell_type": "markdown",
      "source": [
        "## Partición de entrenamiento para el modelo"
      ],
      "metadata": {
        "id": "D_MEqwlBGTRn"
      }
    },
    {
      "cell_type": "code",
      "source": [
        "from sklearn.model_selection import train_test_split\n",
        "x_train, x_test, y_train, y_test = train_test_split(x_multiple,y,test_size=0.2,random_state=1)"
      ],
      "metadata": {
        "id": "gcnuT5oYGeLo"
      },
      "execution_count": 710,
      "outputs": []
    },
    {
      "cell_type": "markdown",
      "source": [
        "* Modelo de regresión lineal multiple"
      ],
      "metadata": {
        "id": "i5Ke4kowKs2e"
      }
    },
    {
      "cell_type": "code",
      "source": [
        "model1 = linear_model.LinearRegression()"
      ],
      "metadata": {
        "id": "JtJULmp_IzPS"
      },
      "execution_count": 711,
      "outputs": []
    },
    {
      "cell_type": "code",
      "source": [
        "model1.fit(x_train, y_train)"
      ],
      "metadata": {
        "colab": {
          "base_uri": "https://localhost:8080/"
        },
        "id": "lWGGvRCHJcxz",
        "outputId": "a4ab3da8-4f74-4179-d17c-ea590c15a8a2"
      },
      "execution_count": 712,
      "outputs": [
        {
          "output_type": "execute_result",
          "data": {
            "text/plain": [
              "LinearRegression()"
            ]
          },
          "metadata": {},
          "execution_count": 712
        }
      ]
    },
    {
      "cell_type": "code",
      "source": [
        "model1.coef_"
      ],
      "metadata": {
        "colab": {
          "base_uri": "https://localhost:8080/"
        },
        "id": "2SXCVgVMJr22",
        "outputId": "b810b184-6e67-4000-88f3-dad38d5b4b89"
      },
      "execution_count": 713,
      "outputs": [
        {
          "output_type": "execute_result",
          "data": {
            "text/plain": [
              "array([-0.17669219,  0.43331717, -0.91153725,  0.29606742, -0.29606742,\n",
              "       -0.04998161,  0.04998161])"
            ]
          },
          "metadata": {},
          "execution_count": 713
        }
      ]
    },
    {
      "cell_type": "code",
      "source": [
        "y_pred0 = model1.predict(x_test)"
      ],
      "metadata": {
        "id": "axsEFYSbJypm"
      },
      "execution_count": 714,
      "outputs": []
    },
    {
      "cell_type": "markdown",
      "source": [
        "* Métricas de evaluación"
      ],
      "metadata": {
        "id": "ppVhtIVGJ_nm"
      }
    },
    {
      "cell_type": "code",
      "source": [
        "print(\"RMSE: \",np.sqrt(metrics.mean_squared_error(y_test, y_pred0)))"
      ],
      "metadata": {
        "colab": {
          "base_uri": "https://localhost:8080/"
        },
        "id": "pmyD-bdtKKxm",
        "outputId": "d335c166-64da-46bc-8f56-fbde67267c2c"
      },
      "execution_count": 715,
      "outputs": [
        {
          "output_type": "stream",
          "name": "stdout",
          "text": [
            "RMSE:  2.6549349665878488\n"
          ]
        }
      ]
    },
    {
      "cell_type": "code",
      "source": [
        "print(\"MSE: \",metrics.mean_squared_error(y_test, y_pred0))"
      ],
      "metadata": {
        "colab": {
          "base_uri": "https://localhost:8080/"
        },
        "id": "KyVD4_djKdKJ",
        "outputId": "bb2ece36-6630-4cc4-cbf5-3d660955a4a1"
      },
      "execution_count": 716,
      "outputs": [
        {
          "output_type": "stream",
          "name": "stdout",
          "text": [
            "MSE:  7.048679676810822\n"
          ]
        }
      ]
    },
    {
      "cell_type": "code",
      "source": [
        "print(\"MAE: \",metrics.mean_absolute_error(y_test, y_pred0))"
      ],
      "metadata": {
        "colab": {
          "base_uri": "https://localhost:8080/"
        },
        "id": "htKGTY5-Knw4",
        "outputId": "26583b89-4f31-4b3e-db0a-41ca7747bf4c"
      },
      "execution_count": 717,
      "outputs": [
        {
          "output_type": "stream",
          "name": "stdout",
          "text": [
            "MAE:  2.041993488685264\n"
          ]
        }
      ]
    },
    {
      "cell_type": "markdown",
      "source": [
        "**3.5 Modelo de regresión ridge multiple**"
      ],
      "metadata": {
        "id": "MKt2FfReKxv0"
      }
    },
    {
      "cell_type": "markdown",
      "source": [
        "* Modelo 1"
      ],
      "metadata": {
        "id": "XLPN3OiXLaIe"
      }
    },
    {
      "cell_type": "code",
      "source": [
        "ridgereg0 = Ridge(alpha=0.01, tol=0.1)"
      ],
      "metadata": {
        "id": "2HnyDupNK7mZ"
      },
      "execution_count": 718,
      "outputs": []
    },
    {
      "cell_type": "code",
      "source": [
        "ridgereg0.fit(x_train, y_train)"
      ],
      "metadata": {
        "colab": {
          "base_uri": "https://localhost:8080/"
        },
        "id": "FJZCS3hXLZJX",
        "outputId": "7c0e416f-9f1d-40e2-d055-3f631e08bcf2"
      },
      "execution_count": 719,
      "outputs": [
        {
          "output_type": "execute_result",
          "data": {
            "text/plain": [
              "Ridge(alpha=0.01, tol=0.1)"
            ]
          },
          "metadata": {},
          "execution_count": 719
        }
      ]
    },
    {
      "cell_type": "code",
      "source": [
        "ridgereg0.coef_"
      ],
      "metadata": {
        "colab": {
          "base_uri": "https://localhost:8080/"
        },
        "id": "GPK8YyrXL3YJ",
        "outputId": "2fae74d3-739c-4598-ebdd-b2dcb20aa3a8"
      },
      "execution_count": 720,
      "outputs": [
        {
          "output_type": "execute_result",
          "data": {
            "text/plain": [
              "array([-0.17669127,  0.43331138, -0.91152279,  0.29606567, -0.29606567,\n",
              "       -0.04998256,  0.04998256])"
            ]
          },
          "metadata": {},
          "execution_count": 720
        }
      ]
    },
    {
      "cell_type": "code",
      "source": [
        "y_pred7 = ridgereg0.predict(x_test)"
      ],
      "metadata": {
        "id": "fVVQh3edL9wa"
      },
      "execution_count": 721,
      "outputs": []
    },
    {
      "cell_type": "markdown",
      "source": [
        "* Métricas de evaluación"
      ],
      "metadata": {
        "id": "SghtTdR0MJts"
      }
    },
    {
      "cell_type": "code",
      "source": [
        "print(\"RMSE: \",np.sqrt(metrics.mean_squared_error(y_test, y_pred7)))"
      ],
      "metadata": {
        "colab": {
          "base_uri": "https://localhost:8080/"
        },
        "id": "R97fM6EhMNZB",
        "outputId": "07021f76-0643-45a9-cab1-0ecd308194ce"
      },
      "execution_count": 722,
      "outputs": [
        {
          "output_type": "stream",
          "name": "stdout",
          "text": [
            "RMSE:  2.6549380544511423\n"
          ]
        }
      ]
    },
    {
      "cell_type": "code",
      "source": [
        "print(\"MSE: \",metrics.mean_squared_error(y_test, y_pred7))"
      ],
      "metadata": {
        "colab": {
          "base_uri": "https://localhost:8080/"
        },
        "id": "DSYW-rbkMcp9",
        "outputId": "febd286b-285c-4f1f-a8bf-8f87942b25b3"
      },
      "execution_count": 723,
      "outputs": [
        {
          "output_type": "stream",
          "name": "stdout",
          "text": [
            "MSE:  7.048696072972816\n"
          ]
        }
      ]
    },
    {
      "cell_type": "code",
      "source": [
        "print(\"MAE: \",metrics.mean_absolute_error(y_test, y_pred7))"
      ],
      "metadata": {
        "colab": {
          "base_uri": "https://localhost:8080/"
        },
        "id": "BgFtL22MMg32",
        "outputId": "8a74bde2-0af1-43af-ac98-544d284b38db"
      },
      "execution_count": 724,
      "outputs": [
        {
          "output_type": "stream",
          "name": "stdout",
          "text": [
            "MAE:  2.041995214702685\n"
          ]
        }
      ]
    },
    {
      "cell_type": "markdown",
      "source": [
        "* Modelo 2"
      ],
      "metadata": {
        "id": "1y1GAdWNMkDt"
      }
    },
    {
      "cell_type": "code",
      "source": [
        "ridgereg22 = Ridge(alpha=0.1, tol=0.00001)"
      ],
      "metadata": {
        "id": "3f1Te-qLMlt2"
      },
      "execution_count": 725,
      "outputs": []
    },
    {
      "cell_type": "code",
      "source": [
        "ridgereg22.fit(x_train, y_train)"
      ],
      "metadata": {
        "colab": {
          "base_uri": "https://localhost:8080/"
        },
        "id": "hdckQBo7M7Li",
        "outputId": "8ec344f7-4ce0-4229-ed37-02cb0c925372"
      },
      "execution_count": 726,
      "outputs": [
        {
          "output_type": "execute_result",
          "data": {
            "text/plain": [
              "Ridge(alpha=0.1, tol=1e-05)"
            ]
          },
          "metadata": {},
          "execution_count": 726
        }
      ]
    },
    {
      "cell_type": "code",
      "source": [
        "ridgereg22.coef_"
      ],
      "metadata": {
        "colab": {
          "base_uri": "https://localhost:8080/"
        },
        "id": "2v48vH4BNAml",
        "outputId": "47dede61-05bc-490a-dcd0-a6ed2a1bc3dd"
      },
      "execution_count": 727,
      "outputs": [
        {
          "output_type": "execute_result",
          "data": {
            "text/plain": [
              "array([-0.17668297,  0.43325933, -0.91139274,  0.29604993, -0.29604993,\n",
              "       -0.0499911 ,  0.0499911 ])"
            ]
          },
          "metadata": {},
          "execution_count": 727
        }
      ]
    },
    {
      "cell_type": "code",
      "source": [
        "y_pred8 = ridgereg22.predict(x_test)"
      ],
      "metadata": {
        "id": "Fp_4-mHRNEpt"
      },
      "execution_count": 728,
      "outputs": []
    },
    {
      "cell_type": "markdown",
      "source": [
        "* Métricas de evaluación"
      ],
      "metadata": {
        "id": "evTHhY-ONKnX"
      }
    },
    {
      "cell_type": "code",
      "source": [
        "print(\"RMSE: \",np.sqrt(metrics.mean_squared_error(y_test, y_pred8)))"
      ],
      "metadata": {
        "colab": {
          "base_uri": "https://localhost:8080/"
        },
        "id": "LrkwQ4qFNN8X",
        "outputId": "269855da-d92c-48c9-f0f5-66f6fc4d6223"
      },
      "execution_count": 729,
      "outputs": [
        {
          "output_type": "stream",
          "name": "stdout",
          "text": [
            "RMSE:  2.65496584389599\n"
          ]
        }
      ]
    },
    {
      "cell_type": "code",
      "source": [
        "print(\"MSE: \",metrics.mean_squared_error(y_test, y_pred8))"
      ],
      "metadata": {
        "colab": {
          "base_uri": "https://localhost:8080/"
        },
        "id": "s9ZL0biWNRGy",
        "outputId": "7a276cff-db76-481f-f600-893822a43b88"
      },
      "execution_count": 730,
      "outputs": [
        {
          "output_type": "stream",
          "name": "stdout",
          "text": [
            "MSE:  7.048843632254347\n"
          ]
        }
      ]
    },
    {
      "cell_type": "code",
      "source": [
        "print(\"MAE: \",metrics.mean_absolute_error(y_test, y_pred8))"
      ],
      "metadata": {
        "colab": {
          "base_uri": "https://localhost:8080/"
        },
        "id": "onIWqL0fNTye",
        "outputId": "9946584f-3795-43b4-f960-8358ad80390c"
      },
      "execution_count": 731,
      "outputs": [
        {
          "output_type": "stream",
          "name": "stdout",
          "text": [
            "MAE:  2.0420107473507945\n"
          ]
        }
      ]
    },
    {
      "cell_type": "markdown",
      "source": [
        "* Modelo 3"
      ],
      "metadata": {
        "id": "s5_Lu3CGNX8i"
      }
    },
    {
      "cell_type": "code",
      "source": [
        "ridgereg23 = Ridge(alpha=1, tol=0.0001)"
      ],
      "metadata": {
        "id": "ppyyYpaXNZu2"
      },
      "execution_count": 732,
      "outputs": []
    },
    {
      "cell_type": "code",
      "source": [
        "ridgereg23.fit(x_train, y_train)"
      ],
      "metadata": {
        "colab": {
          "base_uri": "https://localhost:8080/"
        },
        "id": "6NrQPlrmNi9-",
        "outputId": "d3b7c279-1d17-4dd7-ba4f-c2608f78c0ee"
      },
      "execution_count": 733,
      "outputs": [
        {
          "output_type": "execute_result",
          "data": {
            "text/plain": [
              "Ridge(alpha=1, tol=0.0001)"
            ]
          },
          "metadata": {},
          "execution_count": 733
        }
      ]
    },
    {
      "cell_type": "code",
      "source": [
        "ridgereg23.coef_"
      ],
      "metadata": {
        "colab": {
          "base_uri": "https://localhost:8080/"
        },
        "id": "a9CMyXm7NqCC",
        "outputId": "49d5d75a-1bd9-434a-c254-25aabb6b5ad4"
      },
      "execution_count": 734,
      "outputs": [
        {
          "output_type": "execute_result",
          "data": {
            "text/plain": [
              "array([-0.17659985,  0.43273949, -0.91009428,  0.29589258, -0.29589258,\n",
              "       -0.05007632,  0.05007632])"
            ]
          },
          "metadata": {},
          "execution_count": 734
        }
      ]
    },
    {
      "cell_type": "code",
      "source": [
        "y_pred9 = ridgereg23.predict(x_test)"
      ],
      "metadata": {
        "id": "vkaxCuHdN2Vl"
      },
      "execution_count": 735,
      "outputs": []
    },
    {
      "cell_type": "markdown",
      "source": [
        "* Métricas de evaluación"
      ],
      "metadata": {
        "id": "eB5kMZS_N62P"
      }
    },
    {
      "cell_type": "code",
      "source": [
        "print(\"RMSE: \",np.sqrt(metrics.mean_squared_error(y_test, y_pred9)))"
      ],
      "metadata": {
        "colab": {
          "base_uri": "https://localhost:8080/"
        },
        "id": "_EfUQ2cqN9_j",
        "outputId": "4de3f8fe-3b08-49f0-e2f6-dff22a751ebc"
      },
      "execution_count": 736,
      "outputs": [
        {
          "output_type": "stream",
          "name": "stdout",
          "text": [
            "RMSE:  2.655243607044866\n"
          ]
        }
      ]
    },
    {
      "cell_type": "code",
      "source": [
        "print(\"MSE: \",metrics.mean_squared_error(y_test, y_pred9))"
      ],
      "metadata": {
        "colab": {
          "base_uri": "https://localhost:8080/"
        },
        "id": "6vPxRN4bOA7j",
        "outputId": "7f053c0d-9c4f-4e7c-bea6-3d3b2935ed7a"
      },
      "execution_count": 737,
      "outputs": [
        {
          "output_type": "stream",
          "name": "stdout",
          "text": [
            "MSE:  7.05031861275263\n"
          ]
        }
      ]
    },
    {
      "cell_type": "code",
      "source": [
        "print(\"MAE: \",metrics.mean_absolute_error(y_test, y_pred9))"
      ],
      "metadata": {
        "colab": {
          "base_uri": "https://localhost:8080/"
        },
        "id": "BNSkA0C6ODzZ",
        "outputId": "664cad65-97ac-4ad0-f551-28d6dc5ec85b"
      },
      "execution_count": 738,
      "outputs": [
        {
          "output_type": "stream",
          "name": "stdout",
          "text": [
            "MAE:  2.0421659246697406\n"
          ]
        }
      ]
    },
    {
      "cell_type": "markdown",
      "source": [
        "**3.6 Modelo de regresión lasso multiple**"
      ],
      "metadata": {
        "id": "y63S1mLeOI7G"
      }
    },
    {
      "cell_type": "markdown",
      "source": [
        "* Modelo 1"
      ],
      "metadata": {
        "id": "GmKIiXyyONKC"
      }
    },
    {
      "cell_type": "code",
      "source": [
        "lassoreg0 = Lasso(alpha=0, tol=0.01)"
      ],
      "metadata": {
        "id": "hln2PyExOSEN"
      },
      "execution_count": 739,
      "outputs": []
    },
    {
      "cell_type": "code",
      "source": [
        "lassoreg0.fit(x_train, y_train)"
      ],
      "metadata": {
        "colab": {
          "base_uri": "https://localhost:8080/"
        },
        "id": "Awt7R85UOdgm",
        "outputId": "d482de55-6618-4cfb-9013-a24b3e77ff56"
      },
      "execution_count": 740,
      "outputs": [
        {
          "output_type": "stream",
          "name": "stderr",
          "text": [
            "/usr/local/lib/python3.7/dist-packages/ipykernel_launcher.py:1: UserWarning: With alpha=0, this algorithm does not converge well. You are advised to use the LinearRegression estimator\n",
            "  \"\"\"Entry point for launching an IPython kernel.\n",
            "/usr/local/lib/python3.7/dist-packages/sklearn/linear_model/_coordinate_descent.py:648: UserWarning: Coordinate descent with no regularization may lead to unexpected results and is discouraged.\n",
            "  coef_, l1_reg, l2_reg, X, y, max_iter, tol, rng, random, positive\n",
            "/usr/local/lib/python3.7/dist-packages/sklearn/linear_model/_coordinate_descent.py:648: ConvergenceWarning: Objective did not converge. You might want to increase the number of iterations, check the scale of the features or consider increasing regularisation. Duality gap: 1.435e+03, tolerance: 3.898e+01 Linear regression models with null weight for the l1 regularization term are more efficiently fitted using one of the solvers implemented in sklearn.linear_model.Ridge/RidgeCV instead.\n",
            "  coef_, l1_reg, l2_reg, X, y, max_iter, tol, rng, random, positive\n"
          ]
        },
        {
          "output_type": "execute_result",
          "data": {
            "text/plain": [
              "Lasso(alpha=0, tol=0.01)"
            ]
          },
          "metadata": {},
          "execution_count": 740
        }
      ]
    },
    {
      "cell_type": "code",
      "source": [
        "lassoreg0.coef_"
      ],
      "metadata": {
        "colab": {
          "base_uri": "https://localhost:8080/"
        },
        "id": "-fJqwGhxOsrO",
        "outputId": "5348c3e7-b9db-4bdd-d89e-da00381a0105"
      },
      "execution_count": 741,
      "outputs": [
        {
          "output_type": "execute_result",
          "data": {
            "text/plain": [
              "array([-1.76692195e-01,  4.33317169e-01, -9.11537248e-01,  5.92134846e-01,\n",
              "       -3.20191871e-15, -9.99632151e-02,  2.38706476e-15])"
            ]
          },
          "metadata": {},
          "execution_count": 741
        }
      ]
    },
    {
      "cell_type": "code",
      "source": [
        "y_pred10 = lassoreg0.predict(x_test)"
      ],
      "metadata": {
        "id": "V2lk2hRuO0M-"
      },
      "execution_count": 742,
      "outputs": []
    },
    {
      "cell_type": "markdown",
      "source": [
        "* Métricas de evaluación"
      ],
      "metadata": {
        "id": "DLkhV9rgO-Ff"
      }
    },
    {
      "cell_type": "code",
      "source": [
        "print(\"RMSE: \",np.sqrt(metrics.mean_squared_error(y_test, y_pred10)))"
      ],
      "metadata": {
        "colab": {
          "base_uri": "https://localhost:8080/"
        },
        "id": "vC6BrQj9PBlg",
        "outputId": "e47e01f4-291a-40d8-da83-41c5384e4e6e"
      },
      "execution_count": 743,
      "outputs": [
        {
          "output_type": "stream",
          "name": "stdout",
          "text": [
            "RMSE:  2.654934966587849\n"
          ]
        }
      ]
    },
    {
      "cell_type": "code",
      "source": [
        "print(\"MSE: \",metrics.mean_squared_error(y_test, y_pred10))"
      ],
      "metadata": {
        "colab": {
          "base_uri": "https://localhost:8080/"
        },
        "id": "ei65HmFcPF-8",
        "outputId": "17e467dd-0281-46d1-88ae-e93b76fa394c"
      },
      "execution_count": 744,
      "outputs": [
        {
          "output_type": "stream",
          "name": "stdout",
          "text": [
            "MSE:  7.048679676810825\n"
          ]
        }
      ]
    },
    {
      "cell_type": "code",
      "source": [
        "print(\"MAE: \",metrics.mean_absolute_error(y_test, y_pred10))"
      ],
      "metadata": {
        "colab": {
          "base_uri": "https://localhost:8080/"
        },
        "id": "llIok8U7PKXW",
        "outputId": "59b88ba1-eb17-4146-9af0-04c059f824f5"
      },
      "execution_count": 745,
      "outputs": [
        {
          "output_type": "stream",
          "name": "stdout",
          "text": [
            "MAE:  2.0419934886852644\n"
          ]
        }
      ]
    },
    {
      "cell_type": "markdown",
      "source": [
        "* Modelo 2"
      ],
      "metadata": {
        "id": "2AIBDeKVPL4m"
      }
    },
    {
      "cell_type": "code",
      "source": [
        "lassoreg22 = Lasso(alpha=1, tol=0.001)"
      ],
      "metadata": {
        "id": "gnv5OQy1PNiY"
      },
      "execution_count": 746,
      "outputs": []
    },
    {
      "cell_type": "code",
      "source": [
        "lassoreg22.fit(x_train, y_train)"
      ],
      "metadata": {
        "colab": {
          "base_uri": "https://localhost:8080/"
        },
        "id": "ju1ayBn2PSY3",
        "outputId": "9ec3e587-232d-4623-84e6-5f38db9c5792"
      },
      "execution_count": 747,
      "outputs": [
        {
          "output_type": "execute_result",
          "data": {
            "text/plain": [
              "Lasso(alpha=1, tol=0.001)"
            ]
          },
          "metadata": {},
          "execution_count": 747
        }
      ]
    },
    {
      "cell_type": "code",
      "source": [
        "lassoreg22.coef_"
      ],
      "metadata": {
        "colab": {
          "base_uri": "https://localhost:8080/"
        },
        "id": "w87M8SATPW0e",
        "outputId": "07fd7a6f-6af7-4931-a5d1-508a8a71d440"
      },
      "execution_count": 748,
      "outputs": [
        {
          "output_type": "execute_result",
          "data": {
            "text/plain": [
              "array([-0.        ,  0.        , -0.17723085,  0.        , -0.        ,\n",
              "       -0.        ,  0.        ])"
            ]
          },
          "metadata": {},
          "execution_count": 748
        }
      ]
    },
    {
      "cell_type": "code",
      "source": [
        "y_pred11 = lassoreg22.predict(x_test)"
      ],
      "metadata": {
        "id": "-MbZNeLRPaTj"
      },
      "execution_count": 749,
      "outputs": []
    },
    {
      "cell_type": "markdown",
      "source": [
        "* Métricas de evaluación"
      ],
      "metadata": {
        "id": "HfsRgV66PhEm"
      }
    },
    {
      "cell_type": "code",
      "source": [
        "print(\"RMSE: \",np.sqrt(metrics.mean_squared_error(y_test, y_pred11)))"
      ],
      "metadata": {
        "colab": {
          "base_uri": "https://localhost:8080/"
        },
        "id": "YBEKmM9JPj0v",
        "outputId": "c6324597-6838-4ab2-f3db-730f367a0d6a"
      },
      "execution_count": 750,
      "outputs": [
        {
          "output_type": "stream",
          "name": "stdout",
          "text": [
            "RMSE:  3.0540008986921285\n"
          ]
        }
      ]
    },
    {
      "cell_type": "code",
      "source": [
        "print(\"MSE: \",metrics.mean_squared_error(y_test, y_pred11))"
      ],
      "metadata": {
        "colab": {
          "base_uri": "https://localhost:8080/"
        },
        "id": "QxjSYh_8PoCH",
        "outputId": "7eadac93-2aae-4688-d549-da6a0aac640b"
      },
      "execution_count": 751,
      "outputs": [
        {
          "output_type": "stream",
          "name": "stdout",
          "text": [
            "MSE:  9.32692148921233\n"
          ]
        }
      ]
    },
    {
      "cell_type": "code",
      "source": [
        "print(\"MAE: \",metrics.mean_absolute_error(y_test, y_pred11))"
      ],
      "metadata": {
        "colab": {
          "base_uri": "https://localhost:8080/"
        },
        "id": "UuCXvAwmPqTv",
        "outputId": "bbf095d6-f688-48c6-90ea-6748e1c9ce3f"
      },
      "execution_count": 752,
      "outputs": [
        {
          "output_type": "stream",
          "name": "stdout",
          "text": [
            "MAE:  2.4537973499106616\n"
          ]
        }
      ]
    },
    {
      "cell_type": "markdown",
      "source": [
        "* Modelo 3"
      ],
      "metadata": {
        "id": "RsANv4n4PtNe"
      }
    },
    {
      "cell_type": "code",
      "source": [
        "lassoreg23 = Lasso(alpha=0.001, tol=0.1)"
      ],
      "metadata": {
        "id": "vuRD3zvMPuZO"
      },
      "execution_count": 753,
      "outputs": []
    },
    {
      "cell_type": "code",
      "source": [
        "lassoreg23.fit(x_train, y_train)"
      ],
      "metadata": {
        "colab": {
          "base_uri": "https://localhost:8080/"
        },
        "id": "9nA7_qcqPyQP",
        "outputId": "081a6800-3c4b-42d4-eeec-93db4a768d9a"
      },
      "execution_count": 754,
      "outputs": [
        {
          "output_type": "execute_result",
          "data": {
            "text/plain": [
              "Lasso(alpha=0.001, tol=0.1)"
            ]
          },
          "metadata": {},
          "execution_count": 754
        }
      ]
    },
    {
      "cell_type": "code",
      "source": [
        "lassoreg23.coef_"
      ],
      "metadata": {
        "colab": {
          "base_uri": "https://localhost:8080/"
        },
        "id": "xzbcZ_0yP2qX",
        "outputId": "e6f2684a-4fcf-405f-cde8-5c6ea730473d"
      },
      "execution_count": 755,
      "outputs": [
        {
          "output_type": "execute_result",
          "data": {
            "text/plain": [
              "array([-1.75461860e-01,  4.32101868e-01, -9.10836698e-01,  5.91846006e-01,\n",
              "       -1.54663647e-17, -9.93771501e-02,  0.00000000e+00])"
            ]
          },
          "metadata": {},
          "execution_count": 755
        }
      ]
    },
    {
      "cell_type": "code",
      "source": [
        "y_pred12 = lassoreg23.predict(x_test)"
      ],
      "metadata": {
        "id": "vUqAN59zP6O-"
      },
      "execution_count": 756,
      "outputs": []
    },
    {
      "cell_type": "markdown",
      "source": [
        "* Métricas de evaluación"
      ],
      "metadata": {
        "id": "iNNioZl3QAWG"
      }
    },
    {
      "cell_type": "code",
      "source": [
        "print(\"RMSE: \",np.sqrt(metrics.mean_squared_error(y_test, y_pred12)))"
      ],
      "metadata": {
        "colab": {
          "base_uri": "https://localhost:8080/"
        },
        "id": "GwkSyAXLQDcL",
        "outputId": "134b15a9-8eb1-4cec-d44d-b3bb40b93a7c"
      },
      "execution_count": 757,
      "outputs": [
        {
          "output_type": "stream",
          "name": "stdout",
          "text": [
            "RMSE:  2.655224447113402\n"
          ]
        }
      ]
    },
    {
      "cell_type": "code",
      "source": [
        "print(\"MSE: \",metrics.mean_squared_error(y_test, y_pred12))"
      ],
      "metadata": {
        "colab": {
          "base_uri": "https://localhost:8080/"
        },
        "id": "EQ5lGq2EQH_2",
        "outputId": "118fb7ff-7736-482b-c419-233080cf4491"
      },
      "execution_count": 758,
      "outputs": [
        {
          "output_type": "stream",
          "name": "stdout",
          "text": [
            "MSE:  7.050216864548671\n"
          ]
        }
      ]
    },
    {
      "cell_type": "code",
      "source": [
        "print(\"MAE: \",metrics.mean_absolute_error(y_test, y_pred12))"
      ],
      "metadata": {
        "colab": {
          "base_uri": "https://localhost:8080/"
        },
        "id": "9c1tpdl0QLtg",
        "outputId": "56a98cf0-a7c1-423d-8ec6-e9d8ecf8fa89"
      },
      "execution_count": 759,
      "outputs": [
        {
          "output_type": "stream",
          "name": "stdout",
          "text": [
            "MAE:  2.0422733043632824\n"
          ]
        }
      ]
    },
    {
      "cell_type": "markdown",
      "source": [
        "## K Fold Cross Validation "
      ],
      "metadata": {
        "id": "McOmraLgQW2R"
      }
    },
    {
      "cell_type": "markdown",
      "source": [
        "**3.7 Modelo de regresión lineal multiple**"
      ],
      "metadata": {
        "id": "fpsKjn1-Ug6J"
      }
    },
    {
      "cell_type": "markdown",
      "source": [
        "* K=5"
      ],
      "metadata": {
        "id": "qQmoTIhIUmeQ"
      }
    },
    {
      "cell_type": "code",
      "source": [
        "from sklearn.model_selection import KFold\n",
        "cv1 = KFold(n_splits=5, random_state=666, shuffle=True)"
      ],
      "metadata": {
        "id": "qrvZNmAlQZt4"
      },
      "execution_count": 772,
      "outputs": []
    },
    {
      "cell_type": "code",
      "source": [
        "from sklearn.model_selection import cross_val_score\n",
        "scores1 = cross_val_score(model1, x_train, y_train, scoring='neg_mean_squared_error', cv=cv1, n_jobs=-1)\n",
        "print('MSE:', abs(np.mean(scores1)))\n",
        "print('RMSE:', np.sqrt(abs(np.mean(scores1))))"
      ],
      "metadata": {
        "colab": {
          "base_uri": "https://localhost:8080/"
        },
        "id": "fmWMymguUedT",
        "outputId": "90ef922e-906e-4c4f-812e-5a783be001bb"
      },
      "execution_count": 773,
      "outputs": [
        {
          "output_type": "stream",
          "name": "stdout",
          "text": [
            "MSE: 5.72179413132031\n",
            "RMSE: 2.3920272012082786\n"
          ]
        }
      ]
    },
    {
      "cell_type": "markdown",
      "source": [
        "* K=10"
      ],
      "metadata": {
        "id": "-lNc7aXDV0lj"
      }
    },
    {
      "cell_type": "code",
      "source": [
        "cv2 = KFold(n_splits=10, random_state=666, shuffle=True)"
      ],
      "metadata": {
        "id": "X-r6T1LUU5PY"
      },
      "execution_count": 774,
      "outputs": []
    },
    {
      "cell_type": "code",
      "source": [
        "scores2 = cross_val_score(model1, x_train, y_train, scoring='neg_mean_squared_error', cv=cv2, n_jobs=-1)\n",
        "print('MSE:', abs(np.mean(scores2)))\n",
        "print('RMSE:', np.sqrt(abs(np.mean(scores2))))"
      ],
      "metadata": {
        "colab": {
          "base_uri": "https://localhost:8080/"
        },
        "id": "kQnNtOqKWARq",
        "outputId": "eea40caa-35f4-4aa2-fda8-7009e46b18fe"
      },
      "execution_count": 775,
      "outputs": [
        {
          "output_type": "stream",
          "name": "stdout",
          "text": [
            "MSE: 5.691880995412369\n",
            "RMSE: 2.3857663329446934\n"
          ]
        }
      ]
    },
    {
      "cell_type": "markdown",
      "source": [
        "**3.8 Modelo de regresión ridge multiple**"
      ],
      "metadata": {
        "id": "bq7iBLqwWGVf"
      }
    },
    {
      "cell_type": "markdown",
      "source": [
        "Se uso el mejor modelo utilizando la partición anterior, de acuerdo a las métricas de evaluación calculadas."
      ],
      "metadata": {
        "id": "xR79G9FSXAFI"
      }
    },
    {
      "cell_type": "markdown",
      "source": [
        "* K=5"
      ],
      "metadata": {
        "id": "SVT6mubVWVL9"
      }
    },
    {
      "cell_type": "code",
      "source": [
        "cv3 = KFold(n_splits=5, random_state=666, shuffle=True)"
      ],
      "metadata": {
        "id": "dTNquXiWWNL_"
      },
      "execution_count": 776,
      "outputs": []
    },
    {
      "cell_type": "code",
      "source": [
        "scores3 = cross_val_score(ridgereg0, x_train, y_train, scoring='neg_mean_squared_error', cv=cv3, n_jobs=-1)\n",
        "print('MSE:', abs(np.mean(scores3)))\n",
        "print('RMSE:', np.sqrt(abs(np.mean(scores3))))"
      ],
      "metadata": {
        "colab": {
          "base_uri": "https://localhost:8080/"
        },
        "id": "svH7lAXkWaZA",
        "outputId": "df030d43-6ca8-4a83-e2f2-b27b71b6a5b2"
      },
      "execution_count": 777,
      "outputs": [
        {
          "output_type": "stream",
          "name": "stdout",
          "text": [
            "MSE: 5.70755612471501\n",
            "RMSE: 2.389049209354008\n"
          ]
        }
      ]
    },
    {
      "cell_type": "markdown",
      "source": [
        "* K=10"
      ],
      "metadata": {
        "id": "MH4TRYjbWyOv"
      }
    },
    {
      "cell_type": "code",
      "source": [
        "cv4 = KFold(n_splits=10, random_state=666, shuffle=True)"
      ],
      "metadata": {
        "id": "IcOZJcEfWz_w"
      },
      "execution_count": 778,
      "outputs": []
    },
    {
      "cell_type": "code",
      "source": [
        "scores4 = cross_val_score(ridgereg0, x_train, y_train, scoring='neg_mean_squared_error', cv=cv4, n_jobs=-1)\n",
        "print('MSE:', abs(np.mean(scores4)))\n",
        "print('RMSE:', np.sqrt(abs(np.mean(scores4))))"
      ],
      "metadata": {
        "colab": {
          "base_uri": "https://localhost:8080/"
        },
        "id": "swksqrRWW4_a",
        "outputId": "fec81212-bd35-4dcc-ebd4-a2eeb79addca"
      },
      "execution_count": 779,
      "outputs": [
        {
          "output_type": "stream",
          "name": "stdout",
          "text": [
            "MSE: 5.680987550947048\n",
            "RMSE: 2.3834822321441895\n"
          ]
        }
      ]
    },
    {
      "cell_type": "markdown",
      "source": [
        "**3.9 Modelo de regresión lasso multiple**"
      ],
      "metadata": {
        "id": "amWhNI8qXVE4"
      }
    },
    {
      "cell_type": "markdown",
      "source": [
        "Se uso el mejor modelo utilizando la partición anterior, de acuerdo a las métricas de evaluación calculadas."
      ],
      "metadata": {
        "id": "GxloOB8MXZzC"
      }
    },
    {
      "cell_type": "markdown",
      "source": [
        "* K=5"
      ],
      "metadata": {
        "id": "lec2otL_Xc9b"
      }
    },
    {
      "cell_type": "code",
      "source": [
        "cv5 = KFold(n_splits=5, random_state=666, shuffle=True)"
      ],
      "metadata": {
        "id": "cMca1-lfXZUC"
      },
      "execution_count": 780,
      "outputs": []
    },
    {
      "cell_type": "code",
      "source": [
        "scores5 = cross_val_score(lassoreg0, x_train, y_train, scoring='neg_mean_squared_error', cv=cv5, n_jobs=-1)\n",
        "print('MSE:', abs(np.mean(scores5)))\n",
        "print('RMSE:', np.sqrt(abs(np.mean(scores5))))"
      ],
      "metadata": {
        "colab": {
          "base_uri": "https://localhost:8080/"
        },
        "id": "gAfwFeGiXiO9",
        "outputId": "cb7423e3-ae54-467c-ac09-8bec384b1cd2"
      },
      "execution_count": 781,
      "outputs": [
        {
          "output_type": "stream",
          "name": "stdout",
          "text": [
            "MSE: 5.70756157569731\n",
            "RMSE: 2.3890503501804456\n"
          ]
        }
      ]
    },
    {
      "cell_type": "markdown",
      "source": [
        "* K=10"
      ],
      "metadata": {
        "id": "DYzgZkhSYzi8"
      }
    },
    {
      "cell_type": "code",
      "source": [
        "cv6 = KFold(n_splits=10, random_state=666, shuffle=True)"
      ],
      "metadata": {
        "id": "V_7GOlZ0Y1-l"
      },
      "execution_count": 782,
      "outputs": []
    },
    {
      "cell_type": "code",
      "source": [
        "scores6 = cross_val_score(lassoreg0, x_train, y_train, scoring='neg_mean_squared_error', cv=cv6, n_jobs=-1)\n",
        "print('MSE:', abs(np.mean(scores6)))\n",
        "print('RMSE:', np.sqrt(abs(np.mean(scores6))))"
      ],
      "metadata": {
        "colab": {
          "base_uri": "https://localhost:8080/"
        },
        "id": "NSyXsQfPY4TG",
        "outputId": "3e19c715-9d40-4bdb-ad1e-a1726667f9c6"
      },
      "execution_count": 783,
      "outputs": [
        {
          "output_type": "stream",
          "name": "stdout",
          "text": [
            "MSE: 5.680989627087136\n",
            "RMSE: 2.3834826676708047\n"
          ]
        }
      ]
    },
    {
      "cell_type": "markdown",
      "source": [
        "#Punto 4\n",
        "\n",
        "Análisis"
      ],
      "metadata": {
        "id": "DV8Csjy_ZTJ4"
      }
    },
    {
      "cell_type": "markdown",
      "source": [
        "**4.1 Mejor modelo**"
      ],
      "metadata": {
        "id": "43kyWmcXZYAw"
      }
    },
    {
      "cell_type": "markdown",
      "source": [
        "De acuerdo a las métricas de todos los anteriores modelos estimados, se llego a la conclusión que el mejor modelo para estimar las notas finales, es un modelo de regresión ridge multiple con partición de entrenamiento (80%) and test (20%)."
      ],
      "metadata": {
        "id": "Eq93cPYcZokb"
      }
    },
    {
      "cell_type": "code",
      "source": [
        "ridgereg22 = Ridge(alpha=0.1, tol=0.00001)"
      ],
      "metadata": {
        "id": "AzIwTR4rilrk"
      },
      "execution_count": 806,
      "outputs": []
    },
    {
      "cell_type": "code",
      "source": [
        "ridgereg22.fit(x_train, y_train)"
      ],
      "metadata": {
        "colab": {
          "base_uri": "https://localhost:8080/"
        },
        "id": "hcGgRpzMin5U",
        "outputId": "c119e02a-b7b4-481f-8595-4fdbe4f363ab"
      },
      "execution_count": 807,
      "outputs": [
        {
          "output_type": "execute_result",
          "data": {
            "text/plain": [
              "Ridge(alpha=0.1, tol=1e-05)"
            ]
          },
          "metadata": {},
          "execution_count": 807
        }
      ]
    },
    {
      "cell_type": "code",
      "source": [
        "ridgereg22.coef_"
      ],
      "metadata": {
        "colab": {
          "base_uri": "https://localhost:8080/"
        },
        "id": "1MG-DKXjisNp",
        "outputId": "de11d239-c75e-474c-96f8-d7c313c9114b"
      },
      "execution_count": 808,
      "outputs": [
        {
          "output_type": "execute_result",
          "data": {
            "text/plain": [
              "array([-0.17668297,  0.43325933, -0.91139274,  0.29604993, -0.29604993,\n",
              "       -0.0499911 ,  0.0499911 ])"
            ]
          },
          "metadata": {},
          "execution_count": 808
        }
      ]
    },
    {
      "cell_type": "code",
      "source": [
        "y_pred8 = ridgereg22.predict(x_test)"
      ],
      "metadata": {
        "id": "JSfY7OfMizUQ"
      },
      "execution_count": 809,
      "outputs": []
    },
    {
      "cell_type": "markdown",
      "source": [
        "* Métricas de evaluación"
      ],
      "metadata": {
        "id": "No-86wbDi_S4"
      }
    },
    {
      "cell_type": "code",
      "source": [
        "print(\"RMSE: \",np.sqrt(metrics.mean_squared_error(y_test, y_pred8)))"
      ],
      "metadata": {
        "colab": {
          "base_uri": "https://localhost:8080/"
        },
        "id": "dCp5yr-ji0Do",
        "outputId": "55c232e6-ba27-409f-eb68-41bc79c4cf8c"
      },
      "execution_count": 810,
      "outputs": [
        {
          "output_type": "stream",
          "name": "stdout",
          "text": [
            "RMSE:  2.65496584389599\n"
          ]
        }
      ]
    },
    {
      "cell_type": "code",
      "source": [
        "print(\"MSE: \",metrics.mean_squared_error(y_test, y_pred8))"
      ],
      "metadata": {
        "colab": {
          "base_uri": "https://localhost:8080/"
        },
        "id": "VDXh7mL0i55C",
        "outputId": "d539d888-42c0-4789-d332-4e59a50659c3"
      },
      "execution_count": 811,
      "outputs": [
        {
          "output_type": "stream",
          "name": "stdout",
          "text": [
            "MSE:  7.048843632254347\n"
          ]
        }
      ]
    },
    {
      "cell_type": "code",
      "source": [
        "print(\"MAE: \",metrics.mean_absolute_error(y_test, y_pred8))"
      ],
      "metadata": {
        "colab": {
          "base_uri": "https://localhost:8080/"
        },
        "id": "mkFCvXgOi-mY",
        "outputId": "23c8802c-ad44-43a4-9d36-5405e56907ad"
      },
      "execution_count": 812,
      "outputs": [
        {
          "output_type": "stream",
          "name": "stdout",
          "text": [
            "MAE:  2.0420107473507945\n"
          ]
        }
      ]
    },
    {
      "cell_type": "markdown",
      "source": [
        "**4.2 Valores de los parámetros** "
      ],
      "metadata": {
        "id": "cRFMzpBYjZrS"
      }
    },
    {
      "cell_type": "markdown",
      "source": [
        "alpha = 0.1 ; tol:0.00001"
      ],
      "metadata": {
        "id": "zbzsCCOHjiIv"
      }
    },
    {
      "cell_type": "markdown",
      "source": [
        "**4.3 Coeficientes del modelo**"
      ],
      "metadata": {
        "id": "7lCU9s1xjpmQ"
      }
    },
    {
      "cell_type": "code",
      "source": [
        "ridgereg22.coef_"
      ],
      "metadata": {
        "colab": {
          "base_uri": "https://localhost:8080/"
        },
        "id": "ItEX2LH1jvTJ",
        "outputId": "4ca0c66d-3705-4f32-b584-2ed5ed23b2a4"
      },
      "execution_count": 813,
      "outputs": [
        {
          "output_type": "execute_result",
          "data": {
            "text/plain": [
              "array([-0.17668297,  0.43325933, -0.91139274,  0.29604993, -0.29604993,\n",
              "       -0.0499911 ,  0.0499911 ])"
            ]
          },
          "metadata": {},
          "execution_count": 813
        }
      ]
    },
    {
      "cell_type": "markdown",
      "source": [
        "De acuerdo a los coeficientes del modelo, se interpreta que:\n",
        "\n",
        "* B1: Un aumento de 1 unidad en el tiempo de viaje a la escuela, se asocia con una disminución de 0.17668 unidades en la nota final.\n",
        "* B2: Un aumento de 1 unidad en el tiempo de estudio en la semana, se asocia con un aumento de 0.43325 unidades en la nota final.\n",
        "* B3: Un aumento de 1 unidad en el número de fracasos de clases anteriores, se asocia con una disminución de 0.91139 unidades en la nota final.\n",
        "* B4: Si un estudiante esta en la escuela GP, se asocia con un aumento de 0.29604 unidades en la nota final.\n",
        "* B5: Si un estudiante esta en la escuela MS, se asocia con una disminución de 0.29604 unidades en la nota final.\n",
        "* B6: Si un estudiante no tiene internet, se asocia con una disminución de 0.04999 unidades en la nota final.\n",
        "* B7: Si un estudiante si tiene internet, se asocia con un aumento de 0.04999 unidades en la nota final."
      ],
      "metadata": {
        "id": "jeZtXAXSjyt4"
      }
    }
  ]
}