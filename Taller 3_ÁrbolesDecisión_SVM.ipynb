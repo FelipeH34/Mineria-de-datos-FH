{
  "nbformat": 4,
  "nbformat_minor": 0,
  "metadata": {
    "kernelspec": {
      "display_name": "Python 3",
      "language": "python",
      "name": "python3"
    },
    "language_info": {
      "codemirror_mode": {
        "name": "ipython",
        "version": 3
      },
      "file_extension": ".py",
      "mimetype": "text/x-python",
      "name": "python",
      "nbconvert_exporter": "python",
      "pygments_lexer": "ipython3",
      "version": "3.7.0"
    },
    "colab": {
      "provenance": [],
      "collapsed_sections": []
    }
  },
  "cells": [
    {
      "cell_type": "markdown",
      "source": [
        "# Árbol de decisión\n",
        "\n",
        "Según el siguiente árbol de decisión, analice y responda:\n",
        "\n",
        "![Obama-Clinton decision tree](https://github.com/justmarkham/DAT8/raw/226791169b1cc6df8e8845c12e34e748d5ffaa85/notebooks/images/obama_clinton_tree.jpg)"
      ],
      "metadata": {
        "id": "gqDPEMhZyKFy"
      }
    },
    {
      "cell_type": "markdown",
      "source": [
        "## 1.1 ¿Qué son las observaciones? ¿Cuántas observaciones hay?\n"
      ],
      "metadata": {
        "id": "3dk2ih2FyT8i"
      }
    },
    {
      "cell_type": "markdown",
      "source": [
        "\n",
        "* En este arbol de decisión, las observaciones son los condados. \n",
        "* Se evidencian 2241 observaciones. \n",
        "\n",
        "\n",
        " \n",
        "\n"
      ],
      "metadata": {
        "id": "7bcxZCY3yxv5"
      }
    },
    {
      "cell_type": "markdown",
      "source": [
        "## 1.2 ¿Cuál es la variable de respuesta?\n"
      ],
      "metadata": {
        "id": "bl0Y4beuyaie"
      }
    },
    {
      "cell_type": "markdown",
      "source": [
        "El candidato presidencial que ganaría en un condado con determindas características. \n",
        "\n",
        "\n"
      ],
      "metadata": {
        "id": "SGhpIhmDy4eS"
      }
    },
    {
      "cell_type": "markdown",
      "source": [
        "## 1.3 ¿Cuáles son las características?¿Cuál es la característica más predictiva?\n"
      ],
      "metadata": {
        "id": "eZD45NjhydqE"
      }
    },
    {
      "cell_type": "markdown",
      "source": [
        "*  La característica más predictiva es el porcentaje de población negra en determinado condado.\n",
        "\n",
        "* Por otro lado, en el anterior arbol de decisión se visualizán siete características, las cuales son:\n",
        "\n",
        "1. ¿Es un condando con más del 20% de población negra?.\n",
        "2. ¿La tasa de graduación de la escuela secundaria es superior al 78%?.\n",
        "3. ¿La tasa de graduación de la escuela secundaria es superior al 87?.\n",
        "4. ¿Donde está el condado? (noreste o sureste - oeste o medioeste).\n",
        "5.  En el año 2000, ¿habia muchos hogares pobres?\n",
        "6. ¿Cuál es la densidad de la población?.\n",
        "7. En el año 2004, ¿Bush venció duramente a Kerry? (por más de 16,5 puntos porcentuales).\n"
      ],
      "metadata": {
        "id": "lnLygKaty48_"
      }
    },
    {
      "cell_type": "markdown",
      "source": [
        "## 1.4 ¿Cuál es la predicción de clase para el siguiente condado con los siguientes datos: 15% de afroamericanos, 90% de tasa de graduación en la escuela secundaria, ubicado en el Sur, alta pobreza, alta densidad de población?\n"
      ],
      "metadata": {
        "id": "XdVVxJvTymo1"
      }
    },
    {
      "cell_type": "markdown",
      "source": [
        "Obama ganaría."
      ],
      "metadata": {
        "id": "VrCCs9WRy5pM"
      }
    },
    {
      "cell_type": "markdown",
      "source": [
        "## 1.5 ¿Cuál es el chance predicha para ese mismo condado anteriormente descrito?"
      ],
      "metadata": {
        "id": "a3U8yhpFyoXH"
      }
    },
    {
      "cell_type": "markdown",
      "source": [
        "El chance predicho para este mismo condado, sería 185 sobre 36 condados, es decir, la chance es de 5,13889. "
      ],
      "metadata": {
        "id": "BA71bzMCF5iw"
      }
    },
    {
      "cell_type": "markdown",
      "metadata": {
        "id": "goh8XqyWQwHS"
      },
      "source": [
        "## SVM\n",
        "\n",
        "\n",
        "Para esta tarea consideramos un conjunto de observaciones sobre una serie de variedades de vino tinto y blanco que implican sus propiedades químicas y su clasificación por parte de los catadores. La industria del vino ha experimentado un gran crecimiento en los últimos tiempos debido al aumento del consumo social. El precio del vino depende de un concepto bastante abstracto de apreciación del vino por parte de los catadores, cuya opinión puede tener un alto grado de variabilidad. El precio del vino depende en cierta medida de este factor tan volátil. Otro factor clave en la certificación y evaluación de la calidad del vino son las pruebas fisicoquímicas, que se realizan en laboratorio y tienen en cuenta factores como la acidez, el nivel de pH, la presencia de azúcar y otras propiedades químicas. Para el mercado del vino, sería interesante que la calidad humana de la cata pudiera relacionarse con las propiedades químicas del vino para que el proceso de certificación y evaluación de la calidad estuviera más controlado.\n",
        "\n",
        "Se dispone de dos conjuntos de datos, uno de los cuales se refiere al vino tinto y cuenta con 1.599 variedades diferentes, y el otro, al vino blanco, con 4.898 variedades. Todos los vinos se producen en una zona concreta de Portugal. Se recogen datos sobre 12 propiedades diferentes de los vinos, una de las cuales es la calidad, basada en datos sensoriales, y el resto son propiedades químicas de los vinos, como la densidad, la acidez, el contenido de alcohol, etc. Todas las propiedades químicas de los vinos son variables continuas. La calidad es una variable ordinal con una clasificación posible de 1 (peor) a 10 (mejor). Cada variedad de vino es catada por tres catadores independientes y la clasificación final asignada es la mediana de la clasificación dada por los catadores.\n",
        "\n",
        "Se espera que un modelo predictivo desarrollado a partir de estos datos sirva de orientación a los viñedos en cuanto a la calidad y el precio que se espera obtener de sus productos sin depender en gran medida de la volatilidad de los catadores.\n"
      ]
    },
    {
      "cell_type": "code",
      "metadata": {
        "id": "m4dAFqRiQwHd"
      },
      "source": [
        "import pandas as pd\n",
        "import numpy as np"
      ],
      "execution_count": 3,
      "outputs": []
    },
    {
      "cell_type": "code",
      "metadata": {
        "id": "j0S8ZSeuQwHh"
      },
      "source": [
        "data_r = pd.read_csv('https://raw.githubusercontent.com/prof-tatiana-gutierrez/DatosMD/master/Wine_data_red.csv')\n",
        "data_w = pd.read_csv('https://raw.githubusercontent.com/prof-tatiana-gutierrez/DatosMD/master/Wine_data_white.csv')"
      ],
      "execution_count": 4,
      "outputs": []
    },
    {
      "cell_type": "code",
      "metadata": {
        "colab": {
          "base_uri": "https://localhost:8080/",
          "height": 206
        },
        "id": "zL6G49RMQwHl",
        "outputId": "6085e9c2-14e7-45bc-bdcf-1bd4f78a0a4e"
      },
      "source": [
        "data = data_w.assign(type = 'white')\n",
        "\n",
        "data = data.append(data_r.assign(type = 'red'), ignore_index=True)\n",
        "data.sample(5)"
      ],
      "execution_count": 5,
      "outputs": [
        {
          "output_type": "execute_result",
          "data": {
            "text/plain": [
              "      fixed acidity  volatile acidity  citric acid  residual sugar  chlorides  \\\n",
              "4295            7.2              0.21         0.36           15.70      0.045   \n",
              "1152            6.1              0.60         0.00            1.30      0.042   \n",
              "6195            7.2              0.53         0.14            2.10      0.064   \n",
              "39              7.3              0.24         0.39           17.95      0.057   \n",
              "3157            6.8              0.39         0.34            7.40      0.020   \n",
              "\n",
              "      free sulfur dioxide  total sulfur dioxide  density    pH  sulphates  \\\n",
              "4295                 68.0                 183.0  0.99922  3.25       0.76   \n",
              "1152                 24.0                  79.0  0.99370  3.31       0.38   \n",
              "6195                 15.0                  29.0  0.99323  3.35       0.61   \n",
              "39                   45.0                 149.0  0.99990  3.21       0.36   \n",
              "3157                 38.0                 133.0  0.99212  3.18       0.44   \n",
              "\n",
              "      alcohol  quality   type  \n",
              "4295      9.4        5  white  \n",
              "1152      9.4        4  white  \n",
              "6195     12.1        6    red  \n",
              "39        8.6        5  white  \n",
              "3157     12.0        7  white  "
            ],
            "text/html": [
              "\n",
              "  <div id=\"df-6e7ddaf5-3d7f-48f7-9bae-e1d56a9518fa\">\n",
              "    <div class=\"colab-df-container\">\n",
              "      <div>\n",
              "<style scoped>\n",
              "    .dataframe tbody tr th:only-of-type {\n",
              "        vertical-align: middle;\n",
              "    }\n",
              "\n",
              "    .dataframe tbody tr th {\n",
              "        vertical-align: top;\n",
              "    }\n",
              "\n",
              "    .dataframe thead th {\n",
              "        text-align: right;\n",
              "    }\n",
              "</style>\n",
              "<table border=\"1\" class=\"dataframe\">\n",
              "  <thead>\n",
              "    <tr style=\"text-align: right;\">\n",
              "      <th></th>\n",
              "      <th>fixed acidity</th>\n",
              "      <th>volatile acidity</th>\n",
              "      <th>citric acid</th>\n",
              "      <th>residual sugar</th>\n",
              "      <th>chlorides</th>\n",
              "      <th>free sulfur dioxide</th>\n",
              "      <th>total sulfur dioxide</th>\n",
              "      <th>density</th>\n",
              "      <th>pH</th>\n",
              "      <th>sulphates</th>\n",
              "      <th>alcohol</th>\n",
              "      <th>quality</th>\n",
              "      <th>type</th>\n",
              "    </tr>\n",
              "  </thead>\n",
              "  <tbody>\n",
              "    <tr>\n",
              "      <th>4295</th>\n",
              "      <td>7.2</td>\n",
              "      <td>0.21</td>\n",
              "      <td>0.36</td>\n",
              "      <td>15.70</td>\n",
              "      <td>0.045</td>\n",
              "      <td>68.0</td>\n",
              "      <td>183.0</td>\n",
              "      <td>0.99922</td>\n",
              "      <td>3.25</td>\n",
              "      <td>0.76</td>\n",
              "      <td>9.4</td>\n",
              "      <td>5</td>\n",
              "      <td>white</td>\n",
              "    </tr>\n",
              "    <tr>\n",
              "      <th>1152</th>\n",
              "      <td>6.1</td>\n",
              "      <td>0.60</td>\n",
              "      <td>0.00</td>\n",
              "      <td>1.30</td>\n",
              "      <td>0.042</td>\n",
              "      <td>24.0</td>\n",
              "      <td>79.0</td>\n",
              "      <td>0.99370</td>\n",
              "      <td>3.31</td>\n",
              "      <td>0.38</td>\n",
              "      <td>9.4</td>\n",
              "      <td>4</td>\n",
              "      <td>white</td>\n",
              "    </tr>\n",
              "    <tr>\n",
              "      <th>6195</th>\n",
              "      <td>7.2</td>\n",
              "      <td>0.53</td>\n",
              "      <td>0.14</td>\n",
              "      <td>2.10</td>\n",
              "      <td>0.064</td>\n",
              "      <td>15.0</td>\n",
              "      <td>29.0</td>\n",
              "      <td>0.99323</td>\n",
              "      <td>3.35</td>\n",
              "      <td>0.61</td>\n",
              "      <td>12.1</td>\n",
              "      <td>6</td>\n",
              "      <td>red</td>\n",
              "    </tr>\n",
              "    <tr>\n",
              "      <th>39</th>\n",
              "      <td>7.3</td>\n",
              "      <td>0.24</td>\n",
              "      <td>0.39</td>\n",
              "      <td>17.95</td>\n",
              "      <td>0.057</td>\n",
              "      <td>45.0</td>\n",
              "      <td>149.0</td>\n",
              "      <td>0.99990</td>\n",
              "      <td>3.21</td>\n",
              "      <td>0.36</td>\n",
              "      <td>8.6</td>\n",
              "      <td>5</td>\n",
              "      <td>white</td>\n",
              "    </tr>\n",
              "    <tr>\n",
              "      <th>3157</th>\n",
              "      <td>6.8</td>\n",
              "      <td>0.39</td>\n",
              "      <td>0.34</td>\n",
              "      <td>7.40</td>\n",
              "      <td>0.020</td>\n",
              "      <td>38.0</td>\n",
              "      <td>133.0</td>\n",
              "      <td>0.99212</td>\n",
              "      <td>3.18</td>\n",
              "      <td>0.44</td>\n",
              "      <td>12.0</td>\n",
              "      <td>7</td>\n",
              "      <td>white</td>\n",
              "    </tr>\n",
              "  </tbody>\n",
              "</table>\n",
              "</div>\n",
              "      <button class=\"colab-df-convert\" onclick=\"convertToInteractive('df-6e7ddaf5-3d7f-48f7-9bae-e1d56a9518fa')\"\n",
              "              title=\"Convert this dataframe to an interactive table.\"\n",
              "              style=\"display:none;\">\n",
              "        \n",
              "  <svg xmlns=\"http://www.w3.org/2000/svg\" height=\"24px\"viewBox=\"0 0 24 24\"\n",
              "       width=\"24px\">\n",
              "    <path d=\"M0 0h24v24H0V0z\" fill=\"none\"/>\n",
              "    <path d=\"M18.56 5.44l.94 2.06.94-2.06 2.06-.94-2.06-.94-.94-2.06-.94 2.06-2.06.94zm-11 1L8.5 8.5l.94-2.06 2.06-.94-2.06-.94L8.5 2.5l-.94 2.06-2.06.94zm10 10l.94 2.06.94-2.06 2.06-.94-2.06-.94-.94-2.06-.94 2.06-2.06.94z\"/><path d=\"M17.41 7.96l-1.37-1.37c-.4-.4-.92-.59-1.43-.59-.52 0-1.04.2-1.43.59L10.3 9.45l-7.72 7.72c-.78.78-.78 2.05 0 2.83L4 21.41c.39.39.9.59 1.41.59.51 0 1.02-.2 1.41-.59l7.78-7.78 2.81-2.81c.8-.78.8-2.07 0-2.86zM5.41 20L4 18.59l7.72-7.72 1.47 1.35L5.41 20z\"/>\n",
              "  </svg>\n",
              "      </button>\n",
              "      \n",
              "  <style>\n",
              "    .colab-df-container {\n",
              "      display:flex;\n",
              "      flex-wrap:wrap;\n",
              "      gap: 12px;\n",
              "    }\n",
              "\n",
              "    .colab-df-convert {\n",
              "      background-color: #E8F0FE;\n",
              "      border: none;\n",
              "      border-radius: 50%;\n",
              "      cursor: pointer;\n",
              "      display: none;\n",
              "      fill: #1967D2;\n",
              "      height: 32px;\n",
              "      padding: 0 0 0 0;\n",
              "      width: 32px;\n",
              "    }\n",
              "\n",
              "    .colab-df-convert:hover {\n",
              "      background-color: #E2EBFA;\n",
              "      box-shadow: 0px 1px 2px rgba(60, 64, 67, 0.3), 0px 1px 3px 1px rgba(60, 64, 67, 0.15);\n",
              "      fill: #174EA6;\n",
              "    }\n",
              "\n",
              "    [theme=dark] .colab-df-convert {\n",
              "      background-color: #3B4455;\n",
              "      fill: #D2E3FC;\n",
              "    }\n",
              "\n",
              "    [theme=dark] .colab-df-convert:hover {\n",
              "      background-color: #434B5C;\n",
              "      box-shadow: 0px 1px 3px 1px rgba(0, 0, 0, 0.15);\n",
              "      filter: drop-shadow(0px 1px 2px rgba(0, 0, 0, 0.3));\n",
              "      fill: #FFFFFF;\n",
              "    }\n",
              "  </style>\n",
              "\n",
              "      <script>\n",
              "        const buttonEl =\n",
              "          document.querySelector('#df-6e7ddaf5-3d7f-48f7-9bae-e1d56a9518fa button.colab-df-convert');\n",
              "        buttonEl.style.display =\n",
              "          google.colab.kernel.accessAllowed ? 'block' : 'none';\n",
              "\n",
              "        async function convertToInteractive(key) {\n",
              "          const element = document.querySelector('#df-6e7ddaf5-3d7f-48f7-9bae-e1d56a9518fa');\n",
              "          const dataTable =\n",
              "            await google.colab.kernel.invokeFunction('convertToInteractive',\n",
              "                                                     [key], {});\n",
              "          if (!dataTable) return;\n",
              "\n",
              "          const docLinkHtml = 'Like what you see? Visit the ' +\n",
              "            '<a target=\"_blank\" href=https://colab.research.google.com/notebooks/data_table.ipynb>data table notebook</a>'\n",
              "            + ' to learn more about interactive tables.';\n",
              "          element.innerHTML = '';\n",
              "          dataTable['output_type'] = 'display_data';\n",
              "          await google.colab.output.renderOutput(dataTable, element);\n",
              "          const docLink = document.createElement('div');\n",
              "          docLink.innerHTML = docLinkHtml;\n",
              "          element.appendChild(docLink);\n",
              "        }\n",
              "      </script>\n",
              "    </div>\n",
              "  </div>\n",
              "  "
            ]
          },
          "metadata": {},
          "execution_count": 5
        }
      ]
    },
    {
      "cell_type": "code",
      "metadata": {
        "colab": {
          "base_uri": "https://localhost:8080/"
        },
        "id": "v4tG3aszSHwx",
        "outputId": "edccf44c-b2f4-4a65-96ee-29a6f533d8f2"
      },
      "source": [
        "data.quality.value_counts()"
      ],
      "execution_count": 6,
      "outputs": [
        {
          "output_type": "execute_result",
          "data": {
            "text/plain": [
              "6    2836\n",
              "5    2138\n",
              "7    1079\n",
              "4     216\n",
              "8     193\n",
              "3      30\n",
              "9       5\n",
              "Name: quality, dtype: int64"
            ]
          },
          "metadata": {},
          "execution_count": 6
        }
      ]
    },
    {
      "cell_type": "code",
      "metadata": {
        "colab": {
          "base_uri": "https://localhost:8080/"
        },
        "id": "Aulg4Pz5SIDO",
        "outputId": "48c20e5f-5ba2-4d2b-b226-a175f9a1759d"
      },
      "source": [
        "data.type.value_counts()"
      ],
      "execution_count": 7,
      "outputs": [
        {
          "output_type": "execute_result",
          "data": {
            "text/plain": [
              "white    4898\n",
              "red      1599\n",
              "Name: type, dtype: int64"
            ]
          },
          "metadata": {},
          "execution_count": 7
        }
      ]
    },
    {
      "cell_type": "markdown",
      "metadata": {
        "id": "ijwzlA_FQwHq"
      },
      "source": [
        "# Ejercicio 2.1\n",
        "\n",
        "Mostrar la tabla de frecuencias de la calidad por tipo de vino."
      ]
    },
    {
      "cell_type": "code",
      "metadata": {
        "id": "4s07Ier6QwHs",
        "colab": {
          "base_uri": "https://localhost:8080/",
          "height": 300
        },
        "outputId": "976c54a9-a888-427d-d929-9739ba6e1e6c"
      },
      "source": [
        "pd.crosstab (index =  data [\"quality\"], columns = data [\"type\"])"
      ],
      "execution_count": 8,
      "outputs": [
        {
          "output_type": "execute_result",
          "data": {
            "text/plain": [
              "type     red  white\n",
              "quality            \n",
              "3         10     20\n",
              "4         53    163\n",
              "5        681   1457\n",
              "6        638   2198\n",
              "7        199    880\n",
              "8         18    175\n",
              "9          0      5"
            ],
            "text/html": [
              "\n",
              "  <div id=\"df-9eaf850c-7b0e-4928-9f7b-94509480a718\">\n",
              "    <div class=\"colab-df-container\">\n",
              "      <div>\n",
              "<style scoped>\n",
              "    .dataframe tbody tr th:only-of-type {\n",
              "        vertical-align: middle;\n",
              "    }\n",
              "\n",
              "    .dataframe tbody tr th {\n",
              "        vertical-align: top;\n",
              "    }\n",
              "\n",
              "    .dataframe thead th {\n",
              "        text-align: right;\n",
              "    }\n",
              "</style>\n",
              "<table border=\"1\" class=\"dataframe\">\n",
              "  <thead>\n",
              "    <tr style=\"text-align: right;\">\n",
              "      <th>type</th>\n",
              "      <th>red</th>\n",
              "      <th>white</th>\n",
              "    </tr>\n",
              "    <tr>\n",
              "      <th>quality</th>\n",
              "      <th></th>\n",
              "      <th></th>\n",
              "    </tr>\n",
              "  </thead>\n",
              "  <tbody>\n",
              "    <tr>\n",
              "      <th>3</th>\n",
              "      <td>10</td>\n",
              "      <td>20</td>\n",
              "    </tr>\n",
              "    <tr>\n",
              "      <th>4</th>\n",
              "      <td>53</td>\n",
              "      <td>163</td>\n",
              "    </tr>\n",
              "    <tr>\n",
              "      <th>5</th>\n",
              "      <td>681</td>\n",
              "      <td>1457</td>\n",
              "    </tr>\n",
              "    <tr>\n",
              "      <th>6</th>\n",
              "      <td>638</td>\n",
              "      <td>2198</td>\n",
              "    </tr>\n",
              "    <tr>\n",
              "      <th>7</th>\n",
              "      <td>199</td>\n",
              "      <td>880</td>\n",
              "    </tr>\n",
              "    <tr>\n",
              "      <th>8</th>\n",
              "      <td>18</td>\n",
              "      <td>175</td>\n",
              "    </tr>\n",
              "    <tr>\n",
              "      <th>9</th>\n",
              "      <td>0</td>\n",
              "      <td>5</td>\n",
              "    </tr>\n",
              "  </tbody>\n",
              "</table>\n",
              "</div>\n",
              "      <button class=\"colab-df-convert\" onclick=\"convertToInteractive('df-9eaf850c-7b0e-4928-9f7b-94509480a718')\"\n",
              "              title=\"Convert this dataframe to an interactive table.\"\n",
              "              style=\"display:none;\">\n",
              "        \n",
              "  <svg xmlns=\"http://www.w3.org/2000/svg\" height=\"24px\"viewBox=\"0 0 24 24\"\n",
              "       width=\"24px\">\n",
              "    <path d=\"M0 0h24v24H0V0z\" fill=\"none\"/>\n",
              "    <path d=\"M18.56 5.44l.94 2.06.94-2.06 2.06-.94-2.06-.94-.94-2.06-.94 2.06-2.06.94zm-11 1L8.5 8.5l.94-2.06 2.06-.94-2.06-.94L8.5 2.5l-.94 2.06-2.06.94zm10 10l.94 2.06.94-2.06 2.06-.94-2.06-.94-.94-2.06-.94 2.06-2.06.94z\"/><path d=\"M17.41 7.96l-1.37-1.37c-.4-.4-.92-.59-1.43-.59-.52 0-1.04.2-1.43.59L10.3 9.45l-7.72 7.72c-.78.78-.78 2.05 0 2.83L4 21.41c.39.39.9.59 1.41.59.51 0 1.02-.2 1.41-.59l7.78-7.78 2.81-2.81c.8-.78.8-2.07 0-2.86zM5.41 20L4 18.59l7.72-7.72 1.47 1.35L5.41 20z\"/>\n",
              "  </svg>\n",
              "      </button>\n",
              "      \n",
              "  <style>\n",
              "    .colab-df-container {\n",
              "      display:flex;\n",
              "      flex-wrap:wrap;\n",
              "      gap: 12px;\n",
              "    }\n",
              "\n",
              "    .colab-df-convert {\n",
              "      background-color: #E8F0FE;\n",
              "      border: none;\n",
              "      border-radius: 50%;\n",
              "      cursor: pointer;\n",
              "      display: none;\n",
              "      fill: #1967D2;\n",
              "      height: 32px;\n",
              "      padding: 0 0 0 0;\n",
              "      width: 32px;\n",
              "    }\n",
              "\n",
              "    .colab-df-convert:hover {\n",
              "      background-color: #E2EBFA;\n",
              "      box-shadow: 0px 1px 2px rgba(60, 64, 67, 0.3), 0px 1px 3px 1px rgba(60, 64, 67, 0.15);\n",
              "      fill: #174EA6;\n",
              "    }\n",
              "\n",
              "    [theme=dark] .colab-df-convert {\n",
              "      background-color: #3B4455;\n",
              "      fill: #D2E3FC;\n",
              "    }\n",
              "\n",
              "    [theme=dark] .colab-df-convert:hover {\n",
              "      background-color: #434B5C;\n",
              "      box-shadow: 0px 1px 3px 1px rgba(0, 0, 0, 0.15);\n",
              "      filter: drop-shadow(0px 1px 2px rgba(0, 0, 0, 0.3));\n",
              "      fill: #FFFFFF;\n",
              "    }\n",
              "  </style>\n",
              "\n",
              "      <script>\n",
              "        const buttonEl =\n",
              "          document.querySelector('#df-9eaf850c-7b0e-4928-9f7b-94509480a718 button.colab-df-convert');\n",
              "        buttonEl.style.display =\n",
              "          google.colab.kernel.accessAllowed ? 'block' : 'none';\n",
              "\n",
              "        async function convertToInteractive(key) {\n",
              "          const element = document.querySelector('#df-9eaf850c-7b0e-4928-9f7b-94509480a718');\n",
              "          const dataTable =\n",
              "            await google.colab.kernel.invokeFunction('convertToInteractive',\n",
              "                                                     [key], {});\n",
              "          if (!dataTable) return;\n",
              "\n",
              "          const docLinkHtml = 'Like what you see? Visit the ' +\n",
              "            '<a target=\"_blank\" href=https://colab.research.google.com/notebooks/data_table.ipynb>data table notebook</a>'\n",
              "            + ' to learn more about interactive tables.';\n",
              "          element.innerHTML = '';\n",
              "          dataTable['output_type'] = 'display_data';\n",
              "          await google.colab.output.renderOutput(dataTable, element);\n",
              "          const docLink = document.createElement('div');\n",
              "          docLink.innerHTML = docLinkHtml;\n",
              "          element.appendChild(docLink);\n",
              "        }\n",
              "      </script>\n",
              "    </div>\n",
              "  </div>\n",
              "  "
            ]
          },
          "metadata": {},
          "execution_count": 8
        }
      ]
    },
    {
      "cell_type": "markdown",
      "metadata": {
        "id": "0kggmI76QwHv"
      },
      "source": [
        "# Ejercicio 2.2\n",
        "\n",
        "Teniendo en cuenta todas las variables:\n",
        "\n",
        "* Crear un objetivo binario para cada tipo de vino, haciendo la transformación necesaria para ingresar la información al modelo.\n",
        "* Crear una SVM que prediga el tipo de vino\n",
        "* Evalúe con F1, AUC-ROC y log-loss\n"
      ]
    },
    {
      "cell_type": "markdown",
      "source": [
        "## **Transformación de la variable \"type\"**\n",
        "\n",
        "* 1 si es vino de tipo blanco\n",
        "* 0 si es vino de tipo rojo"
      ],
      "metadata": {
        "id": "Wl9xUWxLBvRi"
      }
    },
    {
      "cell_type": "code",
      "source": [
        "data_2 = pd.get_dummies(data,columns=[\"type\"])\n",
        "data_2 = data_2.drop([\"type_red\"], axis= 1)\n",
        "data_2"
      ],
      "metadata": {
        "colab": {
          "base_uri": "https://localhost:8080/",
          "height": 423
        },
        "id": "u9Tj_kvbDsBZ",
        "outputId": "c2d49ec9-4254-47b1-fcf2-fb0e8f633ff7"
      },
      "execution_count": 9,
      "outputs": [
        {
          "output_type": "execute_result",
          "data": {
            "text/plain": [
              "      fixed acidity  volatile acidity  citric acid  residual sugar  chlorides  \\\n",
              "0               7.0             0.270         0.36            20.7      0.045   \n",
              "1               6.3             0.300         0.34             1.6      0.049   \n",
              "2               8.1             0.280         0.40             6.9      0.050   \n",
              "3               7.2             0.230         0.32             8.5      0.058   \n",
              "4               7.2             0.230         0.32             8.5      0.058   \n",
              "...             ...               ...          ...             ...        ...   \n",
              "6492            6.2             0.600         0.08             2.0      0.090   \n",
              "6493            5.9             0.550         0.10             2.2      0.062   \n",
              "6494            6.3             0.510         0.13             2.3      0.076   \n",
              "6495            5.9             0.645         0.12             2.0      0.075   \n",
              "6496            6.0             0.310         0.47             3.6      0.067   \n",
              "\n",
              "      free sulfur dioxide  total sulfur dioxide  density    pH  sulphates  \\\n",
              "0                    45.0                 170.0  1.00100  3.00       0.45   \n",
              "1                    14.0                 132.0  0.99400  3.30       0.49   \n",
              "2                    30.0                  97.0  0.99510  3.26       0.44   \n",
              "3                    47.0                 186.0  0.99560  3.19       0.40   \n",
              "4                    47.0                 186.0  0.99560  3.19       0.40   \n",
              "...                   ...                   ...      ...   ...        ...   \n",
              "6492                 32.0                  44.0  0.99490  3.45       0.58   \n",
              "6493                 39.0                  51.0  0.99512  3.52       0.76   \n",
              "6494                 29.0                  40.0  0.99574  3.42       0.75   \n",
              "6495                 32.0                  44.0  0.99547  3.57       0.71   \n",
              "6496                 18.0                  42.0  0.99549  3.39       0.66   \n",
              "\n",
              "      alcohol  quality  type_white  \n",
              "0         8.8        6           1  \n",
              "1         9.5        6           1  \n",
              "2        10.1        6           1  \n",
              "3         9.9        6           1  \n",
              "4         9.9        6           1  \n",
              "...       ...      ...         ...  \n",
              "6492     10.5        5           0  \n",
              "6493     11.2        6           0  \n",
              "6494     11.0        6           0  \n",
              "6495     10.2        5           0  \n",
              "6496     11.0        6           0  \n",
              "\n",
              "[6497 rows x 13 columns]"
            ],
            "text/html": [
              "\n",
              "  <div id=\"df-2f2dba11-506f-4488-9e3c-c8958502b4f7\">\n",
              "    <div class=\"colab-df-container\">\n",
              "      <div>\n",
              "<style scoped>\n",
              "    .dataframe tbody tr th:only-of-type {\n",
              "        vertical-align: middle;\n",
              "    }\n",
              "\n",
              "    .dataframe tbody tr th {\n",
              "        vertical-align: top;\n",
              "    }\n",
              "\n",
              "    .dataframe thead th {\n",
              "        text-align: right;\n",
              "    }\n",
              "</style>\n",
              "<table border=\"1\" class=\"dataframe\">\n",
              "  <thead>\n",
              "    <tr style=\"text-align: right;\">\n",
              "      <th></th>\n",
              "      <th>fixed acidity</th>\n",
              "      <th>volatile acidity</th>\n",
              "      <th>citric acid</th>\n",
              "      <th>residual sugar</th>\n",
              "      <th>chlorides</th>\n",
              "      <th>free sulfur dioxide</th>\n",
              "      <th>total sulfur dioxide</th>\n",
              "      <th>density</th>\n",
              "      <th>pH</th>\n",
              "      <th>sulphates</th>\n",
              "      <th>alcohol</th>\n",
              "      <th>quality</th>\n",
              "      <th>type_white</th>\n",
              "    </tr>\n",
              "  </thead>\n",
              "  <tbody>\n",
              "    <tr>\n",
              "      <th>0</th>\n",
              "      <td>7.0</td>\n",
              "      <td>0.270</td>\n",
              "      <td>0.36</td>\n",
              "      <td>20.7</td>\n",
              "      <td>0.045</td>\n",
              "      <td>45.0</td>\n",
              "      <td>170.0</td>\n",
              "      <td>1.00100</td>\n",
              "      <td>3.00</td>\n",
              "      <td>0.45</td>\n",
              "      <td>8.8</td>\n",
              "      <td>6</td>\n",
              "      <td>1</td>\n",
              "    </tr>\n",
              "    <tr>\n",
              "      <th>1</th>\n",
              "      <td>6.3</td>\n",
              "      <td>0.300</td>\n",
              "      <td>0.34</td>\n",
              "      <td>1.6</td>\n",
              "      <td>0.049</td>\n",
              "      <td>14.0</td>\n",
              "      <td>132.0</td>\n",
              "      <td>0.99400</td>\n",
              "      <td>3.30</td>\n",
              "      <td>0.49</td>\n",
              "      <td>9.5</td>\n",
              "      <td>6</td>\n",
              "      <td>1</td>\n",
              "    </tr>\n",
              "    <tr>\n",
              "      <th>2</th>\n",
              "      <td>8.1</td>\n",
              "      <td>0.280</td>\n",
              "      <td>0.40</td>\n",
              "      <td>6.9</td>\n",
              "      <td>0.050</td>\n",
              "      <td>30.0</td>\n",
              "      <td>97.0</td>\n",
              "      <td>0.99510</td>\n",
              "      <td>3.26</td>\n",
              "      <td>0.44</td>\n",
              "      <td>10.1</td>\n",
              "      <td>6</td>\n",
              "      <td>1</td>\n",
              "    </tr>\n",
              "    <tr>\n",
              "      <th>3</th>\n",
              "      <td>7.2</td>\n",
              "      <td>0.230</td>\n",
              "      <td>0.32</td>\n",
              "      <td>8.5</td>\n",
              "      <td>0.058</td>\n",
              "      <td>47.0</td>\n",
              "      <td>186.0</td>\n",
              "      <td>0.99560</td>\n",
              "      <td>3.19</td>\n",
              "      <td>0.40</td>\n",
              "      <td>9.9</td>\n",
              "      <td>6</td>\n",
              "      <td>1</td>\n",
              "    </tr>\n",
              "    <tr>\n",
              "      <th>4</th>\n",
              "      <td>7.2</td>\n",
              "      <td>0.230</td>\n",
              "      <td>0.32</td>\n",
              "      <td>8.5</td>\n",
              "      <td>0.058</td>\n",
              "      <td>47.0</td>\n",
              "      <td>186.0</td>\n",
              "      <td>0.99560</td>\n",
              "      <td>3.19</td>\n",
              "      <td>0.40</td>\n",
              "      <td>9.9</td>\n",
              "      <td>6</td>\n",
              "      <td>1</td>\n",
              "    </tr>\n",
              "    <tr>\n",
              "      <th>...</th>\n",
              "      <td>...</td>\n",
              "      <td>...</td>\n",
              "      <td>...</td>\n",
              "      <td>...</td>\n",
              "      <td>...</td>\n",
              "      <td>...</td>\n",
              "      <td>...</td>\n",
              "      <td>...</td>\n",
              "      <td>...</td>\n",
              "      <td>...</td>\n",
              "      <td>...</td>\n",
              "      <td>...</td>\n",
              "      <td>...</td>\n",
              "    </tr>\n",
              "    <tr>\n",
              "      <th>6492</th>\n",
              "      <td>6.2</td>\n",
              "      <td>0.600</td>\n",
              "      <td>0.08</td>\n",
              "      <td>2.0</td>\n",
              "      <td>0.090</td>\n",
              "      <td>32.0</td>\n",
              "      <td>44.0</td>\n",
              "      <td>0.99490</td>\n",
              "      <td>3.45</td>\n",
              "      <td>0.58</td>\n",
              "      <td>10.5</td>\n",
              "      <td>5</td>\n",
              "      <td>0</td>\n",
              "    </tr>\n",
              "    <tr>\n",
              "      <th>6493</th>\n",
              "      <td>5.9</td>\n",
              "      <td>0.550</td>\n",
              "      <td>0.10</td>\n",
              "      <td>2.2</td>\n",
              "      <td>0.062</td>\n",
              "      <td>39.0</td>\n",
              "      <td>51.0</td>\n",
              "      <td>0.99512</td>\n",
              "      <td>3.52</td>\n",
              "      <td>0.76</td>\n",
              "      <td>11.2</td>\n",
              "      <td>6</td>\n",
              "      <td>0</td>\n",
              "    </tr>\n",
              "    <tr>\n",
              "      <th>6494</th>\n",
              "      <td>6.3</td>\n",
              "      <td>0.510</td>\n",
              "      <td>0.13</td>\n",
              "      <td>2.3</td>\n",
              "      <td>0.076</td>\n",
              "      <td>29.0</td>\n",
              "      <td>40.0</td>\n",
              "      <td>0.99574</td>\n",
              "      <td>3.42</td>\n",
              "      <td>0.75</td>\n",
              "      <td>11.0</td>\n",
              "      <td>6</td>\n",
              "      <td>0</td>\n",
              "    </tr>\n",
              "    <tr>\n",
              "      <th>6495</th>\n",
              "      <td>5.9</td>\n",
              "      <td>0.645</td>\n",
              "      <td>0.12</td>\n",
              "      <td>2.0</td>\n",
              "      <td>0.075</td>\n",
              "      <td>32.0</td>\n",
              "      <td>44.0</td>\n",
              "      <td>0.99547</td>\n",
              "      <td>3.57</td>\n",
              "      <td>0.71</td>\n",
              "      <td>10.2</td>\n",
              "      <td>5</td>\n",
              "      <td>0</td>\n",
              "    </tr>\n",
              "    <tr>\n",
              "      <th>6496</th>\n",
              "      <td>6.0</td>\n",
              "      <td>0.310</td>\n",
              "      <td>0.47</td>\n",
              "      <td>3.6</td>\n",
              "      <td>0.067</td>\n",
              "      <td>18.0</td>\n",
              "      <td>42.0</td>\n",
              "      <td>0.99549</td>\n",
              "      <td>3.39</td>\n",
              "      <td>0.66</td>\n",
              "      <td>11.0</td>\n",
              "      <td>6</td>\n",
              "      <td>0</td>\n",
              "    </tr>\n",
              "  </tbody>\n",
              "</table>\n",
              "<p>6497 rows × 13 columns</p>\n",
              "</div>\n",
              "      <button class=\"colab-df-convert\" onclick=\"convertToInteractive('df-2f2dba11-506f-4488-9e3c-c8958502b4f7')\"\n",
              "              title=\"Convert this dataframe to an interactive table.\"\n",
              "              style=\"display:none;\">\n",
              "        \n",
              "  <svg xmlns=\"http://www.w3.org/2000/svg\" height=\"24px\"viewBox=\"0 0 24 24\"\n",
              "       width=\"24px\">\n",
              "    <path d=\"M0 0h24v24H0V0z\" fill=\"none\"/>\n",
              "    <path d=\"M18.56 5.44l.94 2.06.94-2.06 2.06-.94-2.06-.94-.94-2.06-.94 2.06-2.06.94zm-11 1L8.5 8.5l.94-2.06 2.06-.94-2.06-.94L8.5 2.5l-.94 2.06-2.06.94zm10 10l.94 2.06.94-2.06 2.06-.94-2.06-.94-.94-2.06-.94 2.06-2.06.94z\"/><path d=\"M17.41 7.96l-1.37-1.37c-.4-.4-.92-.59-1.43-.59-.52 0-1.04.2-1.43.59L10.3 9.45l-7.72 7.72c-.78.78-.78 2.05 0 2.83L4 21.41c.39.39.9.59 1.41.59.51 0 1.02-.2 1.41-.59l7.78-7.78 2.81-2.81c.8-.78.8-2.07 0-2.86zM5.41 20L4 18.59l7.72-7.72 1.47 1.35L5.41 20z\"/>\n",
              "  </svg>\n",
              "      </button>\n",
              "      \n",
              "  <style>\n",
              "    .colab-df-container {\n",
              "      display:flex;\n",
              "      flex-wrap:wrap;\n",
              "      gap: 12px;\n",
              "    }\n",
              "\n",
              "    .colab-df-convert {\n",
              "      background-color: #E8F0FE;\n",
              "      border: none;\n",
              "      border-radius: 50%;\n",
              "      cursor: pointer;\n",
              "      display: none;\n",
              "      fill: #1967D2;\n",
              "      height: 32px;\n",
              "      padding: 0 0 0 0;\n",
              "      width: 32px;\n",
              "    }\n",
              "\n",
              "    .colab-df-convert:hover {\n",
              "      background-color: #E2EBFA;\n",
              "      box-shadow: 0px 1px 2px rgba(60, 64, 67, 0.3), 0px 1px 3px 1px rgba(60, 64, 67, 0.15);\n",
              "      fill: #174EA6;\n",
              "    }\n",
              "\n",
              "    [theme=dark] .colab-df-convert {\n",
              "      background-color: #3B4455;\n",
              "      fill: #D2E3FC;\n",
              "    }\n",
              "\n",
              "    [theme=dark] .colab-df-convert:hover {\n",
              "      background-color: #434B5C;\n",
              "      box-shadow: 0px 1px 3px 1px rgba(0, 0, 0, 0.15);\n",
              "      filter: drop-shadow(0px 1px 2px rgba(0, 0, 0, 0.3));\n",
              "      fill: #FFFFFF;\n",
              "    }\n",
              "  </style>\n",
              "\n",
              "      <script>\n",
              "        const buttonEl =\n",
              "          document.querySelector('#df-2f2dba11-506f-4488-9e3c-c8958502b4f7 button.colab-df-convert');\n",
              "        buttonEl.style.display =\n",
              "          google.colab.kernel.accessAllowed ? 'block' : 'none';\n",
              "\n",
              "        async function convertToInteractive(key) {\n",
              "          const element = document.querySelector('#df-2f2dba11-506f-4488-9e3c-c8958502b4f7');\n",
              "          const dataTable =\n",
              "            await google.colab.kernel.invokeFunction('convertToInteractive',\n",
              "                                                     [key], {});\n",
              "          if (!dataTable) return;\n",
              "\n",
              "          const docLinkHtml = 'Like what you see? Visit the ' +\n",
              "            '<a target=\"_blank\" href=https://colab.research.google.com/notebooks/data_table.ipynb>data table notebook</a>'\n",
              "            + ' to learn more about interactive tables.';\n",
              "          element.innerHTML = '';\n",
              "          dataTable['output_type'] = 'display_data';\n",
              "          await google.colab.output.renderOutput(dataTable, element);\n",
              "          const docLink = document.createElement('div');\n",
              "          docLink.innerHTML = docLinkHtml;\n",
              "          element.appendChild(docLink);\n",
              "        }\n",
              "      </script>\n",
              "    </div>\n",
              "  </div>\n",
              "  "
            ]
          },
          "metadata": {},
          "execution_count": 9
        }
      ]
    },
    {
      "cell_type": "markdown",
      "source": [
        "## **Módelo SVM**"
      ],
      "metadata": {
        "id": "ecwt9zp8B95S"
      }
    },
    {
      "cell_type": "code",
      "source": [
        "from sklearn.model_selection import train_test_split\n",
        "y = data_2.type_white\n",
        "X = data_2.drop(\"type_white\", axis=1)"
      ],
      "metadata": {
        "id": "qSVunrTrBhyv"
      },
      "execution_count": 10,
      "outputs": []
    },
    {
      "cell_type": "code",
      "source": [
        "X_train, X_test, y_train, y_test = train_test_split(X,y,test_size=0.2,random_state=1,stratify=y)"
      ],
      "metadata": {
        "id": "dtAg_kpkJrh2"
      },
      "execution_count": 11,
      "outputs": []
    },
    {
      "cell_type": "markdown",
      "source": [
        "Se estandarizaron los datos para asi mejorar el proceso de clasificación en el módelo."
      ],
      "metadata": {
        "id": "_iRQHS1rPapU"
      }
    },
    {
      "cell_type": "code",
      "source": [
        "from sklearn.preprocessing import StandardScaler\n",
        "sc = StandardScaler()\n",
        "X_train_array = sc.fit_transform(X_train.values)\n",
        "X_train = pd.DataFrame(X_train_array, index=X_train.index, columns=X_train.columns)\n",
        "X_test_array = sc.transform(X_test.values)\n",
        "X_test = pd.DataFrame(X_test_array, index=X_test.index, columns=X_test.columns)"
      ],
      "metadata": {
        "id": "PkLLPGo3K1t0"
      },
      "execution_count": 12,
      "outputs": []
    },
    {
      "cell_type": "markdown",
      "source": [
        "Estimación del módelo"
      ],
      "metadata": {
        "id": "galIEvNwUM4N"
      }
    },
    {
      "cell_type": "code",
      "source": [
        "from sklearn.svm import SVC\n",
        "from sklearn.metrics import roc_auc_score, accuracy_score, f1_score, log_loss\n",
        "mod1 = SVC()\n",
        "mod1.fit(X_train, y_train)"
      ],
      "metadata": {
        "colab": {
          "base_uri": "https://localhost:8080/"
        },
        "id": "DnnrixSgLFCm",
        "outputId": "b01300c9-34dc-4d14-f5d5-b99ff38e498c"
      },
      "execution_count": 27,
      "outputs": [
        {
          "output_type": "execute_result",
          "data": {
            "text/plain": [
              "SVC()"
            ]
          },
          "metadata": {},
          "execution_count": 27
        }
      ]
    },
    {
      "cell_type": "markdown",
      "source": [
        "Predicciones"
      ],
      "metadata": {
        "id": "Q45TnQMWQpi2"
      }
    },
    {
      "cell_type": "code",
      "source": [
        "svc_pred = mod1.predict(X_test)"
      ],
      "metadata": {
        "id": "86C62i4HQnXN"
      },
      "execution_count": 28,
      "outputs": []
    },
    {
      "cell_type": "markdown",
      "source": [
        "## **Métricas de evaluación**"
      ],
      "metadata": {
        "id": "9PDJI8-dP1pX"
      }
    },
    {
      "cell_type": "code",
      "source": [
        "print(\"F1 =\", f1_score(y_test, svc_pred))\n",
        "print(\"AUC =\", accuracy_score(y_test, svc_pred))\n",
        "print(\"AUC-ROC =\", roc_auc_score(y_test, svc_pred))\n",
        "print(\"log-loss =\", log_loss(y_test, svc_pred))"
      ],
      "metadata": {
        "colab": {
          "base_uri": "https://localhost:8080/"
        },
        "id": "6l0otMywP0Ph",
        "outputId": "4deba33a-8d86-457e-a789-d34fea99ed05"
      },
      "execution_count": 29,
      "outputs": [
        {
          "output_type": "stream",
          "name": "stdout",
          "text": [
            "F1 = 0.9959225280326197\n",
            "AUC = 0.9938461538461538\n",
            "AUC-ROC = 0.9906568877551021\n",
            "log-loss = 0.21254939165110592\n"
          ]
        }
      ]
    },
    {
      "cell_type": "markdown",
      "metadata": {
        "id": "auNsSHtsQwH1"
      },
      "source": [
        "# Ejercicio 2.3\n",
        "\n",
        "* Probar la SVM utilizando los diferentes kernels ('poly', 'rbf', 'sigmoid')\n",
        "* Evalúe con F1, AUC-ROC y log-loss\n"
      ]
    },
    {
      "cell_type": "markdown",
      "source": [
        "## **POLY**"
      ],
      "metadata": {
        "id": "cXNRqDjFWXMM"
      }
    },
    {
      "cell_type": "code",
      "metadata": {
        "collapsed": true,
        "id": "f6adIqmAQwH4",
        "colab": {
          "base_uri": "https://localhost:8080/"
        },
        "outputId": "fc8f9926-84a5-4adb-9724-9e5b6a1b5421"
      },
      "source": [
        "mod2 = SVC(kernel='poly')\n",
        "mod2.fit(X_train, y_train)"
      ],
      "execution_count": 30,
      "outputs": [
        {
          "output_type": "execute_result",
          "data": {
            "text/plain": [
              "SVC(kernel='poly')"
            ]
          },
          "metadata": {},
          "execution_count": 30
        }
      ]
    },
    {
      "cell_type": "markdown",
      "source": [
        "Predicciones "
      ],
      "metadata": {
        "id": "9pCAuiNUVnzt"
      }
    },
    {
      "cell_type": "code",
      "source": [
        "svc_pred2 = mod2.predict(X_test)"
      ],
      "metadata": {
        "id": "9GAItkKgVfE3"
      },
      "execution_count": 31,
      "outputs": []
    },
    {
      "cell_type": "markdown",
      "source": [
        "**Métricas de evaluación**"
      ],
      "metadata": {
        "id": "ozky_inkVvPP"
      }
    },
    {
      "cell_type": "code",
      "source": [
        "print(\"F1 =\", f1_score(y_test, svc_pred2))\n",
        "print(\"AUC =\", accuracy_score(y_test, svc_pred2))\n",
        "print(\"AUC-ROC =\", roc_auc_score(y_test, svc_pred2))\n",
        "print(\"log-loss =\", log_loss(y_test, svc_pred2))"
      ],
      "metadata": {
        "colab": {
          "base_uri": "https://localhost:8080/"
        },
        "id": "xgxEdAfvVuvP",
        "outputId": "5ebf08e0-8b93-4cca-b60b-7e7c57190322"
      },
      "execution_count": 32,
      "outputs": [
        {
          "output_type": "stream",
          "name": "stdout",
          "text": [
            "F1 = 0.9969450101832993\n",
            "AUC = 0.9953846153846154\n",
            "AUC-ROC = 0.9916772959183673\n",
            "log-loss = 0.15941281258201256\n"
          ]
        }
      ]
    },
    {
      "cell_type": "markdown",
      "source": [
        "## **RBF**"
      ],
      "metadata": {
        "id": "2hELODFyWaDv"
      }
    },
    {
      "cell_type": "code",
      "source": [
        "mod3 = SVC(kernel='rbf')\n",
        "mod3.fit(X_train, y_train)"
      ],
      "metadata": {
        "colab": {
          "base_uri": "https://localhost:8080/"
        },
        "id": "C3gZMBmXWbtr",
        "outputId": "5b2c32f1-d07b-43e1-b108-e7371f4f4d1f"
      },
      "execution_count": 33,
      "outputs": [
        {
          "output_type": "execute_result",
          "data": {
            "text/plain": [
              "SVC()"
            ]
          },
          "metadata": {},
          "execution_count": 33
        }
      ]
    },
    {
      "cell_type": "markdown",
      "source": [
        "Predicciones"
      ],
      "metadata": {
        "id": "mTHXWKByWnYp"
      }
    },
    {
      "cell_type": "code",
      "source": [
        "svc_pred3 = mod3.predict(X_test)"
      ],
      "metadata": {
        "id": "fYfuQnmmWmr5"
      },
      "execution_count": 34,
      "outputs": []
    },
    {
      "cell_type": "markdown",
      "source": [
        "**Métricas de evaluación**"
      ],
      "metadata": {
        "id": "yAZr3EEfWq50"
      }
    },
    {
      "cell_type": "code",
      "source": [
        "print(\"F1 =\", f1_score(y_test, svc_pred3))\n",
        "print(\"AUC =\", accuracy_score(y_test, svc_pred3))\n",
        "print(\"AUC-ROC =\", roc_auc_score(y_test, svc_pred3))\n",
        "print(\"log-loss =\", log_loss(y_test, svc_pred3))"
      ],
      "metadata": {
        "colab": {
          "base_uri": "https://localhost:8080/"
        },
        "id": "uKuzTbDrWvK0",
        "outputId": "819f4243-191e-4e94-ed23-d54bab5e4167"
      },
      "execution_count": 35,
      "outputs": [
        {
          "output_type": "stream",
          "name": "stdout",
          "text": [
            "F1 = 0.9959225280326197\n",
            "AUC = 0.9938461538461538\n",
            "AUC-ROC = 0.9906568877551021\n",
            "log-loss = 0.21254939165110592\n"
          ]
        }
      ]
    },
    {
      "cell_type": "markdown",
      "source": [
        "## **SIGMOID**"
      ],
      "metadata": {
        "id": "gbPxGQcgW8-V"
      }
    },
    {
      "cell_type": "code",
      "source": [
        "mod4 = SVC(kernel='sigmoid')\n",
        "mod4.fit(X_train, y_train)"
      ],
      "metadata": {
        "colab": {
          "base_uri": "https://localhost:8080/"
        },
        "id": "OquwnsNGW8NC",
        "outputId": "4068fe13-04aa-46d7-fd22-8805eb2a6c60"
      },
      "execution_count": 36,
      "outputs": [
        {
          "output_type": "execute_result",
          "data": {
            "text/plain": [
              "SVC(kernel='sigmoid')"
            ]
          },
          "metadata": {},
          "execution_count": 36
        }
      ]
    },
    {
      "cell_type": "markdown",
      "source": [
        "Predicciones"
      ],
      "metadata": {
        "id": "NusLoTofXB3q"
      }
    },
    {
      "cell_type": "code",
      "source": [
        "svc_pred4 = mod4.predict(X_test)"
      ],
      "metadata": {
        "id": "uoi0fd3uXD8h"
      },
      "execution_count": 37,
      "outputs": []
    },
    {
      "cell_type": "markdown",
      "source": [
        "**Métricas de evaluación**"
      ],
      "metadata": {
        "id": "eJIC78AxXK1J"
      }
    },
    {
      "cell_type": "code",
      "source": [
        "print(\"F1 =\", f1_score(y_test, svc_pred4))\n",
        "print(\"AUC =\", accuracy_score(y_test, svc_pred4))\n",
        "print(\"AUC-ROC =\", roc_auc_score(y_test, svc_pred4))\n",
        "print(\"log-loss =\", log_loss(y_test, svc_pred4))"
      ],
      "metadata": {
        "colab": {
          "base_uri": "https://localhost:8080/"
        },
        "id": "Iyi8xc5-XN7v",
        "outputId": "5abec37f-cde6-4a2a-a47a-a6e9033aa78c"
      },
      "execution_count": 38,
      "outputs": [
        {
          "output_type": "stream",
          "name": "stdout",
          "text": [
            "F1 = 0.9741248097412482\n",
            "AUC = 0.9607692307692308\n",
            "AUC-ROC = 0.9413584183673468\n",
            "log-loss = 1.3550018335852168\n"
          ]
        }
      ]
    },
    {
      "cell_type": "markdown",
      "metadata": {
        "id": "DHBmMhtYQwH6"
      },
      "source": [
        "# Ejercicio 2.4\n",
        "* Utilizando el mejor SVM del punto anterior encontrar los parámetros que da el mejor rendimiento teniendo en cuenta los siguientes hiperparámetros\n",
        "'C': [0.1, 1, 10, 100, 1000], 'gamma': [0.01, 0.001, 0.0001]\n",
        "* Evalúe cada modelo con F1, AUC-ROC y log-loss\n",
        "\n",
        "Nota: Para los valores de C y gamma, deben realizar todas las posibles combinaciones entre estas dos variables."
      ]
    },
    {
      "cell_type": "markdown",
      "source": [
        "## **Mejor SVM - Kernel Poly** \n",
        "\n",
        "El mejor SVM del punto anterior fue el Kernel \"poly\", obteniendo los siguientes resultados:"
      ],
      "metadata": {
        "id": "-Op4Ar-ZIiOm"
      }
    },
    {
      "cell_type": "code",
      "source": [
        "mod2 = SVC(kernel='poly')\n",
        "mod2.fit(X_train, y_train)"
      ],
      "metadata": {
        "colab": {
          "base_uri": "https://localhost:8080/"
        },
        "id": "5L1UvcMCIzjM",
        "outputId": "cc8bb4fa-3526-4c69-d6bf-71283d215245"
      },
      "execution_count": 43,
      "outputs": [
        {
          "output_type": "execute_result",
          "data": {
            "text/plain": [
              "SVC(kernel='poly')"
            ]
          },
          "metadata": {},
          "execution_count": 43
        }
      ]
    },
    {
      "cell_type": "code",
      "source": [
        "svc_pred2 = mod2.predict(X_test)"
      ],
      "metadata": {
        "id": "NJtR8LCyaOQr"
      },
      "execution_count": 44,
      "outputs": []
    },
    {
      "cell_type": "code",
      "source": [
        "print(\"F1 =\", f1_score(y_test, svc_pred2))\n",
        "print(\"AUC =\", accuracy_score(y_test, svc_pred2))\n",
        "print(\"AUC-ROC =\", roc_auc_score(y_test, svc_pred2))\n",
        "print(\"log-loss =\", log_loss(y_test, svc_pred2))"
      ],
      "metadata": {
        "colab": {
          "base_uri": "https://localhost:8080/"
        },
        "id": "1N9oI_itaQ7k",
        "outputId": "cad612a2-e780-4762-82c0-da24e44bc720"
      },
      "execution_count": 45,
      "outputs": [
        {
          "output_type": "stream",
          "name": "stdout",
          "text": [
            "F1 = 0.9969450101832993\n",
            "AUC = 0.9953846153846154\n",
            "AUC-ROC = 0.9916772959183673\n",
            "log-loss = 0.15941281258201256\n"
          ]
        }
      ]
    },
    {
      "cell_type": "markdown",
      "source": [
        "## **\"C\" = 0.1 y \"gamma\" = 0.01**"
      ],
      "metadata": {
        "id": "rgl-Owbpc8ZN"
      }
    },
    {
      "cell_type": "code",
      "metadata": {
        "collapsed": true,
        "id": "3d6wqybPQwH8",
        "colab": {
          "base_uri": "https://localhost:8080/"
        },
        "outputId": "172763d3-a711-4c96-b68e-07ade83c0e45"
      },
      "source": [
        "mod5 = SVC(kernel='poly', C=0.1, gamma=0.01)\n",
        "mod5.fit(X_train, y_train)"
      ],
      "execution_count": null,
      "outputs": [
        {
          "output_type": "execute_result",
          "data": {
            "text/plain": [
              "SVC(C=0.1, gamma=0.01, kernel='poly')"
            ]
          },
          "metadata": {},
          "execution_count": 23
        }
      ]
    },
    {
      "cell_type": "markdown",
      "source": [
        "Predicciones"
      ],
      "metadata": {
        "id": "BIdtfwHGdJUH"
      }
    },
    {
      "cell_type": "code",
      "source": [
        "svc_pred5 = mod5.predict(X_test)"
      ],
      "metadata": {
        "id": "4vzWYOJ_cuEm"
      },
      "execution_count": null,
      "outputs": []
    },
    {
      "cell_type": "markdown",
      "source": [
        "Métricas de evaluación"
      ],
      "metadata": {
        "id": "yaNHU3wKdKgP"
      }
    },
    {
      "cell_type": "code",
      "source": [
        "print(\"F1 =\", f1_score(y_test, svc_pred5))\n",
        "print(\"AUC =\", accuracy_score(y_test, svc_pred5))\n",
        "print(\"AUC-ROC =\", roc_auc_score(y_test, svc_pred5))\n",
        "print(\"log-loss =\", log_loss(y_test, svc_pred5))"
      ],
      "metadata": {
        "colab": {
          "base_uri": "https://localhost:8080/"
        },
        "id": "2n6HOWiLcz_j",
        "outputId": "eb317ee9-fa7b-47f3-d7ed-ea467dbf96e8"
      },
      "execution_count": null,
      "outputs": [
        {
          "output_type": "stream",
          "name": "stdout",
          "text": [
            "F1 = 0.8607817303469477\n",
            "AUC = 0.7561538461538462\n",
            "AUC-ROC = 0.5046875\n",
            "log-loss = 8.422342761209276\n"
          ]
        }
      ]
    },
    {
      "cell_type": "markdown",
      "source": [
        "## **\"C\" = 0.1 y \"gamma\" = 0.001**"
      ],
      "metadata": {
        "id": "ZKIyLsCKdO1P"
      }
    },
    {
      "cell_type": "code",
      "source": [
        "mod6 = SVC(kernel='poly', C=0.1, gamma=0.001)\n",
        "mod6.fit(X_train, y_train)"
      ],
      "metadata": {
        "colab": {
          "base_uri": "https://localhost:8080/"
        },
        "id": "B9tlFRdjdkn1",
        "outputId": "a2d11a8a-6c69-4dd2-c178-644fc790d01f"
      },
      "execution_count": null,
      "outputs": [
        {
          "output_type": "execute_result",
          "data": {
            "text/plain": [
              "SVC(C=0.1, gamma=0.001, kernel='poly')"
            ]
          },
          "metadata": {},
          "execution_count": 134
        }
      ]
    },
    {
      "cell_type": "markdown",
      "source": [
        "Predicciones"
      ],
      "metadata": {
        "id": "b_uGqty4doX4"
      }
    },
    {
      "cell_type": "code",
      "source": [
        "svc_pred6 = mod6.predict(X_test)"
      ],
      "metadata": {
        "id": "2I_yRoUcdpjJ"
      },
      "execution_count": null,
      "outputs": []
    },
    {
      "cell_type": "markdown",
      "source": [
        "Métricas de evaluación"
      ],
      "metadata": {
        "id": "qJRp6oEjdt-i"
      }
    },
    {
      "cell_type": "code",
      "source": [
        "print(\"F1 =\", f1_score(y_test, svc_pred6))\n",
        "print(\"AUC =\", accuracy_score(y_test, svc_pred6))\n",
        "print(\"AUC-ROC =\", roc_auc_score(y_test, svc_pred6))\n",
        "print(\"log-loss =\", log_loss(y_test, svc_pred6))"
      ],
      "metadata": {
        "colab": {
          "base_uri": "https://localhost:8080/"
        },
        "id": "tdXZz0Qsdv2z",
        "outputId": "b08cbd37-5ce8-4183-f627-41d6fba87661"
      },
      "execution_count": null,
      "outputs": [
        {
          "output_type": "stream",
          "name": "stdout",
          "text": [
            "F1 = 0.8596491228070176\n",
            "AUC = 0.7538461538461538\n",
            "AUC-ROC = 0.5\n",
            "log-loss = 8.502049475037756\n"
          ]
        }
      ]
    },
    {
      "cell_type": "markdown",
      "source": [
        "## **\"C\" = 0.1 y \"gamma\" = 0.0001**"
      ],
      "metadata": {
        "id": "M6Lkuz3ud3wg"
      }
    },
    {
      "cell_type": "code",
      "source": [
        "mod7 = SVC(kernel='poly', C=0.1, gamma=0.0001)\n",
        "mod7.fit(X_train, y_train)"
      ],
      "metadata": {
        "colab": {
          "base_uri": "https://localhost:8080/"
        },
        "id": "kSdU6957eCxI",
        "outputId": "52c603c5-e33b-4a68-f44c-ab03b86950e4"
      },
      "execution_count": null,
      "outputs": [
        {
          "output_type": "execute_result",
          "data": {
            "text/plain": [
              "SVC(C=0.1, gamma=0.0001, kernel='poly')"
            ]
          },
          "metadata": {},
          "execution_count": 137
        }
      ]
    },
    {
      "cell_type": "markdown",
      "source": [
        "Predicciones"
      ],
      "metadata": {
        "id": "FUQ7UV1peICM"
      }
    },
    {
      "cell_type": "code",
      "source": [
        "svc_pred7 = mod7.predict(X_test)"
      ],
      "metadata": {
        "id": "A7If98yyeJk1"
      },
      "execution_count": null,
      "outputs": []
    },
    {
      "cell_type": "markdown",
      "source": [
        "Métricas de evaluación"
      ],
      "metadata": {
        "id": "yLsxldzOeNy_"
      }
    },
    {
      "cell_type": "code",
      "source": [
        "print(\"F1 =\", f1_score(y_test, svc_pred7))\n",
        "print(\"AUC =\", accuracy_score(y_test, svc_pred7))\n",
        "print(\"AUC-ROC =\", roc_auc_score(y_test, svc_pred7))\n",
        "print(\"log-loss =\", log_loss(y_test, svc_pred7))"
      ],
      "metadata": {
        "colab": {
          "base_uri": "https://localhost:8080/"
        },
        "id": "z55H2vwBeRCi",
        "outputId": "f4692e5e-1f55-42ff-e37a-9716e957d279"
      },
      "execution_count": null,
      "outputs": [
        {
          "output_type": "stream",
          "name": "stdout",
          "text": [
            "F1 = 0.8596491228070176\n",
            "AUC = 0.7538461538461538\n",
            "AUC-ROC = 0.5\n",
            "log-loss = 8.502049475037756\n"
          ]
        }
      ]
    },
    {
      "cell_type": "markdown",
      "source": [
        "## **\"C\" = 1 y \"gamma\" = 0.01**"
      ],
      "metadata": {
        "id": "-gLYz_LQempe"
      }
    },
    {
      "cell_type": "code",
      "source": [
        "mod8 = SVC(kernel='poly', C=1, gamma=0.01)\n",
        "mod8.fit(X_train, y_train)"
      ],
      "metadata": {
        "colab": {
          "base_uri": "https://localhost:8080/"
        },
        "id": "dMgqRcuAexH5",
        "outputId": "46a3c64b-4b46-4e63-f82b-7d4bc9660e77"
      },
      "execution_count": null,
      "outputs": [
        {
          "output_type": "execute_result",
          "data": {
            "text/plain": [
              "SVC(C=1, gamma=0.01, kernel='poly')"
            ]
          },
          "metadata": {},
          "execution_count": 140
        }
      ]
    },
    {
      "cell_type": "markdown",
      "source": [
        "Predicciones "
      ],
      "metadata": {
        "id": "PzN169H1e5f6"
      }
    },
    {
      "cell_type": "code",
      "source": [
        "svc_pred8 = mod8.predict(X_test)"
      ],
      "metadata": {
        "id": "LLYOcFtee4UR"
      },
      "execution_count": null,
      "outputs": []
    },
    {
      "cell_type": "markdown",
      "source": [
        "Métricas de evaluación"
      ],
      "metadata": {
        "id": "XaS9BLSVe-VY"
      }
    },
    {
      "cell_type": "code",
      "source": [
        "print(\"F1 =\", f1_score(y_test, svc_pred8))\n",
        "print(\"AUC =\", accuracy_score(y_test, svc_pred8))\n",
        "print(\"AUC-ROC =\", roc_auc_score(y_test, svc_pred8))\n",
        "print(\"log-loss =\", log_loss(y_test, svc_pred8))"
      ],
      "metadata": {
        "colab": {
          "base_uri": "https://localhost:8080/"
        },
        "id": "t_fhRIZgfDMT",
        "outputId": "e32932da-1672-40bc-f68d-82d1daee29cb"
      },
      "execution_count": null,
      "outputs": [
        {
          "output_type": "stream",
          "name": "stdout",
          "text": [
            "F1 = 0.9074074074074074\n",
            "AUC = 0.8461538461538461\n",
            "AUC-ROC = 0.6875\n",
            "log-loss = 5.313780921898598\n"
          ]
        }
      ]
    },
    {
      "cell_type": "markdown",
      "source": [
        "## **\"C\" = 1 y \"gamma\" = 0.001**"
      ],
      "metadata": {
        "id": "DHQp-1oefKFB"
      }
    },
    {
      "cell_type": "code",
      "source": [
        "mod9 = SVC(kernel='poly', C=1, gamma=0.001)\n",
        "mod9.fit(X_train, y_train)"
      ],
      "metadata": {
        "colab": {
          "base_uri": "https://localhost:8080/"
        },
        "id": "pdCJg15nfWJP",
        "outputId": "d23e4973-60db-49bc-9be9-1fae5b43dc81"
      },
      "execution_count": null,
      "outputs": [
        {
          "output_type": "execute_result",
          "data": {
            "text/plain": [
              "SVC(C=1, gamma=0.001, kernel='poly')"
            ]
          },
          "metadata": {},
          "execution_count": 143
        }
      ]
    },
    {
      "cell_type": "markdown",
      "source": [
        "Predicciones"
      ],
      "metadata": {
        "id": "iXRolLVwffVC"
      }
    },
    {
      "cell_type": "code",
      "source": [
        "svc_pred9 = mod9.predict(X_test)"
      ],
      "metadata": {
        "id": "F0s5OFF9fa4F"
      },
      "execution_count": null,
      "outputs": []
    },
    {
      "cell_type": "markdown",
      "source": [
        "Métricas de evaluación"
      ],
      "metadata": {
        "id": "48mIlaaOfc9B"
      }
    },
    {
      "cell_type": "code",
      "source": [
        "print(\"F1 =\", f1_score(y_test, svc_pred9))\n",
        "print(\"AUC =\", accuracy_score(y_test, svc_pred9))\n",
        "print(\"AUC-ROC =\", roc_auc_score(y_test, svc_pred9))\n",
        "print(\"log-loss =\", log_loss(y_test, svc_pred9))"
      ],
      "metadata": {
        "colab": {
          "base_uri": "https://localhost:8080/"
        },
        "id": "HpnhWHQxflRe",
        "outputId": "f0e3eba1-ac6f-4afb-cc3c-39958dd68363"
      },
      "execution_count": null,
      "outputs": [
        {
          "output_type": "stream",
          "name": "stdout",
          "text": [
            "F1 = 0.8596491228070176\n",
            "AUC = 0.7538461538461538\n",
            "AUC-ROC = 0.5\n",
            "log-loss = 8.502049475037756\n"
          ]
        }
      ]
    },
    {
      "cell_type": "markdown",
      "source": [
        "## **\"C\" = 1 y \"gamma\" = 0.0001**"
      ],
      "metadata": {
        "id": "PelovvO0foQL"
      }
    },
    {
      "cell_type": "code",
      "source": [
        "mod10 = SVC(kernel='poly', C=1, gamma=0.0001)\n",
        "mod10.fit(X_train, y_train)"
      ],
      "metadata": {
        "colab": {
          "base_uri": "https://localhost:8080/"
        },
        "id": "A3HoeIRmfy3k",
        "outputId": "27f31898-b554-477a-8753-9b3694a61458"
      },
      "execution_count": null,
      "outputs": [
        {
          "output_type": "execute_result",
          "data": {
            "text/plain": [
              "SVC(C=1, gamma=0.0001, kernel='poly')"
            ]
          },
          "metadata": {},
          "execution_count": 146
        }
      ]
    },
    {
      "cell_type": "markdown",
      "source": [
        "Predicciones"
      ],
      "metadata": {
        "id": "KbjGpt49f4dn"
      }
    },
    {
      "cell_type": "code",
      "source": [
        "svc_pred10 = mod10.predict(X_test)"
      ],
      "metadata": {
        "id": "4WwOrI2If6GT"
      },
      "execution_count": null,
      "outputs": []
    },
    {
      "cell_type": "markdown",
      "source": [
        "Métricas de evaluación"
      ],
      "metadata": {
        "id": "O6imSkxBf-fw"
      }
    },
    {
      "cell_type": "code",
      "source": [
        "print(\"F1 =\", f1_score(y_test, svc_pred10))\n",
        "print(\"AUC =\", accuracy_score(y_test, svc_pred10))\n",
        "print(\"AUC-ROC =\", roc_auc_score(y_test, svc_pred10))\n",
        "print(\"log-loss =\", log_loss(y_test, svc_pred10))"
      ],
      "metadata": {
        "colab": {
          "base_uri": "https://localhost:8080/"
        },
        "id": "hXZitYTZgAe2",
        "outputId": "f70c64fd-4934-4a3c-dec2-8318aa1a7c40"
      },
      "execution_count": null,
      "outputs": [
        {
          "output_type": "stream",
          "name": "stdout",
          "text": [
            "F1 = 0.8596491228070176\n",
            "AUC = 0.7538461538461538\n",
            "AUC-ROC = 0.5\n",
            "log-loss = 8.502049475037756\n"
          ]
        }
      ]
    },
    {
      "cell_type": "markdown",
      "source": [
        "## **\"C\" = 10 y \"gamma\" = 0.01**"
      ],
      "metadata": {
        "id": "36hIxmBygKtG"
      }
    },
    {
      "cell_type": "code",
      "source": [
        "mod11 = SVC(kernel='poly', C=10, gamma=0.01)\n",
        "mod11.fit(X_train, y_train)"
      ],
      "metadata": {
        "colab": {
          "base_uri": "https://localhost:8080/"
        },
        "id": "ZIclhyWBgUry",
        "outputId": "d7a23649-36fb-48cb-d7bc-128459155592"
      },
      "execution_count": null,
      "outputs": [
        {
          "output_type": "execute_result",
          "data": {
            "text/plain": [
              "SVC(C=10, gamma=0.01, kernel='poly')"
            ]
          },
          "metadata": {},
          "execution_count": 149
        }
      ]
    },
    {
      "cell_type": "markdown",
      "source": [
        "Predicciones"
      ],
      "metadata": {
        "id": "4wDutWCDgeDK"
      }
    },
    {
      "cell_type": "code",
      "source": [
        "svc_pred11 = mod11.predict(X_test)"
      ],
      "metadata": {
        "id": "TqSUF8_xgcCK"
      },
      "execution_count": null,
      "outputs": []
    },
    {
      "cell_type": "markdown",
      "source": [
        "Métricas de evaluación"
      ],
      "metadata": {
        "id": "Yca635WKggBH"
      }
    },
    {
      "cell_type": "code",
      "source": [
        "print(\"F1 =\", f1_score(y_test, svc_pred11))\n",
        "print(\"AUC =\", accuracy_score(y_test, svc_pred11))\n",
        "print(\"AUC-ROC =\", roc_auc_score(y_test, svc_pred11))\n",
        "print(\"log-loss =\", log_loss(y_test, svc_pred11))"
      ],
      "metadata": {
        "colab": {
          "base_uri": "https://localhost:8080/"
        },
        "id": "M9QzE3n7giQN",
        "outputId": "cefa0470-a685-442d-91b6-c068f10e8888"
      },
      "execution_count": null,
      "outputs": [
        {
          "output_type": "stream",
          "name": "stdout",
          "text": [
            "F1 = 0.9669135802469135\n",
            "AUC = 0.9484615384615385\n",
            "AUC-ROC = 0.8963647959183673\n",
            "log-loss = 1.7801159937610842\n"
          ]
        }
      ]
    },
    {
      "cell_type": "markdown",
      "source": [
        "## **\"C\" = 10 y \"gamma\" = 0.001**"
      ],
      "metadata": {
        "id": "GUC0m2bmgoOF"
      }
    },
    {
      "cell_type": "code",
      "source": [
        "mod12 = SVC(kernel='poly', C=10, gamma=0.001)\n",
        "mod12.fit(X_train, y_train)"
      ],
      "metadata": {
        "colab": {
          "base_uri": "https://localhost:8080/"
        },
        "id": "jwNG-sJagztd",
        "outputId": "b990fa70-17ef-4f80-d12b-a6f7aef11cd2"
      },
      "execution_count": null,
      "outputs": [
        {
          "output_type": "execute_result",
          "data": {
            "text/plain": [
              "SVC(C=10, gamma=0.001, kernel='poly')"
            ]
          },
          "metadata": {},
          "execution_count": 152
        }
      ]
    },
    {
      "cell_type": "markdown",
      "source": [
        "Predicciones"
      ],
      "metadata": {
        "id": "03not29XgzUr"
      }
    },
    {
      "cell_type": "code",
      "source": [
        "svc_pred12 = mod12.predict(X_test)"
      ],
      "metadata": {
        "id": "1kb52Kczg0td"
      },
      "execution_count": null,
      "outputs": []
    },
    {
      "cell_type": "markdown",
      "source": [
        "Métricas de evaluación"
      ],
      "metadata": {
        "id": "CDd-L_09g1KL"
      }
    },
    {
      "cell_type": "code",
      "source": [
        "print(\"F1 =\", f1_score(y_test, svc_pred12))\n",
        "print(\"AUC =\", accuracy_score(y_test, svc_pred12))\n",
        "print(\"AUC-ROC =\", roc_auc_score(y_test, svc_pred12))\n",
        "print(\"log-loss =\", log_loss(y_test, svc_pred12))"
      ],
      "metadata": {
        "colab": {
          "base_uri": "https://localhost:8080/"
        },
        "id": "g2HwS0gohGLY",
        "outputId": "ed53995e-8dfc-4297-b7ef-49637c73a078"
      },
      "execution_count": null,
      "outputs": [
        {
          "output_type": "stream",
          "name": "stdout",
          "text": [
            "F1 = 0.8596491228070176\n",
            "AUC = 0.7538461538461538\n",
            "AUC-ROC = 0.5\n",
            "log-loss = 8.502049475037756\n"
          ]
        }
      ]
    },
    {
      "cell_type": "markdown",
      "source": [
        "## **\"C\" = 10 y \"gamma\" = 0.0001**"
      ],
      "metadata": {
        "id": "tvNeXkP1hLPC"
      }
    },
    {
      "cell_type": "code",
      "source": [
        "mod13 = SVC(kernel='poly', C=10, gamma=0.0001)\n",
        "mod13.fit(X_train, y_train)"
      ],
      "metadata": {
        "colab": {
          "base_uri": "https://localhost:8080/"
        },
        "id": "HAjGu65KhU8o",
        "outputId": "e6094fee-68e9-4af0-ea06-3b87857b3dd7"
      },
      "execution_count": null,
      "outputs": [
        {
          "output_type": "execute_result",
          "data": {
            "text/plain": [
              "SVC(C=10, gamma=0.0001, kernel='poly')"
            ]
          },
          "metadata": {},
          "execution_count": 155
        }
      ]
    },
    {
      "cell_type": "markdown",
      "source": [
        "Predicciones"
      ],
      "metadata": {
        "id": "oHw3Kfh6hVfS"
      }
    },
    {
      "cell_type": "code",
      "source": [
        "svc_pred13 = mod13.predict(X_test)"
      ],
      "metadata": {
        "id": "yo897IPHhV0d"
      },
      "execution_count": null,
      "outputs": []
    },
    {
      "cell_type": "markdown",
      "source": [
        "Métricas de evaluación"
      ],
      "metadata": {
        "id": "uxcFku_vhWS5"
      }
    },
    {
      "cell_type": "code",
      "source": [
        "print(\"F1 =\", f1_score(y_test, svc_pred13))\n",
        "print(\"AUC =\", accuracy_score(y_test, svc_pred13))\n",
        "print(\"AUC-ROC =\", roc_auc_score(y_test, svc_pred13))\n",
        "print(\"log-loss =\", log_loss(y_test, svc_pred13))"
      ],
      "metadata": {
        "colab": {
          "base_uri": "https://localhost:8080/"
        },
        "id": "6U60F29HhW3x",
        "outputId": "9e43e6d1-bcfa-457f-a32f-13e906b53851"
      },
      "execution_count": null,
      "outputs": [
        {
          "output_type": "stream",
          "name": "stdout",
          "text": [
            "F1 = 0.8596491228070176\n",
            "AUC = 0.7538461538461538\n",
            "AUC-ROC = 0.5\n",
            "log-loss = 8.502049475037756\n"
          ]
        }
      ]
    },
    {
      "cell_type": "markdown",
      "source": [
        "## **\"C\" = 100 y \"gamma\" = 0.01** "
      ],
      "metadata": {
        "id": "p3K2n7eohx5a"
      }
    },
    {
      "cell_type": "code",
      "source": [
        "mod14 = SVC(kernel='poly', C=100, gamma=0.01)\n",
        "mod14.fit(X_train, y_train)"
      ],
      "metadata": {
        "colab": {
          "base_uri": "https://localhost:8080/"
        },
        "id": "VcE_pZ6Sh9iN",
        "outputId": "4f42e104-0304-4d67-fed2-556eb4e920db"
      },
      "execution_count": null,
      "outputs": [
        {
          "output_type": "execute_result",
          "data": {
            "text/plain": [
              "SVC(C=100, gamma=0.01, kernel='poly')"
            ]
          },
          "metadata": {},
          "execution_count": 158
        }
      ]
    },
    {
      "cell_type": "markdown",
      "source": [
        "Predicciones"
      ],
      "metadata": {
        "id": "vlUvhQvOiGL3"
      }
    },
    {
      "cell_type": "code",
      "source": [
        "svc_pred14 = mod14.predict(X_test)"
      ],
      "metadata": {
        "id": "DnQ4etlziEe4"
      },
      "execution_count": null,
      "outputs": []
    },
    {
      "cell_type": "markdown",
      "source": [
        "Métricas de evalaución"
      ],
      "metadata": {
        "id": "SwCYHG6fiLa8"
      }
    },
    {
      "cell_type": "code",
      "source": [
        "print(\"F1 =\", f1_score(y_test, svc_pred14))\n",
        "print(\"AUC =\", accuracy_score(y_test, svc_pred14))\n",
        "print(\"AUC-ROC =\", roc_auc_score(y_test, svc_pred14))\n",
        "print(\"log-loss =\", log_loss(y_test, svc_pred14))"
      ],
      "metadata": {
        "colab": {
          "base_uri": "https://localhost:8080/"
        },
        "id": "mm2tIkrbiN2d",
        "outputId": "643157d5-6b74-4e47-aeb2-173e47768936"
      },
      "execution_count": null,
      "outputs": [
        {
          "output_type": "stream",
          "name": "stdout",
          "text": [
            "F1 = 0.9913924050632912\n",
            "AUC = 0.9869230769230769\n",
            "AUC-ROC = 0.9744897959183672\n",
            "log-loss = 0.45167076328643535\n"
          ]
        }
      ]
    },
    {
      "cell_type": "markdown",
      "source": [
        "## **\"C\" = 100 y \"gamma\" =0.001** "
      ],
      "metadata": {
        "id": "iJXu8FVoiSYc"
      }
    },
    {
      "cell_type": "code",
      "source": [
        "mod15 = SVC(kernel='poly', C=100, gamma=0.001)\n",
        "mod15.fit(X_train, y_train)"
      ],
      "metadata": {
        "colab": {
          "base_uri": "https://localhost:8080/"
        },
        "id": "Vfr-yiXXie6d",
        "outputId": "6d4cff2b-70cc-44aa-f183-8cfdd6cf3a12"
      },
      "execution_count": null,
      "outputs": [
        {
          "output_type": "execute_result",
          "data": {
            "text/plain": [
              "SVC(C=100, gamma=0.001, kernel='poly')"
            ]
          },
          "metadata": {},
          "execution_count": 161
        }
      ]
    },
    {
      "cell_type": "markdown",
      "source": [
        "Predicciones "
      ],
      "metadata": {
        "id": "oZYMiCwLimP4"
      }
    },
    {
      "cell_type": "code",
      "source": [
        "svc_pred15 = mod15.predict(X_test)"
      ],
      "metadata": {
        "id": "FaF-778-ioI0"
      },
      "execution_count": null,
      "outputs": []
    },
    {
      "cell_type": "markdown",
      "source": [
        "Métricas de evaluación"
      ],
      "metadata": {
        "id": "-oS_3sbcirxU"
      }
    },
    {
      "cell_type": "code",
      "source": [
        "print(\"F1 =\", f1_score(y_test, svc_pred15))\n",
        "print(\"AUC =\", accuracy_score(y_test, svc_pred15))\n",
        "print(\"AUC-ROC =\", roc_auc_score(y_test, svc_pred15))\n",
        "print(\"log-loss =\", log_loss(y_test, svc_pred15))"
      ],
      "metadata": {
        "colab": {
          "base_uri": "https://localhost:8080/"
        },
        "id": "vhgbET2ziuYK",
        "outputId": "982a1c4a-92d0-4ee3-946f-186b8d36370a"
      },
      "execution_count": null,
      "outputs": [
        {
          "output_type": "stream",
          "name": "stdout",
          "text": [
            "F1 = 0.8607817303469477\n",
            "AUC = 0.7561538461538462\n",
            "AUC-ROC = 0.5046875\n",
            "log-loss = 8.422342761209276\n"
          ]
        }
      ]
    },
    {
      "cell_type": "markdown",
      "source": [
        "## **\"C\" = 100 y \"gamma\" = 0.0001**"
      ],
      "metadata": {
        "id": "IdU-16nwjanO"
      }
    },
    {
      "cell_type": "code",
      "source": [
        "mod16 = SVC(kernel='poly', C=100, gamma=0.0001)\n",
        "mod16.fit(X_train, y_train)"
      ],
      "metadata": {
        "colab": {
          "base_uri": "https://localhost:8080/"
        },
        "id": "mB09bFxojaV1",
        "outputId": "b364c52a-e247-4de7-f850-81b9e5720011"
      },
      "execution_count": null,
      "outputs": [
        {
          "output_type": "execute_result",
          "data": {
            "text/plain": [
              "SVC(C=100, gamma=0.0001, kernel='poly')"
            ]
          },
          "metadata": {},
          "execution_count": 164
        }
      ]
    },
    {
      "cell_type": "markdown",
      "source": [
        "Predicciones"
      ],
      "metadata": {
        "id": "qdlOKJ9Ujs4M"
      }
    },
    {
      "cell_type": "code",
      "source": [
        "svc_pred16 = mod16.predict(X_test)"
      ],
      "metadata": {
        "id": "wujXAYH1juO-"
      },
      "execution_count": null,
      "outputs": []
    },
    {
      "cell_type": "markdown",
      "source": [
        "Métricas de evaluación"
      ],
      "metadata": {
        "id": "4VJR8ScPjzne"
      }
    },
    {
      "cell_type": "code",
      "source": [
        "print(\"F1 =\", f1_score(y_test, svc_pred16))\n",
        "print(\"AUC =\", accuracy_score(y_test, svc_pred16))\n",
        "print(\"AUC-ROC =\", roc_auc_score(y_test, svc_pred16))\n",
        "print(\"log-loss =\", log_loss(y_test, svc_pred16))"
      ],
      "metadata": {
        "colab": {
          "base_uri": "https://localhost:8080/"
        },
        "id": "fErhY7yJj1dw",
        "outputId": "7aaf90d0-df61-4459-ed3e-79543287d83e"
      },
      "execution_count": null,
      "outputs": [
        {
          "output_type": "stream",
          "name": "stdout",
          "text": [
            "F1 = 0.8596491228070176\n",
            "AUC = 0.7538461538461538\n",
            "AUC-ROC = 0.5\n",
            "log-loss = 8.502049475037756\n"
          ]
        }
      ]
    },
    {
      "cell_type": "markdown",
      "source": [
        "## **\"C\" = 1000 y \"gamma\" = 0.01**"
      ],
      "metadata": {
        "id": "2lniuPNxj7Ko"
      }
    },
    {
      "cell_type": "code",
      "source": [
        "mod17 = SVC(kernel='poly', C=1000, gamma=0.01)\n",
        "mod17.fit(X_train, y_train)"
      ],
      "metadata": {
        "colab": {
          "base_uri": "https://localhost:8080/"
        },
        "id": "JSOSa4x8kBCZ",
        "outputId": "6335c0aa-e4e8-48c1-9e53-1a3345828e38"
      },
      "execution_count": null,
      "outputs": [
        {
          "output_type": "execute_result",
          "data": {
            "text/plain": [
              "SVC(C=1000, gamma=0.01, kernel='poly')"
            ]
          },
          "metadata": {},
          "execution_count": 169
        }
      ]
    },
    {
      "cell_type": "markdown",
      "source": [
        "Predicciones"
      ],
      "metadata": {
        "id": "nSoT5TNkkIHP"
      }
    },
    {
      "cell_type": "code",
      "source": [
        "svc_pred17 = mod17.predict(X_test)"
      ],
      "metadata": {
        "id": "YiKemP_vkT2p"
      },
      "execution_count": null,
      "outputs": []
    },
    {
      "cell_type": "markdown",
      "source": [
        "Métricas de evaluación"
      ],
      "metadata": {
        "id": "WFW0uVerkWHT"
      }
    },
    {
      "cell_type": "code",
      "source": [
        "print(\"F1 =\", f1_score(y_test, svc_pred17))\n",
        "print(\"AUC =\", accuracy_score(y_test, svc_pred17))\n",
        "print(\"AUC-ROC =\", roc_auc_score(y_test, svc_pred17))\n",
        "print(\"log-loss =\", log_loss(y_test, svc_pred17))"
      ],
      "metadata": {
        "colab": {
          "base_uri": "https://localhost:8080/"
        },
        "id": "LDVQ3wapkYT8",
        "outputId": "877669cd-90fd-463a-c2ea-8361c6f71591"
      },
      "execution_count": null,
      "outputs": [
        {
          "output_type": "stream",
          "name": "stdout",
          "text": [
            "F1 = 0.9964340295466124\n",
            "AUC = 0.9946153846153846\n",
            "AUC-ROC = 0.9911670918367347\n",
            "log-loss = 0.18598110211655922\n"
          ]
        }
      ]
    },
    {
      "cell_type": "markdown",
      "source": [
        "## **\"C\" = 1000 y \"gamma\" = 0.001**"
      ],
      "metadata": {
        "id": "wHK1pg1UkeTW"
      }
    },
    {
      "cell_type": "code",
      "source": [
        "mod18 = SVC(kernel='poly', C=1000, gamma=0.001)\n",
        "mod18.fit(X_train, y_train)"
      ],
      "metadata": {
        "colab": {
          "base_uri": "https://localhost:8080/"
        },
        "id": "ky5QHlxukdZO",
        "outputId": "1e75ee67-5b60-4b39-8b2c-3be83cf290ed"
      },
      "execution_count": null,
      "outputs": [
        {
          "output_type": "execute_result",
          "data": {
            "text/plain": [
              "SVC(C=1000, gamma=0.001, kernel='poly')"
            ]
          },
          "metadata": {},
          "execution_count": 174
        }
      ]
    },
    {
      "cell_type": "markdown",
      "source": [
        "Predicciones"
      ],
      "metadata": {
        "id": "Ukx9ZWw3kw-p"
      }
    },
    {
      "cell_type": "code",
      "source": [
        "svc_pred18 = mod18.predict(X_test)"
      ],
      "metadata": {
        "id": "tOnQitBOkza9"
      },
      "execution_count": null,
      "outputs": []
    },
    {
      "cell_type": "markdown",
      "source": [
        "Métricas de evalaución"
      ],
      "metadata": {
        "id": "5wyoiqrsk1N8"
      }
    },
    {
      "cell_type": "code",
      "source": [
        "print(\"F1 =\", f1_score(y_test, svc_pred18))\n",
        "print(\"AUC =\", accuracy_score(y_test, svc_pred18))\n",
        "print(\"AUC-ROC =\", roc_auc_score(y_test, svc_pred18))\n",
        "print(\"log-loss =\", log_loss(y_test, svc_pred18))"
      ],
      "metadata": {
        "colab": {
          "base_uri": "https://localhost:8080/"
        },
        "id": "07PYuZUZk3Sz",
        "outputId": "342c07ba-0c4f-446a-e24f-af7dac19f398"
      },
      "execution_count": null,
      "outputs": [
        {
          "output_type": "stream",
          "name": "stdout",
          "text": [
            "F1 = 0.9074074074074074\n",
            "AUC = 0.8461538461538461\n",
            "AUC-ROC = 0.6875\n",
            "log-loss = 5.313780921898598\n"
          ]
        }
      ]
    },
    {
      "cell_type": "markdown",
      "source": [
        "##  **\"C\" = 1000 y \"gamma\" = 0.0001** "
      ],
      "metadata": {
        "id": "dv9yjlzok-Vr"
      }
    },
    {
      "cell_type": "code",
      "source": [
        "mod19 = SVC(kernel='poly', C=1000, gamma=0.0001)\n",
        "mod19.fit(X_train, y_train)"
      ],
      "metadata": {
        "colab": {
          "base_uri": "https://localhost:8080/"
        },
        "id": "_DlVB-Q9k9yl",
        "outputId": "f74f6b63-ce12-4644-c661-683e1bb64c51"
      },
      "execution_count": null,
      "outputs": [
        {
          "output_type": "execute_result",
          "data": {
            "text/plain": [
              "SVC(C=1000, gamma=0.0001, kernel='poly')"
            ]
          },
          "metadata": {},
          "execution_count": 177
        }
      ]
    },
    {
      "cell_type": "markdown",
      "source": [
        "Predicciones"
      ],
      "metadata": {
        "id": "ewqrLAsVlKan"
      }
    },
    {
      "cell_type": "code",
      "source": [
        "svc_pred19 = mod19.predict(X_test)"
      ],
      "metadata": {
        "id": "oq2_FWFdlL2J"
      },
      "execution_count": null,
      "outputs": []
    },
    {
      "cell_type": "markdown",
      "source": [
        "Métricas de evaluación"
      ],
      "metadata": {
        "id": "UUmusb6WlQPB"
      }
    },
    {
      "cell_type": "code",
      "source": [
        "print(\"F1 =\", f1_score(y_test, svc_pred19))\n",
        "print(\"AUC =\", accuracy_score(y_test, svc_pred19))\n",
        "print(\"AUC-ROC =\", roc_auc_score(y_test, svc_pred19))\n",
        "print(\"log-loss =\", log_loss(y_test, svc_pred19))"
      ],
      "metadata": {
        "id": "v47x1aqalQAo",
        "outputId": "f71d552a-da2a-4ae0-c233-b280be28879f",
        "colab": {
          "base_uri": "https://localhost:8080/"
        }
      },
      "execution_count": null,
      "outputs": [
        {
          "output_type": "stream",
          "name": "stdout",
          "text": [
            "F1 = 0.8596491228070176\n",
            "AUC = 0.7538461538461538\n",
            "AUC-ROC = 0.5\n",
            "log-loss = 8.502049475037756\n"
          ]
        }
      ]
    },
    {
      "cell_type": "markdown",
      "metadata": {
        "id": "XjgVQ_WTQwH9"
      },
      "source": [
        "# Ejercicio 2.5\n",
        "\n",
        "Compare los resultados con todos los anteriores modelos y eliga ¿Cuál algoritmo con cuáles hiperparámetros es el que tiene mejor rendimiento según la puntuación F1, AUC-ROC y log-loss?"
      ]
    },
    {
      "cell_type": "markdown",
      "source": [
        "Comparando los resultados de los anteriores modelos SVM, se evidenció que el módelo con mejor rendimiento según F1, AUC-ROC y log-loss, fue con el Kernel \"poly\" sin variar los hiperparámetros. Sin embargo, el segundo mejor módelo fue con el Kernel \"poly\" también, pero con los siguientes hiperparámetros:\n",
        "\n",
        "* C: 1000\n",
        "* gamma: 0,01\n",
        "\n",
        " "
      ],
      "metadata": {
        "id": "2EMQHHhUyG_-"
      }
    },
    {
      "cell_type": "markdown",
      "source": [
        "## **Estimación del módelo sin variar los hiperparámetros**"
      ],
      "metadata": {
        "id": "Ah3T1061ZXOC"
      }
    },
    {
      "cell_type": "code",
      "source": [
        "mod2 = SVC(kernel='poly')\n",
        "mod2.fit(X_train, y_train)"
      ],
      "metadata": {
        "colab": {
          "base_uri": "https://localhost:8080/"
        },
        "id": "w5k1afiIcle0",
        "outputId": "5a7dcab8-7b51-4a13-ed64-52bfda6d4238"
      },
      "execution_count": 46,
      "outputs": [
        {
          "output_type": "execute_result",
          "data": {
            "text/plain": [
              "SVC(kernel='poly')"
            ]
          },
          "metadata": {},
          "execution_count": 46
        }
      ]
    },
    {
      "cell_type": "markdown",
      "source": [
        "Predicciones"
      ],
      "metadata": {
        "id": "5b3E2ALidKh6"
      }
    },
    {
      "cell_type": "code",
      "source": [
        "svc_pred2 = mod2.predict(X_test)"
      ],
      "metadata": {
        "id": "9Q2GyiJqctBf"
      },
      "execution_count": 47,
      "outputs": []
    },
    {
      "cell_type": "markdown",
      "source": [
        "Métricas de evaluación"
      ],
      "metadata": {
        "id": "N8WnjDHFdMqI"
      }
    },
    {
      "cell_type": "code",
      "source": [
        "print(\"F1 =\", f1_score(y_test, svc_pred2))\n",
        "print(\"AUC =\", accuracy_score(y_test, svc_pred2))\n",
        "print(\"AUC-ROC =\", roc_auc_score(y_test, svc_pred2))\n",
        "print(\"log-loss =\", log_loss(y_test, svc_pred2))"
      ],
      "metadata": {
        "colab": {
          "base_uri": "https://localhost:8080/"
        },
        "id": "YI3R28Zkcv6n",
        "outputId": "feac71f8-dab5-4cb4-ae0d-d495b911de0a"
      },
      "execution_count": 48,
      "outputs": [
        {
          "output_type": "stream",
          "name": "stdout",
          "text": [
            "F1 = 0.9969450101832993\n",
            "AUC = 0.9953846153846154\n",
            "AUC-ROC = 0.9916772959183673\n",
            "log-loss = 0.15941281258201256\n"
          ]
        }
      ]
    },
    {
      "cell_type": "markdown",
      "source": [
        "## **Estimación del módelo variando los hiperparámetros**"
      ],
      "metadata": {
        "id": "ApXbk9kgc9b1"
      }
    },
    {
      "cell_type": "code",
      "source": [
        "mod17 = SVC(kernel='poly', C=1000, gamma=0.01)\n",
        "mod17.fit(X_train, y_train)"
      ],
      "metadata": {
        "colab": {
          "base_uri": "https://localhost:8080/"
        },
        "id": "Vlu-IuxlZayo",
        "outputId": "18810269-7fe6-4f84-d69c-7164f9d5ceaf"
      },
      "execution_count": 49,
      "outputs": [
        {
          "output_type": "execute_result",
          "data": {
            "text/plain": [
              "SVC(C=1000, gamma=0.01, kernel='poly')"
            ]
          },
          "metadata": {},
          "execution_count": 49
        }
      ]
    },
    {
      "cell_type": "markdown",
      "source": [
        "Predicciones"
      ],
      "metadata": {
        "id": "beTDhae0Z_U7"
      }
    },
    {
      "cell_type": "code",
      "source": [
        "svc_pred17 = mod17.predict(X_test)"
      ],
      "metadata": {
        "id": "pR23e3xMZg-F"
      },
      "execution_count": 41,
      "outputs": []
    },
    {
      "cell_type": "markdown",
      "source": [
        "Métricas de evaluación"
      ],
      "metadata": {
        "id": "MQ9-TGj2aBlU"
      }
    },
    {
      "cell_type": "code",
      "source": [
        "print(\"F1 =\", f1_score(y_test, svc_pred17))\n",
        "print(\"AUC =\", accuracy_score(y_test, svc_pred17))\n",
        "print(\"AUC-ROC =\", roc_auc_score(y_test, svc_pred17))\n",
        "print(\"log-loss =\", log_loss(y_test, svc_pred17))"
      ],
      "metadata": {
        "colab": {
          "base_uri": "https://localhost:8080/"
        },
        "id": "RCuPvZh_Zj-d",
        "outputId": "156deb27-a0aa-43a7-9f67-655b5ef5b586"
      },
      "execution_count": 42,
      "outputs": [
        {
          "output_type": "stream",
          "name": "stdout",
          "text": [
            "F1 = 0.9964340295466124\n",
            "AUC = 0.9946153846153846\n",
            "AUC-ROC = 0.9911670918367347\n",
            "log-loss = 0.18598110211655922\n"
          ]
        }
      ]
    }
  ]
}