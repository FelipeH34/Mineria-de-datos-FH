{
 "cells": [
  {
   "cell_type": "code",
   "execution_count": 122,
   "id": "a58093e9",
   "metadata": {},
   "outputs": [
    {
     "name": "stdout",
     "output_type": "stream",
     "text": [
      "Ingrese los grados Fahrenheit: 34\n",
      "La transformaciòn a grados centìgrados es: 1.1111111111111112 °C\n"
     ]
    }
   ],
   "source": [
    "##PUNTO 1##\n",
    "\n",
    "f = int(input(\"Ingrese los grados Fahrenheit: \"))\n",
    "c = (f-32)*5/9\n",
    "print(\"La transformaciòn a grados centìgrados es:\",c,\"°C\")"
   ]
  },
  {
   "cell_type": "code",
   "execution_count": 123,
   "id": "e82ba990",
   "metadata": {},
   "outputs": [
    {
     "name": "stdout",
     "output_type": "stream",
     "text": [
      "Ingrese su contraseña: Felipe34%\n",
      "Su contraseña es valida\n"
     ]
    }
   ],
   "source": [
    "##PUNTO 2##\n",
    "\n",
    "import re\n",
    "contraseña = input(\"Ingrese su contraseña: \")\n",
    "validacion = True\n",
    "while validacion :\n",
    "    if not re.search(\"[0-9]\",contraseña):\n",
    "        print(\"Falta al menos un carácter numérico\")\n",
    "        break \n",
    "    elif not re.search(\"[*_!$%]\",contraseña):\n",
    "        print(\"Falta al menos uno de los siguientes carácter especiales : *, _ , !, $, % \")\n",
    "        break\n",
    "    elif not re.search(\"[A-Z]\",contraseña):\n",
    "        print(\"Falta al menos una mayúscula\")\n",
    "        break\n",
    "    else:\n",
    "        print(\"Su contraseña es valida\")\n",
    "        break"
   ]
  },
  {
   "cell_type": "code",
   "execution_count": 124,
   "id": "4eed55a4",
   "metadata": {},
   "outputs": [
    {
     "name": "stdout",
     "output_type": "stream",
     "text": [
      "(50000, 30000, 80000)\n",
      "(50000, 30000, 20000)\n",
      "(50000, 30000, 100000)\n",
      "(50000, 30000, 40000)\n",
      "(50000, 80000, 20000)\n",
      "(50000, 80000, 100000)\n",
      "(50000, 80000, 40000)\n",
      "(50000, 20000, 100000)\n",
      "(50000, 20000, 40000)\n",
      "(50000, 100000, 40000)\n",
      "(30000, 80000, 20000)\n",
      "(30000, 80000, 100000)\n",
      "(30000, 80000, 40000)\n",
      "(30000, 20000, 100000)\n",
      "(30000, 20000, 40000)\n",
      "(30000, 100000, 40000)\n",
      "(80000, 20000, 100000)\n",
      "(80000, 20000, 40000)\n",
      "(80000, 100000, 40000)\n",
      "(20000, 100000, 40000)\n"
     ]
    }
   ],
   "source": [
    "##PUNTO 3##\n",
    "\n",
    "#1-Combinaciones posibles\n",
    "Libro_1 = 50000\n",
    "Libro_2 = 30000\n",
    "Libro_3 = 80000\n",
    "Libro_4 = 20000\n",
    "Libro_5 = 100000\n",
    "Libro_6 = 40000\n",
    "\n",
    "from itertools import combinations\n",
    "com = [Libro_1, Libro_2, Libro_3, Libro_4, Libro_5, Libro_6]\n",
    "libros = combinations(com, 3)\n",
    "for i in list(libros):\n",
    "    print (i)"
   ]
  },
  {
   "cell_type": "code",
   "execution_count": 2,
   "id": "9e9207e3",
   "metadata": {},
   "outputs": [
    {
     "name": "stdout",
     "output_type": "stream",
     "text": [
      "Suma de combinaciones\n",
      "160000\n",
      "100000\n",
      "180000\n",
      "120000\n",
      "150000\n",
      "230000\n",
      "170000\n",
      "170000\n",
      "110000\n",
      "190000\n",
      "130000\n",
      "210000\n",
      "150000\n",
      "150000\n",
      "90000\n",
      "170000\n",
      "200000\n",
      "140000\n",
      "220000\n",
      "160000\n",
      "Primera combinación de libros: Libros 2,4 y 6 ~ combinación 2\n",
      "Segunda combinación de libros: Libros 1,3 y 5 ~ combinación 6\n",
      "Total dinero ahorrado: 70000\n"
     ]
    }
   ],
   "source": [
    "#Desarrollo del problema \n",
    "\n",
    "print(\"Suma de combinaciones\")\n",
    "libros =  [(50000,30000, 80000),\n",
    "          (50000, 30000, 20000),\n",
    "          (50000, 30000, 100000),\n",
    "          (50000, 30000, 40000),\n",
    "          (50000, 80000, 20000),\n",
    "          (50000, 80000, 100000),\n",
    "          (50000, 80000, 40000),\n",
    "          (50000, 20000, 100000),\n",
    "          (50000, 20000, 40000),\n",
    "          (50000, 100000, 40000),\n",
    "          (30000, 80000, 20000),\n",
    "          (30000, 80000, 100000),\n",
    "          (30000, 80000, 40000),\n",
    "          (30000, 20000, 100000),\n",
    "          (30000, 20000, 40000),\n",
    "          (30000, 100000, 40000),\n",
    "          (80000, 20000, 100000),\n",
    "          (80000, 20000, 40000),\n",
    "          (80000, 100000, 40000),\n",
    "          (20000, 100000, 40000)]\n",
    "\n",
    "for i in libros:\n",
    "    print(sum(i)) \n",
    "\n",
    "import pandas as pd\n",
    "libros = pd.Series([50000, 30000, 80000, 20000, 100000, 40000], \n",
    "                   index = [\"Libro 1\",\"Libro 2\",\"Libro 3\",\"Libro 4\",\"Libro 5\",\"Libro 6\"])\n",
    "\n",
    "print(\"Primera combinación de libros: Libros 2,4 y 6 ~ combinación 2\")\n",
    "print(\"Segunda combinación de libros: Libros 1,3 y 5 ~ combinación 6\" )\n",
    "print(\"Total dinero ahorrado:\", libros[1]+libros[3]+libros[5]+libros[0]+libros[2]+ \n",
    "                                libros[4]-libros[1]-libros[5]-libros[2]-libros[4])\n",
    "\n"
   ]
  }
 ],
 "metadata": {
  "kernelspec": {
   "display_name": "Python 3 (ipykernel)",
   "language": "python",
   "name": "python3"
  },
  "language_info": {
   "codemirror_mode": {
    "name": "ipython",
    "version": 3
   },
   "file_extension": ".py",
   "mimetype": "text/x-python",
   "name": "python",
   "nbconvert_exporter": "python",
   "pygments_lexer": "ipython3",
   "version": "3.9.12"
  }
 },
 "nbformat": 4,
 "nbformat_minor": 5
}
